{
 "metadata": {
  "language_info": {
   "codemirror_mode": {
    "name": "ipython",
    "version": 3
   },
   "file_extension": ".py",
   "mimetype": "text/x-python",
   "name": "python",
   "nbconvert_exporter": "python",
   "pygments_lexer": "ipython3",
   "version": "3.8.8"
  },
  "orig_nbformat": 2,
  "kernelspec": {
   "name": "python388jvsc74a57bd0f616aa4eeca7f93372e342ce7c95154d6f632b5981175c5a22dab1e5b2de879c",
   "display_name": "Python 3.8.8 64-bit"
  }
 },
 "nbformat": 4,
 "nbformat_minor": 2,
 "cells": [
  {
   "cell_type": "code",
   "execution_count": 87,
   "metadata": {},
   "outputs": [],
   "source": [
    "import pandas as pd\n",
    "from pathlib import Path\n",
    "from statsmodels.tsa.arima.model import ARIMA"
   ]
  },
  {
   "cell_type": "code",
   "execution_count": 30,
   "metadata": {},
   "outputs": [],
   "source": [
    "OpenWeatherMap = pd.read_csv(Path('Materials/OpenWeatherMap/283bc5149218e9c8104cbc4d2369cd43.csv'))\n",
    "OpenWeatherMap = OpenWeatherMap.drop(columns=['lat','lon','weather_icon'])\n",
    "OpenWeatherMap.dt = OpenWeatherMap.dt.astype('datetime64[s]')"
   ]
  },
  {
   "cell_type": "code",
   "execution_count": 157,
   "metadata": {},
   "outputs": [
    {
     "output_type": "execute_result",
     "data": {
      "text/plain": [
       "Index(['dt', 'dt_iso', 'timezone', 'city_name', 'temp', 'feels_like',\n",
       "       'temp_min', 'temp_max', 'pressure', 'sea_level', 'grnd_level',\n",
       "       'humidity', 'wind_speed', 'wind_deg', 'rain_1h', 'rain_3h', 'snow_1h',\n",
       "       'snow_3h', 'clouds_all', 'weather_id', 'weather_main',\n",
       "       'weather_description'],\n",
       "      dtype='object')"
      ]
     },
     "metadata": {},
     "execution_count": 157
    }
   ],
   "source": [
    "OpenWeatherMap.columns"
   ]
  },
  {
   "cell_type": "code",
   "execution_count": 158,
   "metadata": {},
   "outputs": [
    {
     "output_type": "stream",
     "name": "stderr",
     "text": [
      "<ipython-input-158-3fce9c1028be>:2: SettingWithCopyWarning: \nA value is trying to be set on a copy of a slice from a DataFrame.\nTry using .loc[row_indexer,col_indexer] = value instead\n\nSee the caveats in the documentation: https://pandas.pydata.org/pandas-docs/stable/user_guide/indexing.html#returning-a-view-versus-a-copy\n  amsterdam['temp'] = amsterdam['temp']-273.15\n"
     ]
    }
   ],
   "source": [
    "amsterdam = OpenWeatherMap[[\"dt\",\"temp\",\"temp_min\",\"temp_max\"]]\n",
    "amsterdam['temp'] = amsterdam['temp']-273.15"
   ]
  },
  {
   "cell_type": "code",
   "execution_count": 159,
   "metadata": {},
   "outputs": [],
   "source": [
    "amsterdam = amsterdam.set_index('dt');"
   ]
  },
  {
   "cell_type": "code",
   "execution_count": 160,
   "metadata": {},
   "outputs": [],
   "source": [
    "month_mean = amsterdam[['temp']].resample('M').mean()"
   ]
  },
  {
   "cell_type": "code",
   "execution_count": 161,
   "metadata": {},
   "outputs": [
    {
     "output_type": "execute_result",
     "data": {
      "text/plain": [
       "                temp\n",
       "dt                  \n",
       "1979-01-31 -2.620793\n",
       "1980-01-31  0.726649\n",
       "1981-01-31  3.331260\n",
       "1982-01-31  1.434301\n",
       "1983-01-31  6.313159"
      ],
      "text/html": "<div>\n<style scoped>\n    .dataframe tbody tr th:only-of-type {\n        vertical-align: middle;\n    }\n\n    .dataframe tbody tr th {\n        vertical-align: top;\n    }\n\n    .dataframe thead th {\n        text-align: right;\n    }\n</style>\n<table border=\"1\" class=\"dataframe\">\n  <thead>\n    <tr style=\"text-align: right;\">\n      <th></th>\n      <th>temp</th>\n    </tr>\n    <tr>\n      <th>dt</th>\n      <th></th>\n    </tr>\n  </thead>\n  <tbody>\n    <tr>\n      <th>1979-01-31</th>\n      <td>-2.620793</td>\n    </tr>\n    <tr>\n      <th>1980-01-31</th>\n      <td>0.726649</td>\n    </tr>\n    <tr>\n      <th>1981-01-31</th>\n      <td>3.331260</td>\n    </tr>\n    <tr>\n      <th>1982-01-31</th>\n      <td>1.434301</td>\n    </tr>\n    <tr>\n      <th>1983-01-31</th>\n      <td>6.313159</td>\n    </tr>\n  </tbody>\n</table>\n</div>"
     },
     "metadata": {},
     "execution_count": 161
    }
   ],
   "source": [
    "month_mean[month_mean.index.month==1].head(5)"
   ]
  },
  {
   "cell_type": "code",
   "execution_count": 162,
   "metadata": {},
   "outputs": [],
   "source": [
    "model = ARIMA(month_mean[:-1], order=(5,1,1))\n",
    "model_fit = model.fit()\n",
    "# forecast\n",
    "result = model_fit.get_forecast()"
   ]
  },
  {
   "cell_type": "code",
   "execution_count": 163,
   "metadata": {},
   "outputs": [],
   "source": [
    "test = month_mean.iloc[-1]"
   ]
  },
  {
   "cell_type": "code",
   "execution_count": 164,
   "metadata": {},
   "outputs": [
    {
     "output_type": "stream",
     "name": "stdout",
     "text": [
      "Expected: 5.003\nForecast: 0.442\nStandard Error: 1.895\n95% Interval: 1.290 to 8.717\n"
     ]
    }
   ],
   "source": [
    "# summarize forecast and confidence intervals\n",
    "print('Expected: %.3f' % result.predicted_mean)\n",
    "print('Forecast: %.3f' % test[0])\n",
    "print('Standard Error: %.3f' % result.se_mean)\n",
    "ci = result.conf_int(0.05)\n",
    "print('95%% Interval: %.3f to %.3f' % (ci.iloc[0][0], ci.iloc[0][1]))"
   ]
  },
  {
   "cell_type": "code",
   "execution_count": 165,
   "metadata": {},
   "outputs": [],
   "source": [
    "amsterdamjan = amsterdam[amsterdam.index.month==1]"
   ]
  },
  {
   "cell_type": "code",
   "execution_count": 166,
   "metadata": {},
   "outputs": [
    {
     "output_type": "execute_result",
     "data": {
      "text/plain": [
       "<AxesSubplot:>"
      ]
     },
     "metadata": {},
     "execution_count": 166
    },
    {
     "output_type": "display_data",
     "data": {
      "text/plain": "<Figure size 432x288 with 1 Axes>",
      "image/svg+xml": "<?xml version=\"1.0\" encoding=\"utf-8\" standalone=\"no\"?>\r\n<!DOCTYPE svg PUBLIC \"-//W3C//DTD SVG 1.1//EN\"\r\n  \"http://www.w3.org/Graphics/SVG/1.1/DTD/svg11.dtd\">\r\n<svg height=\"248.518125pt\" version=\"1.1\" viewBox=\"0 0 384.939035 248.518125\" width=\"384.939035pt\" xmlns=\"http://www.w3.org/2000/svg\" xmlns:xlink=\"http://www.w3.org/1999/xlink\">\r\n <metadata>\r\n  <rdf:RDF xmlns:cc=\"http://creativecommons.org/ns#\" xmlns:dc=\"http://purl.org/dc/elements/1.1/\" xmlns:rdf=\"http://www.w3.org/1999/02/22-rdf-syntax-ns#\">\r\n   <cc:Work>\r\n    <dc:type rdf:resource=\"http://purl.org/dc/dcmitype/StillImage\"/>\r\n    <dc:date>2021-05-03T18:36:51.991873</dc:date>\r\n    <dc:format>image/svg+xml</dc:format>\r\n    <dc:creator>\r\n     <cc:Agent>\r\n      <dc:title>Matplotlib v3.4.1, https://matplotlib.org/</dc:title>\r\n     </cc:Agent>\r\n    </dc:creator>\r\n   </cc:Work>\r\n  </rdf:RDF>\r\n </metadata>\r\n <defs>\r\n  <style type=\"text/css\">*{stroke-linecap:butt;stroke-linejoin:round;}</style>\r\n </defs>\r\n <g id=\"figure_1\">\r\n  <g id=\"patch_1\">\r\n   <path d=\"M -0 248.518125 \r\nL 384.939035 248.518125 \r\nL 384.939035 0 \r\nL -0 0 \r\nz\r\n\" style=\"fill:none;\"/>\r\n  </g>\r\n  <g id=\"axes_1\">\r\n   <g id=\"patch_2\">\r\n    <path d=\"M 39.65 224.64 \r\nL 374.45 224.64 \r\nL 374.45 7.2 \r\nL 39.65 7.2 \r\nz\r\n\" style=\"fill:#ffffff;\"/>\r\n   </g>\r\n   <g id=\"patch_3\">\r\n    <path clip-path=\"url(#p1145700e4b)\" d=\"M 54.868182 224.64 \r\nL 57.911818 224.64 \r\nL 57.911818 224.440495 \r\nL 54.868182 224.440495 \r\nz\r\n\" style=\"fill:#1f77b4;\"/>\r\n   </g>\r\n   <g id=\"patch_4\">\r\n    <path clip-path=\"url(#p1145700e4b)\" d=\"M 57.911818 224.64 \r\nL 60.955455 224.64 \r\nL 60.955455 223.642477 \r\nL 57.911818 223.642477 \r\nz\r\n\" style=\"fill:#1f77b4;\"/>\r\n   </g>\r\n   <g id=\"patch_5\">\r\n    <path clip-path=\"url(#p1145700e4b)\" d=\"M 60.955455 224.64 \r\nL 63.999091 224.64 \r\nL 63.999091 223.442973 \r\nL 60.955455 223.442973 \r\nz\r\n\" style=\"fill:#1f77b4;\"/>\r\n   </g>\r\n   <g id=\"patch_6\">\r\n    <path clip-path=\"url(#p1145700e4b)\" d=\"M 63.999091 224.64 \r\nL 67.042727 224.64 \r\nL 67.042727 221.846936 \r\nL 63.999091 221.846936 \r\nz\r\n\" style=\"fill:#1f77b4;\"/>\r\n   </g>\r\n   <g id=\"patch_7\">\r\n    <path clip-path=\"url(#p1145700e4b)\" d=\"M 67.042727 224.64 \r\nL 70.086364 224.64 \r\nL 70.086364 223.642477 \r\nL 67.042727 223.642477 \r\nz\r\n\" style=\"fill:#1f77b4;\"/>\r\n   </g>\r\n   <g id=\"patch_8\">\r\n    <path clip-path=\"url(#p1145700e4b)\" d=\"M 70.086364 224.64 \r\nL 73.13 224.64 \r\nL 73.13 224.041486 \r\nL 70.086364 224.041486 \r\nz\r\n\" style=\"fill:#1f77b4;\"/>\r\n   </g>\r\n   <g id=\"patch_9\">\r\n    <path clip-path=\"url(#p1145700e4b)\" d=\"M 73.13 224.64 \r\nL 76.173636 224.64 \r\nL 76.173636 223.442973 \r\nL 73.13 223.442973 \r\nz\r\n\" style=\"fill:#1f77b4;\"/>\r\n   </g>\r\n   <g id=\"patch_10\">\r\n    <path clip-path=\"url(#p1145700e4b)\" d=\"M 76.173636 224.64 \r\nL 79.217273 224.64 \r\nL 79.217273 223.043964 \r\nL 76.173636 223.043964 \r\nz\r\n\" style=\"fill:#1f77b4;\"/>\r\n   </g>\r\n   <g id=\"patch_11\">\r\n    <path clip-path=\"url(#p1145700e4b)\" d=\"M 79.217273 224.64 \r\nL 82.260909 224.64 \r\nL 82.260909 223.841982 \r\nL 79.217273 223.841982 \r\nz\r\n\" style=\"fill:#1f77b4;\"/>\r\n   </g>\r\n   <g id=\"patch_12\">\r\n    <path clip-path=\"url(#p1145700e4b)\" d=\"M 82.260909 224.64 \r\nL 85.304545 224.64 \r\nL 85.304545 222.44545 \r\nL 82.260909 222.44545 \r\nz\r\n\" style=\"fill:#1f77b4;\"/>\r\n   </g>\r\n   <g id=\"patch_13\">\r\n    <path clip-path=\"url(#p1145700e4b)\" d=\"M 85.304545 224.64 \r\nL 88.348182 224.64 \r\nL 88.348182 221.647432 \r\nL 85.304545 221.647432 \r\nz\r\n\" style=\"fill:#1f77b4;\"/>\r\n   </g>\r\n   <g id=\"patch_14\">\r\n    <path clip-path=\"url(#p1145700e4b)\" d=\"M 88.348182 224.64 \r\nL 91.391818 224.64 \r\nL 91.391818 220.849414 \r\nL 88.348182 220.849414 \r\nz\r\n\" style=\"fill:#1f77b4;\"/>\r\n   </g>\r\n   <g id=\"patch_15\">\r\n    <path clip-path=\"url(#p1145700e4b)\" d=\"M 91.391818 224.64 \r\nL 94.435455 224.64 \r\nL 94.435455 220.450405 \r\nL 91.391818 220.450405 \r\nz\r\n\" style=\"fill:#1f77b4;\"/>\r\n   </g>\r\n   <g id=\"patch_16\">\r\n    <path clip-path=\"url(#p1145700e4b)\" d=\"M 94.435455 224.64 \r\nL 97.479091 224.64 \r\nL 97.479091 220.649909 \r\nL 94.435455 220.649909 \r\nz\r\n\" style=\"fill:#1f77b4;\"/>\r\n   </g>\r\n   <g id=\"patch_17\">\r\n    <path clip-path=\"url(#p1145700e4b)\" d=\"M 97.479091 224.64 \r\nL 100.522727 224.64 \r\nL 100.522727 219.452882 \r\nL 97.479091 219.452882 \r\nz\r\n\" style=\"fill:#1f77b4;\"/>\r\n   </g>\r\n   <g id=\"patch_18\">\r\n    <path clip-path=\"url(#p1145700e4b)\" d=\"M 100.522727 224.64 \r\nL 103.566364 224.64 \r\nL 103.566364 217.856846 \r\nL 100.522727 217.856846 \r\nz\r\n\" style=\"fill:#1f77b4;\"/>\r\n   </g>\r\n   <g id=\"patch_19\">\r\n    <path clip-path=\"url(#p1145700e4b)\" d=\"M 103.566364 224.64 \r\nL 106.61 224.64 \r\nL 106.61 218.05635 \r\nL 103.566364 218.05635 \r\nz\r\n\" style=\"fill:#1f77b4;\"/>\r\n   </g>\r\n   <g id=\"patch_20\">\r\n    <path clip-path=\"url(#p1145700e4b)\" d=\"M 106.61 224.64 \r\nL 109.653636 224.64 \r\nL 109.653636 218.455359 \r\nL 106.61 218.455359 \r\nz\r\n\" style=\"fill:#1f77b4;\"/>\r\n   </g>\r\n   <g id=\"patch_21\">\r\n    <path clip-path=\"url(#p1145700e4b)\" d=\"M 109.653636 224.64 \r\nL 112.697273 224.64 \r\nL 112.697273 214.664773 \r\nL 109.653636 214.664773 \r\nz\r\n\" style=\"fill:#1f77b4;\"/>\r\n   </g>\r\n   <g id=\"patch_22\">\r\n    <path clip-path=\"url(#p1145700e4b)\" d=\"M 112.697273 224.64 \r\nL 115.740909 224.64 \r\nL 115.740909 218.05635 \r\nL 112.697273 218.05635 \r\nz\r\n\" style=\"fill:#1f77b4;\"/>\r\n   </g>\r\n   <g id=\"patch_23\">\r\n    <path clip-path=\"url(#p1145700e4b)\" d=\"M 115.740909 224.64 \r\nL 118.784545 224.64 \r\nL 118.784545 217.457836 \r\nL 115.740909 217.457836 \r\nz\r\n\" style=\"fill:#1f77b4;\"/>\r\n   </g>\r\n   <g id=\"patch_24\">\r\n    <path clip-path=\"url(#p1145700e4b)\" d=\"M 118.784545 224.64 \r\nL 121.828182 224.64 \r\nL 121.828182 216.460314 \r\nL 118.784545 216.460314 \r\nz\r\n\" style=\"fill:#1f77b4;\"/>\r\n   </g>\r\n   <g id=\"patch_25\">\r\n    <path clip-path=\"url(#p1145700e4b)\" d=\"M 121.828182 224.64 \r\nL 124.871818 224.64 \r\nL 124.871818 212.669727 \r\nL 121.828182 212.669727 \r\nz\r\n\" style=\"fill:#1f77b4;\"/>\r\n   </g>\r\n   <g id=\"patch_26\">\r\n    <path clip-path=\"url(#p1145700e4b)\" d=\"M 124.871818 224.64 \r\nL 127.915455 224.64 \r\nL 127.915455 211.073691 \r\nL 124.871818 211.073691 \r\nz\r\n\" style=\"fill:#1f77b4;\"/>\r\n   </g>\r\n   <g id=\"patch_27\">\r\n    <path clip-path=\"url(#p1145700e4b)\" d=\"M 127.915455 224.64 \r\nL 130.959091 224.64 \r\nL 130.959091 211.4727 \r\nL 127.915455 211.4727 \r\nz\r\n\" style=\"fill:#1f77b4;\"/>\r\n   </g>\r\n   <g id=\"patch_28\">\r\n    <path clip-path=\"url(#p1145700e4b)\" d=\"M 130.959091 224.64 \r\nL 134.002727 224.64 \r\nL 134.002727 209.078646 \r\nL 130.959091 209.078646 \r\nz\r\n\" style=\"fill:#1f77b4;\"/>\r\n   </g>\r\n   <g id=\"patch_29\">\r\n    <path clip-path=\"url(#p1145700e4b)\" d=\"M 134.002727 224.64 \r\nL 137.046364 224.64 \r\nL 137.046364 211.073691 \r\nL 134.002727 211.073691 \r\nz\r\n\" style=\"fill:#1f77b4;\"/>\r\n   </g>\r\n   <g id=\"patch_30\">\r\n    <path clip-path=\"url(#p1145700e4b)\" d=\"M 137.046364 224.64 \r\nL 140.09 224.64 \r\nL 140.09 207.881618 \r\nL 137.046364 207.881618 \r\nz\r\n\" style=\"fill:#1f77b4;\"/>\r\n   </g>\r\n   <g id=\"patch_31\">\r\n    <path clip-path=\"url(#p1145700e4b)\" d=\"M 140.09 224.64 \r\nL 143.133636 224.64 \r\nL 143.133636 201.896482 \r\nL 140.09 201.896482 \r\nz\r\n\" style=\"fill:#1f77b4;\"/>\r\n   </g>\r\n   <g id=\"patch_32\">\r\n    <path clip-path=\"url(#p1145700e4b)\" d=\"M 143.133636 224.64 \r\nL 146.177273 224.64 \r\nL 146.177273 202.494996 \r\nL 143.133636 202.494996 \r\nz\r\n\" style=\"fill:#1f77b4;\"/>\r\n   </g>\r\n   <g id=\"patch_33\">\r\n    <path clip-path=\"url(#p1145700e4b)\" d=\"M 146.177273 224.64 \r\nL 149.220909 224.64 \r\nL 149.220909 204.689546 \r\nL 146.177273 204.689546 \r\nz\r\n\" style=\"fill:#1f77b4;\"/>\r\n   </g>\r\n   <g id=\"patch_34\">\r\n    <path clip-path=\"url(#p1145700e4b)\" d=\"M 149.220909 224.64 \r\nL 152.264545 224.64 \r\nL 152.264545 203.492519 \r\nL 149.220909 203.492519 \r\nz\r\n\" style=\"fill:#1f77b4;\"/>\r\n   </g>\r\n   <g id=\"patch_35\">\r\n    <path clip-path=\"url(#p1145700e4b)\" d=\"M 152.264545 224.64 \r\nL 155.308182 224.64 \r\nL 155.308182 198.504905 \r\nL 152.264545 198.504905 \r\nz\r\n\" style=\"fill:#1f77b4;\"/>\r\n   </g>\r\n   <g id=\"patch_36\">\r\n    <path clip-path=\"url(#p1145700e4b)\" d=\"M 155.308182 224.64 \r\nL 158.351818 224.64 \r\nL 158.351818 195.113328 \r\nL 155.308182 195.113328 \r\nz\r\n\" style=\"fill:#1f77b4;\"/>\r\n   </g>\r\n   <g id=\"patch_37\">\r\n    <path clip-path=\"url(#p1145700e4b)\" d=\"M 158.351818 224.64 \r\nL 161.395455 224.64 \r\nL 161.395455 194.31531 \r\nL 158.351818 194.31531 \r\nz\r\n\" style=\"fill:#1f77b4;\"/>\r\n   </g>\r\n   <g id=\"patch_38\">\r\n    <path clip-path=\"url(#p1145700e4b)\" d=\"M 161.395455 224.64 \r\nL 164.439091 224.64 \r\nL 164.439091 191.721751 \r\nL 161.395455 191.721751 \r\nz\r\n\" style=\"fill:#1f77b4;\"/>\r\n   </g>\r\n   <g id=\"patch_39\">\r\n    <path clip-path=\"url(#p1145700e4b)\" d=\"M 164.439091 224.64 \r\nL 167.482727 224.64 \r\nL 167.482727 186.734137 \r\nL 164.439091 186.734137 \r\nz\r\n\" style=\"fill:#1f77b4;\"/>\r\n   </g>\r\n   <g id=\"patch_40\">\r\n    <path clip-path=\"url(#p1145700e4b)\" d=\"M 167.482727 224.64 \r\nL 170.526364 224.64 \r\nL 170.526364 184.539587 \r\nL 167.482727 184.539587 \r\nz\r\n\" style=\"fill:#1f77b4;\"/>\r\n   </g>\r\n   <g id=\"patch_41\">\r\n    <path clip-path=\"url(#p1145700e4b)\" d=\"M 170.526364 224.64 \r\nL 173.57 224.64 \r\nL 173.57 187.532155 \r\nL 170.526364 187.532155 \r\nz\r\n\" style=\"fill:#1f77b4;\"/>\r\n   </g>\r\n   <g id=\"patch_42\">\r\n    <path clip-path=\"url(#p1145700e4b)\" d=\"M 173.57 224.64 \r\nL 176.613636 224.64 \r\nL 176.613636 182.943551 \r\nL 173.57 182.943551 \r\nz\r\n\" style=\"fill:#1f77b4;\"/>\r\n   </g>\r\n   <g id=\"patch_43\">\r\n    <path clip-path=\"url(#p1145700e4b)\" d=\"M 176.613636 224.64 \r\nL 179.657273 224.64 \r\nL 179.657273 176.359901 \r\nL 176.613636 176.359901 \r\nz\r\n\" style=\"fill:#1f77b4;\"/>\r\n   </g>\r\n   <g id=\"patch_44\">\r\n    <path clip-path=\"url(#p1145700e4b)\" d=\"M 179.657273 224.64 \r\nL 182.700909 224.64 \r\nL 182.700909 178.354946 \r\nL 179.657273 178.354946 \r\nz\r\n\" style=\"fill:#1f77b4;\"/>\r\n   </g>\r\n   <g id=\"patch_45\">\r\n    <path clip-path=\"url(#p1145700e4b)\" d=\"M 182.700909 224.64 \r\nL 185.744545 224.64 \r\nL 185.744545 177.357424 \r\nL 182.700909 177.357424 \r\nz\r\n\" style=\"fill:#1f77b4;\"/>\r\n   </g>\r\n   <g id=\"patch_46\">\r\n    <path clip-path=\"url(#p1145700e4b)\" d=\"M 185.744545 224.64 \r\nL 188.788182 224.64 \r\nL 188.788182 160.399538 \r\nL 185.744545 160.399538 \r\nz\r\n\" style=\"fill:#1f77b4;\"/>\r\n   </g>\r\n   <g id=\"patch_47\">\r\n    <path clip-path=\"url(#p1145700e4b)\" d=\"M 188.788182 224.64 \r\nL 191.831818 224.64 \r\nL 191.831818 161.39706 \r\nL 188.788182 161.39706 \r\nz\r\n\" style=\"fill:#1f77b4;\"/>\r\n   </g>\r\n   <g id=\"patch_48\">\r\n    <path clip-path=\"url(#p1145700e4b)\" d=\"M 191.831818 224.64 \r\nL 194.875455 224.64 \r\nL 194.875455 163.392106 \r\nL 191.831818 163.392106 \r\nz\r\n\" style=\"fill:#1f77b4;\"/>\r\n   </g>\r\n   <g id=\"patch_49\">\r\n    <path clip-path=\"url(#p1145700e4b)\" d=\"M 194.875455 224.64 \r\nL 197.919091 224.64 \r\nL 197.919091 158.005483 \r\nL 194.875455 158.005483 \r\nz\r\n\" style=\"fill:#1f77b4;\"/>\r\n   </g>\r\n   <g id=\"patch_50\">\r\n    <path clip-path=\"url(#p1145700e4b)\" d=\"M 197.919091 224.64 \r\nL 200.962727 224.64 \r\nL 200.962727 146.035211 \r\nL 197.919091 146.035211 \r\nz\r\n\" style=\"fill:#1f77b4;\"/>\r\n   </g>\r\n   <g id=\"patch_51\">\r\n    <path clip-path=\"url(#p1145700e4b)\" d=\"M 200.962727 224.64 \r\nL 204.006364 224.64 \r\nL 204.006364 144.23967 \r\nL 200.962727 144.23967 \r\nz\r\n\" style=\"fill:#1f77b4;\"/>\r\n   </g>\r\n   <g id=\"patch_52\">\r\n    <path clip-path=\"url(#p1145700e4b)\" d=\"M 204.006364 224.64 \r\nL 207.05 224.64 \r\nL 207.05 147.032733 \r\nL 204.006364 147.032733 \r\nz\r\n\" style=\"fill:#1f77b4;\"/>\r\n   </g>\r\n   <g id=\"patch_53\">\r\n    <path clip-path=\"url(#p1145700e4b)\" d=\"M 207.05 224.64 \r\nL 210.093636 224.64 \r\nL 210.093636 131.471379 \r\nL 207.05 131.471379 \r\nz\r\n\" style=\"fill:#1f77b4;\"/>\r\n   </g>\r\n   <g id=\"patch_54\">\r\n    <path clip-path=\"url(#p1145700e4b)\" d=\"M 210.093636 224.64 \r\nL 213.137273 224.64 \r\nL 213.137273 120.498629 \r\nL 210.093636 120.498629 \r\nz\r\n\" style=\"fill:#1f77b4;\"/>\r\n   </g>\r\n   <g id=\"patch_55\">\r\n    <path clip-path=\"url(#p1145700e4b)\" d=\"M 213.137273 224.64 \r\nL 216.180909 224.64 \r\nL 216.180909 129.077325 \r\nL 213.137273 129.077325 \r\nz\r\n\" style=\"fill:#1f77b4;\"/>\r\n   </g>\r\n   <g id=\"patch_56\">\r\n    <path clip-path=\"url(#p1145700e4b)\" d=\"M 216.180909 224.64 \r\nL 219.224545 224.64 \r\nL 219.224545 111.520925 \r\nL 216.180909 111.520925 \r\nz\r\n\" style=\"fill:#1f77b4;\"/>\r\n   </g>\r\n   <g id=\"patch_57\">\r\n    <path clip-path=\"url(#p1145700e4b)\" d=\"M 219.224545 224.64 \r\nL 222.268182 224.64 \r\nL 222.268182 96.757589 \r\nL 219.224545 96.757589 \r\nz\r\n\" style=\"fill:#1f77b4;\"/>\r\n   </g>\r\n   <g id=\"patch_58\">\r\n    <path clip-path=\"url(#p1145700e4b)\" d=\"M 222.268182 224.64 \r\nL 225.311818 224.64 \r\nL 225.311818 109.326375 \r\nL 222.268182 109.326375 \r\nz\r\n\" style=\"fill:#1f77b4;\"/>\r\n   </g>\r\n   <g id=\"patch_59\">\r\n    <path clip-path=\"url(#p1145700e4b)\" d=\"M 225.311818 224.64 \r\nL 228.355455 224.64 \r\nL 228.355455 94.762543 \r\nL 225.311818 94.762543 \r\nz\r\n\" style=\"fill:#1f77b4;\"/>\r\n   </g>\r\n   <g id=\"patch_60\">\r\n    <path clip-path=\"url(#p1145700e4b)\" d=\"M 228.355455 224.64 \r\nL 231.399091 224.64 \r\nL 231.399091 84.986821 \r\nL 228.355455 84.986821 \r\nz\r\n\" style=\"fill:#1f77b4;\"/>\r\n   </g>\r\n   <g id=\"patch_61\">\r\n    <path clip-path=\"url(#p1145700e4b)\" d=\"M 231.399091 224.64 \r\nL 234.442727 224.64 \r\nL 234.442727 78.80218 \r\nL 231.399091 78.80218 \r\nz\r\n\" style=\"fill:#1f77b4;\"/>\r\n   </g>\r\n   <g id=\"patch_62\">\r\n    <path clip-path=\"url(#p1145700e4b)\" d=\"M 234.442727 224.64 \r\nL 237.486364 224.64 \r\nL 237.486364 89.176416 \r\nL 234.442727 89.176416 \r\nz\r\n\" style=\"fill:#1f77b4;\"/>\r\n   </g>\r\n   <g id=\"patch_63\">\r\n    <path clip-path=\"url(#p1145700e4b)\" d=\"M 237.486364 224.64 \r\nL 240.53 224.64 \r\nL 240.53 86.782362 \r\nL 237.486364 86.782362 \r\nz\r\n\" style=\"fill:#1f77b4;\"/>\r\n   </g>\r\n   <g id=\"patch_64\">\r\n    <path clip-path=\"url(#p1145700e4b)\" d=\"M 240.53 224.64 \r\nL 243.573636 224.64 \r\nL 243.573636 74.213576 \r\nL 240.53 74.213576 \r\nz\r\n\" style=\"fill:#1f77b4;\"/>\r\n   </g>\r\n   <g id=\"patch_65\">\r\n    <path clip-path=\"url(#p1145700e4b)\" d=\"M 243.573636 224.64 \r\nL 246.617273 224.64 \r\nL 246.617273 69.225962 \r\nL 243.573636 69.225962 \r\nz\r\n\" style=\"fill:#1f77b4;\"/>\r\n   </g>\r\n   <g id=\"patch_66\">\r\n    <path clip-path=\"url(#p1145700e4b)\" d=\"M 246.617273 224.64 \r\nL 249.660909 224.64 \r\nL 249.660909 75.809612 \r\nL 246.617273 75.809612 \r\nz\r\n\" style=\"fill:#1f77b4;\"/>\r\n   </g>\r\n   <g id=\"patch_67\">\r\n    <path clip-path=\"url(#p1145700e4b)\" d=\"M 249.660909 224.64 \r\nL 252.704545 224.64 \r\nL 252.704545 79.001685 \r\nL 249.660909 79.001685 \r\nz\r\n\" style=\"fill:#1f77b4;\"/>\r\n   </g>\r\n   <g id=\"patch_68\">\r\n    <path clip-path=\"url(#p1145700e4b)\" d=\"M 252.704545 224.64 \r\nL 255.748182 224.64 \r\nL 255.748182 69.624971 \r\nL 252.704545 69.624971 \r\nz\r\n\" style=\"fill:#1f77b4;\"/>\r\n   </g>\r\n   <g id=\"patch_69\">\r\n    <path clip-path=\"url(#p1145700e4b)\" d=\"M 255.748182 224.64 \r\nL 258.791818 224.64 \r\nL 258.791818 54.861635 \r\nL 255.748182 54.861635 \r\nz\r\n\" style=\"fill:#1f77b4;\"/>\r\n   </g>\r\n   <g id=\"patch_70\">\r\n    <path clip-path=\"url(#p1145700e4b)\" d=\"M 258.791818 224.64 \r\nL 261.835455 224.64 \r\nL 261.835455 60.447762 \r\nL 258.791818 60.447762 \r\nz\r\n\" style=\"fill:#1f77b4;\"/>\r\n   </g>\r\n   <g id=\"patch_71\">\r\n    <path clip-path=\"url(#p1145700e4b)\" d=\"M 261.835455 224.64 \r\nL 264.879091 224.64 \r\nL 264.879091 51.270553 \r\nL 261.835455 51.270553 \r\nz\r\n\" style=\"fill:#1f77b4;\"/>\r\n   </g>\r\n   <g id=\"patch_72\">\r\n    <path clip-path=\"url(#p1145700e4b)\" d=\"M 264.879091 224.64 \r\nL 267.922727 224.64 \r\nL 267.922727 40.098299 \r\nL 264.879091 40.098299 \r\nz\r\n\" style=\"fill:#1f77b4;\"/>\r\n   </g>\r\n   <g id=\"patch_73\">\r\n    <path clip-path=\"url(#p1145700e4b)\" d=\"M 267.922727 224.64 \r\nL 270.966364 224.64 \r\nL 270.966364 35.110685 \r\nL 267.922727 35.110685 \r\nz\r\n\" style=\"fill:#1f77b4;\"/>\r\n   </g>\r\n   <g id=\"patch_74\">\r\n    <path clip-path=\"url(#p1145700e4b)\" d=\"M 270.966364 224.64 \r\nL 274.01 224.64 \r\nL 274.01 17.554286 \r\nL 270.966364 17.554286 \r\nz\r\n\" style=\"fill:#1f77b4;\"/>\r\n   </g>\r\n   <g id=\"patch_75\">\r\n    <path clip-path=\"url(#p1145700e4b)\" d=\"M 274.01 224.64 \r\nL 277.053636 224.64 \r\nL 277.053636 24.33744 \r\nL 274.01 24.33744 \r\nz\r\n\" style=\"fill:#1f77b4;\"/>\r\n   </g>\r\n   <g id=\"patch_76\">\r\n    <path clip-path=\"url(#p1145700e4b)\" d=\"M 277.053636 224.64 \r\nL 280.097273 224.64 \r\nL 280.097273 40.297803 \r\nL 277.053636 40.297803 \r\nz\r\n\" style=\"fill:#1f77b4;\"/>\r\n   </g>\r\n   <g id=\"patch_77\">\r\n    <path clip-path=\"url(#p1145700e4b)\" d=\"M 280.097273 224.64 \r\nL 283.140909 224.64 \r\nL 283.140909 49.275508 \r\nL 280.097273 49.275508 \r\nz\r\n\" style=\"fill:#1f77b4;\"/>\r\n   </g>\r\n   <g id=\"patch_78\">\r\n    <path clip-path=\"url(#p1145700e4b)\" d=\"M 283.140909 224.64 \r\nL 286.184545 224.64 \r\nL 286.184545 44.686903 \r\nL 283.140909 44.686903 \r\nz\r\n\" style=\"fill:#1f77b4;\"/>\r\n   </g>\r\n   <g id=\"patch_79\">\r\n    <path clip-path=\"url(#p1145700e4b)\" d=\"M 286.184545 224.64 \r\nL 289.228182 224.64 \r\nL 289.228182 64.038844 \r\nL 286.184545 64.038844 \r\nz\r\n\" style=\"fill:#1f77b4;\"/>\r\n   </g>\r\n   <g id=\"patch_80\">\r\n    <path clip-path=\"url(#p1145700e4b)\" d=\"M 289.228182 224.64 \r\nL 292.271818 224.64 \r\nL 292.271818 82.592766 \r\nL 289.228182 82.592766 \r\nz\r\n\" style=\"fill:#1f77b4;\"/>\r\n   </g>\r\n   <g id=\"patch_81\">\r\n    <path clip-path=\"url(#p1145700e4b)\" d=\"M 292.271818 224.64 \r\nL 295.315455 224.64 \r\nL 295.315455 78.80218 \r\nL 292.271818 78.80218 \r\nz\r\n\" style=\"fill:#1f77b4;\"/>\r\n   </g>\r\n   <g id=\"patch_82\">\r\n    <path clip-path=\"url(#p1145700e4b)\" d=\"M 295.315455 224.64 \r\nL 298.359091 224.64 \r\nL 298.359091 81.196235 \r\nL 295.315455 81.196235 \r\nz\r\n\" style=\"fill:#1f77b4;\"/>\r\n   </g>\r\n   <g id=\"patch_83\">\r\n    <path clip-path=\"url(#p1145700e4b)\" d=\"M 298.359091 224.64 \r\nL 301.402727 224.64 \r\nL 301.402727 100.149166 \r\nL 298.359091 100.149166 \r\nz\r\n\" style=\"fill:#1f77b4;\"/>\r\n   </g>\r\n   <g id=\"patch_84\">\r\n    <path clip-path=\"url(#p1145700e4b)\" d=\"M 301.402727 224.64 \r\nL 304.446364 224.64 \r\nL 304.446364 117.705566 \r\nL 301.402727 117.705566 \r\nz\r\n\" style=\"fill:#1f77b4;\"/>\r\n   </g>\r\n   <g id=\"patch_85\">\r\n    <path clip-path=\"url(#p1145700e4b)\" d=\"M 304.446364 224.64 \r\nL 307.49 224.64 \r\nL 307.49 124.688225 \r\nL 304.446364 124.688225 \r\nz\r\n\" style=\"fill:#1f77b4;\"/>\r\n   </g>\r\n   <g id=\"patch_86\">\r\n    <path clip-path=\"url(#p1145700e4b)\" d=\"M 307.49 224.64 \r\nL 310.533636 224.64 \r\nL 310.533636 129.675838 \r\nL 307.49 129.675838 \r\nz\r\n\" style=\"fill:#1f77b4;\"/>\r\n   </g>\r\n   <g id=\"patch_87\">\r\n    <path clip-path=\"url(#p1145700e4b)\" d=\"M 310.533636 224.64 \r\nL 313.577273 224.64 \r\nL 313.577273 147.032733 \r\nL 310.533636 147.032733 \r\nz\r\n\" style=\"fill:#1f77b4;\"/>\r\n   </g>\r\n   <g id=\"patch_88\">\r\n    <path clip-path=\"url(#p1145700e4b)\" d=\"M 313.577273 224.64 \r\nL 316.620909 224.64 \r\nL 316.620909 164.589133 \r\nL 313.577273 164.589133 \r\nz\r\n\" style=\"fill:#1f77b4;\"/>\r\n   </g>\r\n   <g id=\"patch_89\">\r\n    <path clip-path=\"url(#p1145700e4b)\" d=\"M 316.620909 224.64 \r\nL 319.664545 224.64 \r\nL 319.664545 161.796069 \r\nL 316.620909 161.796069 \r\nz\r\n\" style=\"fill:#1f77b4;\"/>\r\n   </g>\r\n   <g id=\"patch_90\">\r\n    <path clip-path=\"url(#p1145700e4b)\" d=\"M 319.664545 224.64 \r\nL 322.708182 224.64 \r\nL 322.708182 181.347514 \r\nL 319.664545 181.347514 \r\nz\r\n\" style=\"fill:#1f77b4;\"/>\r\n   </g>\r\n   <g id=\"patch_91\">\r\n    <path clip-path=\"url(#p1145700e4b)\" d=\"M 322.708182 224.64 \r\nL 325.751818 224.64 \r\nL 325.751818 192.12076 \r\nL 322.708182 192.12076 \r\nz\r\n\" style=\"fill:#1f77b4;\"/>\r\n   </g>\r\n   <g id=\"patch_92\">\r\n    <path clip-path=\"url(#p1145700e4b)\" d=\"M 325.751818 224.64 \r\nL 328.795455 224.64 \r\nL 328.795455 195.113328 \r\nL 325.751818 195.113328 \r\nz\r\n\" style=\"fill:#1f77b4;\"/>\r\n   </g>\r\n   <g id=\"patch_93\">\r\n    <path clip-path=\"url(#p1145700e4b)\" d=\"M 328.795455 224.64 \r\nL 331.839091 224.64 \r\nL 331.839091 195.113328 \r\nL 328.795455 195.113328 \r\nz\r\n\" style=\"fill:#1f77b4;\"/>\r\n   </g>\r\n   <g id=\"patch_94\">\r\n    <path clip-path=\"url(#p1145700e4b)\" d=\"M 331.839091 224.64 \r\nL 334.882727 224.64 \r\nL 334.882727 202.894005 \r\nL 331.839091 202.894005 \r\nz\r\n\" style=\"fill:#1f77b4;\"/>\r\n   </g>\r\n   <g id=\"patch_95\">\r\n    <path clip-path=\"url(#p1145700e4b)\" d=\"M 334.882727 224.64 \r\nL 337.926364 224.64 \r\nL 337.926364 204.290537 \r\nL 334.882727 204.290537 \r\nz\r\n\" style=\"fill:#1f77b4;\"/>\r\n   </g>\r\n   <g id=\"patch_96\">\r\n    <path clip-path=\"url(#p1145700e4b)\" d=\"M 337.926364 224.64 \r\nL 340.97 224.64 \r\nL 340.97 210.076168 \r\nL 337.926364 210.076168 \r\nz\r\n\" style=\"fill:#1f77b4;\"/>\r\n   </g>\r\n   <g id=\"patch_97\">\r\n    <path clip-path=\"url(#p1145700e4b)\" d=\"M 340.97 224.64 \r\nL 344.013636 224.64 \r\nL 344.013636 216.460314 \r\nL 340.97 216.460314 \r\nz\r\n\" style=\"fill:#1f77b4;\"/>\r\n   </g>\r\n   <g id=\"patch_98\">\r\n    <path clip-path=\"url(#p1145700e4b)\" d=\"M 344.013636 224.64 \r\nL 347.057273 224.64 \r\nL 347.057273 216.659818 \r\nL 344.013636 216.659818 \r\nz\r\n\" style=\"fill:#1f77b4;\"/>\r\n   </g>\r\n   <g id=\"patch_99\">\r\n    <path clip-path=\"url(#p1145700e4b)\" d=\"M 347.057273 224.64 \r\nL 350.100909 224.64 \r\nL 350.100909 221.647432 \r\nL 347.057273 221.647432 \r\nz\r\n\" style=\"fill:#1f77b4;\"/>\r\n   </g>\r\n   <g id=\"patch_100\">\r\n    <path clip-path=\"url(#p1145700e4b)\" d=\"M 350.100909 224.64 \r\nL 353.144545 224.64 \r\nL 353.144545 219.851891 \r\nL 350.100909 219.851891 \r\nz\r\n\" style=\"fill:#1f77b4;\"/>\r\n   </g>\r\n   <g id=\"patch_101\">\r\n    <path clip-path=\"url(#p1145700e4b)\" d=\"M 353.144545 224.64 \r\nL 356.188182 224.64 \r\nL 356.188182 222.844459 \r\nL 353.144545 222.844459 \r\nz\r\n\" style=\"fill:#1f77b4;\"/>\r\n   </g>\r\n   <g id=\"patch_102\">\r\n    <path clip-path=\"url(#p1145700e4b)\" d=\"M 356.188182 224.64 \r\nL 359.231818 224.64 \r\nL 359.231818 223.642477 \r\nL 356.188182 223.642477 \r\nz\r\n\" style=\"fill:#1f77b4;\"/>\r\n   </g>\r\n   <g id=\"matplotlib.axis_1\">\r\n    <g id=\"xtick_1\">\r\n     <g id=\"line2d_1\">\r\n      <path clip-path=\"url(#p1145700e4b)\" d=\"M 51.778736 224.64 \r\nL 51.778736 7.2 \r\n\" style=\"fill:none;stroke:#b0b0b0;stroke-linecap:square;stroke-width:0.8;\"/>\r\n     </g>\r\n     <g id=\"line2d_2\">\r\n      <defs>\r\n       <path d=\"M 0 0 \r\nL 0 3.5 \r\n\" id=\"m887621dac5\" style=\"stroke:#000000;stroke-width:0.8;\"/>\r\n      </defs>\r\n      <g>\r\n       <use style=\"stroke:#000000;stroke-width:0.8;\" x=\"51.778736\" xlink:href=\"#m887621dac5\" y=\"224.64\"/>\r\n      </g>\r\n     </g>\r\n     <g id=\"text_1\">\r\n      <!-- −15 -->\r\n      <g transform=\"translate(41.226393 239.238437)scale(0.1 -0.1)\">\r\n       <defs>\r\n        <path d=\"M 678 2272 \r\nL 4684 2272 \r\nL 4684 1741 \r\nL 678 1741 \r\nL 678 2272 \r\nz\r\n\" id=\"DejaVuSans-2212\" transform=\"scale(0.015625)\"/>\r\n        <path d=\"M 794 531 \r\nL 1825 531 \r\nL 1825 4091 \r\nL 703 3866 \r\nL 703 4441 \r\nL 1819 4666 \r\nL 2450 4666 \r\nL 2450 531 \r\nL 3481 531 \r\nL 3481 0 \r\nL 794 0 \r\nL 794 531 \r\nz\r\n\" id=\"DejaVuSans-31\" transform=\"scale(0.015625)\"/>\r\n        <path d=\"M 691 4666 \r\nL 3169 4666 \r\nL 3169 4134 \r\nL 1269 4134 \r\nL 1269 2991 \r\nQ 1406 3038 1543 3061 \r\nQ 1681 3084 1819 3084 \r\nQ 2600 3084 3056 2656 \r\nQ 3513 2228 3513 1497 \r\nQ 3513 744 3044 326 \r\nQ 2575 -91 1722 -91 \r\nQ 1428 -91 1123 -41 \r\nQ 819 9 494 109 \r\nL 494 744 \r\nQ 775 591 1075 516 \r\nQ 1375 441 1709 441 \r\nQ 2250 441 2565 725 \r\nQ 2881 1009 2881 1497 \r\nQ 2881 1984 2565 2268 \r\nQ 2250 2553 1709 2553 \r\nQ 1456 2553 1204 2497 \r\nQ 953 2441 691 2322 \r\nL 691 4666 \r\nz\r\n\" id=\"DejaVuSans-35\" transform=\"scale(0.015625)\"/>\r\n       </defs>\r\n       <use xlink:href=\"#DejaVuSans-2212\"/>\r\n       <use x=\"83.789062\" xlink:href=\"#DejaVuSans-31\"/>\r\n       <use x=\"147.412109\" xlink:href=\"#DejaVuSans-35\"/>\r\n      </g>\r\n     </g>\r\n    </g>\r\n    <g id=\"xtick_2\">\r\n     <g id=\"line2d_3\">\r\n      <path clip-path=\"url(#p1145700e4b)\" d=\"M 105.045036 224.64 \r\nL 105.045036 7.2 \r\n\" style=\"fill:none;stroke:#b0b0b0;stroke-linecap:square;stroke-width:0.8;\"/>\r\n     </g>\r\n     <g id=\"line2d_4\">\r\n      <g>\r\n       <use style=\"stroke:#000000;stroke-width:0.8;\" x=\"105.045036\" xlink:href=\"#m887621dac5\" y=\"224.64\"/>\r\n      </g>\r\n     </g>\r\n     <g id=\"text_2\">\r\n      <!-- −10 -->\r\n      <g transform=\"translate(94.492692 239.238437)scale(0.1 -0.1)\">\r\n       <defs>\r\n        <path d=\"M 2034 4250 \r\nQ 1547 4250 1301 3770 \r\nQ 1056 3291 1056 2328 \r\nQ 1056 1369 1301 889 \r\nQ 1547 409 2034 409 \r\nQ 2525 409 2770 889 \r\nQ 3016 1369 3016 2328 \r\nQ 3016 3291 2770 3770 \r\nQ 2525 4250 2034 4250 \r\nz\r\nM 2034 4750 \r\nQ 2819 4750 3233 4129 \r\nQ 3647 3509 3647 2328 \r\nQ 3647 1150 3233 529 \r\nQ 2819 -91 2034 -91 \r\nQ 1250 -91 836 529 \r\nQ 422 1150 422 2328 \r\nQ 422 3509 836 4129 \r\nQ 1250 4750 2034 4750 \r\nz\r\n\" id=\"DejaVuSans-30\" transform=\"scale(0.015625)\"/>\r\n       </defs>\r\n       <use xlink:href=\"#DejaVuSans-2212\"/>\r\n       <use x=\"83.789062\" xlink:href=\"#DejaVuSans-31\"/>\r\n       <use x=\"147.412109\" xlink:href=\"#DejaVuSans-30\"/>\r\n      </g>\r\n     </g>\r\n    </g>\r\n    <g id=\"xtick_3\">\r\n     <g id=\"line2d_5\">\r\n      <path clip-path=\"url(#p1145700e4b)\" d=\"M 158.311336 224.64 \r\nL 158.311336 7.2 \r\n\" style=\"fill:none;stroke:#b0b0b0;stroke-linecap:square;stroke-width:0.8;\"/>\r\n     </g>\r\n     <g id=\"line2d_6\">\r\n      <g>\r\n       <use style=\"stroke:#000000;stroke-width:0.8;\" x=\"158.311336\" xlink:href=\"#m887621dac5\" y=\"224.64\"/>\r\n      </g>\r\n     </g>\r\n     <g id=\"text_3\">\r\n      <!-- −5 -->\r\n      <g transform=\"translate(150.940242 239.238437)scale(0.1 -0.1)\">\r\n       <use xlink:href=\"#DejaVuSans-2212\"/>\r\n       <use x=\"83.789062\" xlink:href=\"#DejaVuSans-35\"/>\r\n      </g>\r\n     </g>\r\n    </g>\r\n    <g id=\"xtick_4\">\r\n     <g id=\"line2d_7\">\r\n      <path clip-path=\"url(#p1145700e4b)\" d=\"M 211.577635 224.64 \r\nL 211.577635 7.2 \r\n\" style=\"fill:none;stroke:#b0b0b0;stroke-linecap:square;stroke-width:0.8;\"/>\r\n     </g>\r\n     <g id=\"line2d_8\">\r\n      <g>\r\n       <use style=\"stroke:#000000;stroke-width:0.8;\" x=\"211.577635\" xlink:href=\"#m887621dac5\" y=\"224.64\"/>\r\n      </g>\r\n     </g>\r\n     <g id=\"text_4\">\r\n      <!-- 0 -->\r\n      <g transform=\"translate(208.396385 239.238437)scale(0.1 -0.1)\">\r\n       <use xlink:href=\"#DejaVuSans-30\"/>\r\n      </g>\r\n     </g>\r\n    </g>\r\n    <g id=\"xtick_5\">\r\n     <g id=\"line2d_9\">\r\n      <path clip-path=\"url(#p1145700e4b)\" d=\"M 264.843935 224.64 \r\nL 264.843935 7.2 \r\n\" style=\"fill:none;stroke:#b0b0b0;stroke-linecap:square;stroke-width:0.8;\"/>\r\n     </g>\r\n     <g id=\"line2d_10\">\r\n      <g>\r\n       <use style=\"stroke:#000000;stroke-width:0.8;\" x=\"264.843935\" xlink:href=\"#m887621dac5\" y=\"224.64\"/>\r\n      </g>\r\n     </g>\r\n     <g id=\"text_5\">\r\n      <!-- 5 -->\r\n      <g transform=\"translate(261.662685 239.238437)scale(0.1 -0.1)\">\r\n       <use xlink:href=\"#DejaVuSans-35\"/>\r\n      </g>\r\n     </g>\r\n    </g>\r\n    <g id=\"xtick_6\">\r\n     <g id=\"line2d_11\">\r\n      <path clip-path=\"url(#p1145700e4b)\" d=\"M 318.110235 224.64 \r\nL 318.110235 7.2 \r\n\" style=\"fill:none;stroke:#b0b0b0;stroke-linecap:square;stroke-width:0.8;\"/>\r\n     </g>\r\n     <g id=\"line2d_12\">\r\n      <g>\r\n       <use style=\"stroke:#000000;stroke-width:0.8;\" x=\"318.110235\" xlink:href=\"#m887621dac5\" y=\"224.64\"/>\r\n      </g>\r\n     </g>\r\n     <g id=\"text_6\">\r\n      <!-- 10 -->\r\n      <g transform=\"translate(311.747735 239.238437)scale(0.1 -0.1)\">\r\n       <use xlink:href=\"#DejaVuSans-31\"/>\r\n       <use x=\"63.623047\" xlink:href=\"#DejaVuSans-30\"/>\r\n      </g>\r\n     </g>\r\n    </g>\r\n    <g id=\"xtick_7\">\r\n     <g id=\"line2d_13\">\r\n      <path clip-path=\"url(#p1145700e4b)\" d=\"M 371.376535 224.64 \r\nL 371.376535 7.2 \r\n\" style=\"fill:none;stroke:#b0b0b0;stroke-linecap:square;stroke-width:0.8;\"/>\r\n     </g>\r\n     <g id=\"line2d_14\">\r\n      <g>\r\n       <use style=\"stroke:#000000;stroke-width:0.8;\" x=\"371.376535\" xlink:href=\"#m887621dac5\" y=\"224.64\"/>\r\n      </g>\r\n     </g>\r\n     <g id=\"text_7\">\r\n      <!-- 15 -->\r\n      <g transform=\"translate(365.014035 239.238437)scale(0.1 -0.1)\">\r\n       <use xlink:href=\"#DejaVuSans-31\"/>\r\n       <use x=\"63.623047\" xlink:href=\"#DejaVuSans-35\"/>\r\n      </g>\r\n     </g>\r\n    </g>\r\n   </g>\r\n   <g id=\"matplotlib.axis_2\">\r\n    <g id=\"ytick_1\">\r\n     <g id=\"line2d_15\">\r\n      <path clip-path=\"url(#p1145700e4b)\" d=\"M 39.65 224.64 \r\nL 374.45 224.64 \r\n\" style=\"fill:none;stroke:#b0b0b0;stroke-linecap:square;stroke-width:0.8;\"/>\r\n     </g>\r\n     <g id=\"line2d_16\">\r\n      <defs>\r\n       <path d=\"M 0 0 \r\nL -3.5 0 \r\n\" id=\"m9e5cff4924\" style=\"stroke:#000000;stroke-width:0.8;\"/>\r\n      </defs>\r\n      <g>\r\n       <use style=\"stroke:#000000;stroke-width:0.8;\" x=\"39.65\" xlink:href=\"#m9e5cff4924\" y=\"224.64\"/>\r\n      </g>\r\n     </g>\r\n     <g id=\"text_8\">\r\n      <!-- 0 -->\r\n      <g transform=\"translate(26.2875 228.439219)scale(0.1 -0.1)\">\r\n       <use xlink:href=\"#DejaVuSans-30\"/>\r\n      </g>\r\n     </g>\r\n    </g>\r\n    <g id=\"ytick_2\">\r\n     <g id=\"line2d_17\">\r\n      <path clip-path=\"url(#p1145700e4b)\" d=\"M 39.65 184.739092 \r\nL 374.45 184.739092 \r\n\" style=\"fill:none;stroke:#b0b0b0;stroke-linecap:square;stroke-width:0.8;\"/>\r\n     </g>\r\n     <g id=\"line2d_18\">\r\n      <g>\r\n       <use style=\"stroke:#000000;stroke-width:0.8;\" x=\"39.65\" xlink:href=\"#m9e5cff4924\" y=\"184.739092\"/>\r\n      </g>\r\n     </g>\r\n     <g id=\"text_9\">\r\n      <!-- 200 -->\r\n      <g transform=\"translate(13.5625 188.53831)scale(0.1 -0.1)\">\r\n       <defs>\r\n        <path d=\"M 1228 531 \r\nL 3431 531 \r\nL 3431 0 \r\nL 469 0 \r\nL 469 531 \r\nQ 828 903 1448 1529 \r\nQ 2069 2156 2228 2338 \r\nQ 2531 2678 2651 2914 \r\nQ 2772 3150 2772 3378 \r\nQ 2772 3750 2511 3984 \r\nQ 2250 4219 1831 4219 \r\nQ 1534 4219 1204 4116 \r\nQ 875 4013 500 3803 \r\nL 500 4441 \r\nQ 881 4594 1212 4672 \r\nQ 1544 4750 1819 4750 \r\nQ 2544 4750 2975 4387 \r\nQ 3406 4025 3406 3419 \r\nQ 3406 3131 3298 2873 \r\nQ 3191 2616 2906 2266 \r\nQ 2828 2175 2409 1742 \r\nQ 1991 1309 1228 531 \r\nz\r\n\" id=\"DejaVuSans-32\" transform=\"scale(0.015625)\"/>\r\n       </defs>\r\n       <use xlink:href=\"#DejaVuSans-32\"/>\r\n       <use x=\"63.623047\" xlink:href=\"#DejaVuSans-30\"/>\r\n       <use x=\"127.246094\" xlink:href=\"#DejaVuSans-30\"/>\r\n      </g>\r\n     </g>\r\n    </g>\r\n    <g id=\"ytick_3\">\r\n     <g id=\"line2d_19\">\r\n      <path clip-path=\"url(#p1145700e4b)\" d=\"M 39.65 144.838183 \r\nL 374.45 144.838183 \r\n\" style=\"fill:none;stroke:#b0b0b0;stroke-linecap:square;stroke-width:0.8;\"/>\r\n     </g>\r\n     <g id=\"line2d_20\">\r\n      <g>\r\n       <use style=\"stroke:#000000;stroke-width:0.8;\" x=\"39.65\" xlink:href=\"#m9e5cff4924\" y=\"144.838183\"/>\r\n      </g>\r\n     </g>\r\n     <g id=\"text_10\">\r\n      <!-- 400 -->\r\n      <g transform=\"translate(13.5625 148.637402)scale(0.1 -0.1)\">\r\n       <defs>\r\n        <path d=\"M 2419 4116 \r\nL 825 1625 \r\nL 2419 1625 \r\nL 2419 4116 \r\nz\r\nM 2253 4666 \r\nL 3047 4666 \r\nL 3047 1625 \r\nL 3713 1625 \r\nL 3713 1100 \r\nL 3047 1100 \r\nL 3047 0 \r\nL 2419 0 \r\nL 2419 1100 \r\nL 313 1100 \r\nL 313 1709 \r\nL 2253 4666 \r\nz\r\n\" id=\"DejaVuSans-34\" transform=\"scale(0.015625)\"/>\r\n       </defs>\r\n       <use xlink:href=\"#DejaVuSans-34\"/>\r\n       <use x=\"63.623047\" xlink:href=\"#DejaVuSans-30\"/>\r\n       <use x=\"127.246094\" xlink:href=\"#DejaVuSans-30\"/>\r\n      </g>\r\n     </g>\r\n    </g>\r\n    <g id=\"ytick_4\">\r\n     <g id=\"line2d_21\">\r\n      <path clip-path=\"url(#p1145700e4b)\" d=\"M 39.65 104.937275 \r\nL 374.45 104.937275 \r\n\" style=\"fill:none;stroke:#b0b0b0;stroke-linecap:square;stroke-width:0.8;\"/>\r\n     </g>\r\n     <g id=\"line2d_22\">\r\n      <g>\r\n       <use style=\"stroke:#000000;stroke-width:0.8;\" x=\"39.65\" xlink:href=\"#m9e5cff4924\" y=\"104.937275\"/>\r\n      </g>\r\n     </g>\r\n     <g id=\"text_11\">\r\n      <!-- 600 -->\r\n      <g transform=\"translate(13.5625 108.736494)scale(0.1 -0.1)\">\r\n       <defs>\r\n        <path d=\"M 2113 2584 \r\nQ 1688 2584 1439 2293 \r\nQ 1191 2003 1191 1497 \r\nQ 1191 994 1439 701 \r\nQ 1688 409 2113 409 \r\nQ 2538 409 2786 701 \r\nQ 3034 994 3034 1497 \r\nQ 3034 2003 2786 2293 \r\nQ 2538 2584 2113 2584 \r\nz\r\nM 3366 4563 \r\nL 3366 3988 \r\nQ 3128 4100 2886 4159 \r\nQ 2644 4219 2406 4219 \r\nQ 1781 4219 1451 3797 \r\nQ 1122 3375 1075 2522 \r\nQ 1259 2794 1537 2939 \r\nQ 1816 3084 2150 3084 \r\nQ 2853 3084 3261 2657 \r\nQ 3669 2231 3669 1497 \r\nQ 3669 778 3244 343 \r\nQ 2819 -91 2113 -91 \r\nQ 1303 -91 875 529 \r\nQ 447 1150 447 2328 \r\nQ 447 3434 972 4092 \r\nQ 1497 4750 2381 4750 \r\nQ 2619 4750 2861 4703 \r\nQ 3103 4656 3366 4563 \r\nz\r\n\" id=\"DejaVuSans-36\" transform=\"scale(0.015625)\"/>\r\n       </defs>\r\n       <use xlink:href=\"#DejaVuSans-36\"/>\r\n       <use x=\"63.623047\" xlink:href=\"#DejaVuSans-30\"/>\r\n       <use x=\"127.246094\" xlink:href=\"#DejaVuSans-30\"/>\r\n      </g>\r\n     </g>\r\n    </g>\r\n    <g id=\"ytick_5\">\r\n     <g id=\"line2d_23\">\r\n      <path clip-path=\"url(#p1145700e4b)\" d=\"M 39.65 65.036367 \r\nL 374.45 65.036367 \r\n\" style=\"fill:none;stroke:#b0b0b0;stroke-linecap:square;stroke-width:0.8;\"/>\r\n     </g>\r\n     <g id=\"line2d_24\">\r\n      <g>\r\n       <use style=\"stroke:#000000;stroke-width:0.8;\" x=\"39.65\" xlink:href=\"#m9e5cff4924\" y=\"65.036367\"/>\r\n      </g>\r\n     </g>\r\n     <g id=\"text_12\">\r\n      <!-- 800 -->\r\n      <g transform=\"translate(13.5625 68.835585)scale(0.1 -0.1)\">\r\n       <defs>\r\n        <path d=\"M 2034 2216 \r\nQ 1584 2216 1326 1975 \r\nQ 1069 1734 1069 1313 \r\nQ 1069 891 1326 650 \r\nQ 1584 409 2034 409 \r\nQ 2484 409 2743 651 \r\nQ 3003 894 3003 1313 \r\nQ 3003 1734 2745 1975 \r\nQ 2488 2216 2034 2216 \r\nz\r\nM 1403 2484 \r\nQ 997 2584 770 2862 \r\nQ 544 3141 544 3541 \r\nQ 544 4100 942 4425 \r\nQ 1341 4750 2034 4750 \r\nQ 2731 4750 3128 4425 \r\nQ 3525 4100 3525 3541 \r\nQ 3525 3141 3298 2862 \r\nQ 3072 2584 2669 2484 \r\nQ 3125 2378 3379 2068 \r\nQ 3634 1759 3634 1313 \r\nQ 3634 634 3220 271 \r\nQ 2806 -91 2034 -91 \r\nQ 1263 -91 848 271 \r\nQ 434 634 434 1313 \r\nQ 434 1759 690 2068 \r\nQ 947 2378 1403 2484 \r\nz\r\nM 1172 3481 \r\nQ 1172 3119 1398 2916 \r\nQ 1625 2713 2034 2713 \r\nQ 2441 2713 2670 2916 \r\nQ 2900 3119 2900 3481 \r\nQ 2900 3844 2670 4047 \r\nQ 2441 4250 2034 4250 \r\nQ 1625 4250 1398 4047 \r\nQ 1172 3844 1172 3481 \r\nz\r\n\" id=\"DejaVuSans-38\" transform=\"scale(0.015625)\"/>\r\n       </defs>\r\n       <use xlink:href=\"#DejaVuSans-38\"/>\r\n       <use x=\"63.623047\" xlink:href=\"#DejaVuSans-30\"/>\r\n       <use x=\"127.246094\" xlink:href=\"#DejaVuSans-30\"/>\r\n      </g>\r\n     </g>\r\n    </g>\r\n    <g id=\"ytick_6\">\r\n     <g id=\"line2d_25\">\r\n      <path clip-path=\"url(#p1145700e4b)\" d=\"M 39.65 25.135458 \r\nL 374.45 25.135458 \r\n\" style=\"fill:none;stroke:#b0b0b0;stroke-linecap:square;stroke-width:0.8;\"/>\r\n     </g>\r\n     <g id=\"line2d_26\">\r\n      <g>\r\n       <use style=\"stroke:#000000;stroke-width:0.8;\" x=\"39.65\" xlink:href=\"#m9e5cff4924\" y=\"25.135458\"/>\r\n      </g>\r\n     </g>\r\n     <g id=\"text_13\">\r\n      <!-- 1000 -->\r\n      <g transform=\"translate(7.2 28.934677)scale(0.1 -0.1)\">\r\n       <use xlink:href=\"#DejaVuSans-31\"/>\r\n       <use x=\"63.623047\" xlink:href=\"#DejaVuSans-30\"/>\r\n       <use x=\"127.246094\" xlink:href=\"#DejaVuSans-30\"/>\r\n       <use x=\"190.869141\" xlink:href=\"#DejaVuSans-30\"/>\r\n      </g>\r\n     </g>\r\n    </g>\r\n   </g>\r\n   <g id=\"patch_103\">\r\n    <path d=\"M 39.65 224.64 \r\nL 39.65 7.2 \r\n\" style=\"fill:none;stroke:#000000;stroke-linecap:square;stroke-linejoin:miter;stroke-width:0.8;\"/>\r\n   </g>\r\n   <g id=\"patch_104\">\r\n    <path d=\"M 374.45 224.64 \r\nL 374.45 7.2 \r\n\" style=\"fill:none;stroke:#000000;stroke-linecap:square;stroke-linejoin:miter;stroke-width:0.8;\"/>\r\n   </g>\r\n   <g id=\"patch_105\">\r\n    <path d=\"M 39.65 224.64 \r\nL 374.45 224.64 \r\n\" style=\"fill:none;stroke:#000000;stroke-linecap:square;stroke-linejoin:miter;stroke-width:0.8;\"/>\r\n   </g>\r\n   <g id=\"patch_106\">\r\n    <path d=\"M 39.65 7.2 \r\nL 374.45 7.2 \r\n\" style=\"fill:none;stroke:#000000;stroke-linecap:square;stroke-linejoin:miter;stroke-width:0.8;\"/>\r\n   </g>\r\n  </g>\r\n </g>\r\n <defs>\r\n  <clipPath id=\"p1145700e4b\">\r\n   <rect height=\"217.44\" width=\"334.8\" x=\"39.65\" y=\"7.2\"/>\r\n  </clipPath>\r\n </defs>\r\n</svg>\r\n",
      "image/png": "[encoded data removed]"
     },
     "metadata": {
      "needs_background": "light"
     }
    }
   ],
   "source": [
    "amsterdamjan['temp'].hist(bins=100)"
   ]
  },
  {
   "cell_type": "code",
   "execution_count": 188,
   "metadata": {},
   "outputs": [
    {
     "output_type": "stream",
     "name": "stdout",
     "text": [
      "Temp will be between -4.83 and 9.65\n"
     ]
    }
   ],
   "source": [
    "print(\"Temp will be between {:.2f} and {:.2f}\".format(amsterdamjan['temp'].quantile(0.05),amsterdamjan['temp'].quantile(0.95)))"
   ]
  },
  {
   "cell_type": "code",
   "execution_count": 197,
   "metadata": {},
   "outputs": [
    {
     "output_type": "stream",
     "name": "stdout",
     "text": [
      "            lower temp  upper temp\n2021-02-28    2.575428    7.431537\n            lower temp  upper temp\n2021-02-28    1.887108    8.119856\n            lower temp  upper temp\n2021-02-28    1.290094    8.716871\n            lower temp  upper temp\n2021-02-28    0.123262    9.883702\n"
     ]
    }
   ],
   "source": [
    "model = ARIMA(month_mean[:-1], order=(5,1,1))\n",
    "model_fit = model.fit()\n",
    "result = model_fit.get_forecast()\n",
    "forecast = result.predicted_mean\n",
    "# summarize confidence intervals\n",
    "intervals = [0.2, 0.1, 0.05, 0.01]\n",
    "for a in intervals:\n",
    "\tprint(result.conf_int(alpha=a))\n",
    "    "
   ]
  },
  {
   "cell_type": "code",
   "execution_count": 191,
   "metadata": {},
   "outputs": [
    {
     "output_type": "execute_result",
     "data": {
      "text/plain": [
       "            lower temp  upper temp\n",
       "2021-02-28    0.123262    9.883702"
      ],
      "text/html": "<div>\n<style scoped>\n    .dataframe tbody tr th:only-of-type {\n        vertical-align: middle;\n    }\n\n    .dataframe tbody tr th {\n        vertical-align: top;\n    }\n\n    .dataframe thead th {\n        text-align: right;\n    }\n</style>\n<table border=\"1\" class=\"dataframe\">\n  <thead>\n    <tr style=\"text-align: right;\">\n      <th></th>\n      <th>lower temp</th>\n      <th>upper temp</th>\n    </tr>\n  </thead>\n  <tbody>\n    <tr>\n      <th>2021-02-28</th>\n      <td>0.123262</td>\n      <td>9.883702</td>\n    </tr>\n  </tbody>\n</table>\n</div>"
     },
     "metadata": {},
     "execution_count": 191
    }
   ],
   "source": []
  },
  {
   "cell_type": "code",
   "execution_count": null,
   "metadata": {},
   "outputs": [],
   "source": []
  }
 ]
}