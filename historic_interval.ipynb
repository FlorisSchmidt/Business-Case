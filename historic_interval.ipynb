{
 "metadata": {
  "language_info": {
   "codemirror_mode": {
    "name": "ipython",
    "version": 3
   },
   "file_extension": ".py",
   "mimetype": "text/x-python",
   "name": "python",
   "nbconvert_exporter": "python",
   "pygments_lexer": "ipython3",
   "version": "3.9.5"
  },
  "orig_nbformat": 4,
  "kernelspec": {
   "name": "python3",
   "display_name": "Python 3.9.5 64-bit"
  },
  "interpreter": {
   "hash": "aee8b7b246df8f9039afb4144a1f6fd8d2ca17a180786b69acc140d282b71a49"
  }
 },
 "nbformat": 4,
 "nbformat_minor": 2,
 "cells": [
  {
   "cell_type": "code",
   "execution_count": 1,
   "metadata": {},
   "outputs": [],
   "source": [
    "import pandas as pd\n",
    "import historic\n",
    "from pathlib import Path\n",
    "import cityRemap"
   ]
  },
  {
   "cell_type": "code",
   "execution_count": 2,
   "metadata": {},
   "outputs": [],
   "source": [
    "df = pd.DataFrame(\n",
    "        {'dt': pd.date_range('2021-01-01', '2022-01-01', freq='1H', closed='left')})"
   ]
  },
  {
   "cell_type": "code",
   "execution_count": 3,
   "metadata": {},
   "outputs": [],
   "source": [
    "date = pd.DataFrame()\n",
    "for month in range(1,13):\n",
    "    month_data = df[df.dt.dt.month==month]\n",
    "    date = date.append(month_data.iloc[0:24],ignore_index=True)"
   ]
  },
  {
   "cell_type": "code",
   "execution_count": 4,
   "metadata": {},
   "outputs": [],
   "source": [
    "historic_interval = pd.DataFrame()\n",
    "historic_data = pd.read_csv('extracted/high/AMS.csv')\n",
    "historic_data.dt = pd.DatetimeIndex(historic_data.dt)\n",
    "historic_data = historic_data[(historic_data.dt.dt.year>2014) & (historic_data.dt.dt.year<2021)]\n",
    "for month in range(1,13):\n",
    "    for hour in range(24):  \n",
    "            points = historic_data.loc[(historic_data.dt.dt.hour==hour) & (historic_data.dt.dt.month==month)]\n",
    "            lower = points['Temperature'].quantile(0.025)\n",
    "            higher = points['Temperature'].quantile(0.975)\n",
    "            historic_interval = historic_interval.append({'Lower':lower,'Higher':higher}, ignore_index=True)\n",
    "historic_interval = historic_interval.set_index(date.dt)"
   ]
  },
  {
   "cell_type": "code",
   "execution_count": 5,
   "metadata": {},
   "outputs": [],
   "source": [
    "for year in range(1985,2019):\n",
    "    for hour in range(24):\n",
    "            for month in range(1,2):\n",
    "                points = historic_data.loc[(historic_data.dt.dt.hour==hour) & (historic_data.dt.dt.month==month) & (historic_data.dt.dt.year==year)]\n",
    "                points.var()"
   ]
  },
  {
   "cell_type": "code",
   "execution_count": 6,
   "metadata": {},
   "outputs": [
    {
     "output_type": "stream",
     "name": "stdout",
     "text": [
      "8.985\n0.4475\n"
     ]
    }
   ],
   "source": [
    "points = historic_data.loc[(historic_data.dt.dt.hour==12) & (historic_data.dt.dt.month==1)]\n",
    "print(points['Temperature'].quantile(0.95))\n",
    "print(points['Temperature'].quantile(0.05))"
   ]
  },
  {
   "cell_type": "code",
   "execution_count": 13,
   "metadata": {},
   "outputs": [],
   "source": [
    "import seaborn as sns"
   ]
  },
  {
   "cell_type": "code",
   "execution_count": 14,
   "metadata": {},
   "outputs": [
    {
     "output_type": "execute_result",
     "data": {
      "text/plain": [
       "<seaborn.axisgrid.FacetGrid at 0x7fe0dba52df0>"
      ]
     },
     "metadata": {},
     "execution_count": 14
    },
    {
     "output_type": "display_data",
     "data": {
      "text/plain": "<Figure size 360x360 with 1 Axes>",
      "image/svg+xml": "<?xml version=\"1.0\" encoding=\"utf-8\" standalone=\"no\"?>\n<!DOCTYPE svg PUBLIC \"-//W3C//DTD SVG 1.1//EN\"\n  \"http://www.w3.org/Graphics/SVG/1.1/DTD/svg11.dtd\">\n<svg height=\"352.478125pt\" version=\"1.1\" viewBox=\"0 0 352.578125 352.478125\" width=\"352.578125pt\" xmlns=\"http://www.w3.org/2000/svg\" xmlns:xlink=\"http://www.w3.org/1999/xlink\">\n <metadata>\n  <rdf:RDF xmlns:cc=\"http://creativecommons.org/ns#\" xmlns:dc=\"http://purl.org/dc/elements/1.1/\" xmlns:rdf=\"http://www.w3.org/1999/02/22-rdf-syntax-ns#\">\n   <cc:Work>\n    <dc:type rdf:resource=\"http://purl.org/dc/dcmitype/StillImage\"/>\n    <dc:date>2021-06-15T17:16:17.801933</dc:date>\n    <dc:format>image/svg+xml</dc:format>\n    <dc:creator>\n     <cc:Agent>\n      <dc:title>Matplotlib v3.4.2, https://matplotlib.org/</dc:title>\n     </cc:Agent>\n    </dc:creator>\n   </cc:Work>\n  </rdf:RDF>\n </metadata>\n <defs>\n  <style type=\"text/css\">*{stroke-linecap:butt;stroke-linejoin:round;}</style>\n </defs>\n <g id=\"figure_1\">\n  <g id=\"patch_1\">\n   <path d=\"M -0 352.478125 \nL 352.578125 352.478125 \nL 352.578125 0 \nL -0 0 \nz\n\" style=\"fill:none;\"/>\n  </g>\n  <g id=\"axes_1\">\n   <g id=\"patch_2\">\n    <path d=\"M 40.603125 328.6 \nL 345.378125 328.6 \nL 345.378125 7.2 \nL 40.603125 7.2 \nz\n\" style=\"fill:#ffffff;\"/>\n   </g>\n   <g id=\"patch_3\">\n    <path clip-path=\"url(#pf10045b1dd)\" d=\"M 54.456534 328.6 \nL 75.769471 328.6 \nL 75.769471 285.487995 \nL 54.456534 285.487995 \nz\n\" style=\"fill:#1f77b4;fill-opacity:0.75;stroke:#000000;stroke-linejoin:miter;\"/>\n   </g>\n   <g id=\"patch_4\">\n    <path clip-path=\"url(#pf10045b1dd)\" d=\"M 75.769471 328.6 \nL 97.082408 328.6 \nL 97.082408 56.994366 \nL 75.769471 56.994366 \nz\n\" style=\"fill:#1f77b4;fill-opacity:0.75;stroke:#000000;stroke-linejoin:miter;\"/>\n   </g>\n   <g id=\"patch_5\">\n    <path clip-path=\"url(#pf10045b1dd)\" d=\"M 97.082408 328.6 \nL 118.395345 328.6 \nL 118.395345 22.504762 \nL 97.082408 22.504762 \nz\n\" style=\"fill:#1f77b4;fill-opacity:0.75;stroke:#000000;stroke-linejoin:miter;\"/>\n   </g>\n   <g id=\"patch_6\">\n    <path clip-path=\"url(#pf10045b1dd)\" d=\"M 118.395345 328.6 \nL 139.708282 328.6 \nL 139.708282 143.218377 \nL 118.395345 143.218377 \nz\n\" style=\"fill:#1f77b4;fill-opacity:0.75;stroke:#000000;stroke-linejoin:miter;\"/>\n   </g>\n   <g id=\"patch_7\">\n    <path clip-path=\"url(#pf10045b1dd)\" d=\"M 139.708282 328.6 \nL 161.021219 328.6 \nL 161.021219 216.508786 \nL 139.708282 216.508786 \nz\n\" style=\"fill:#1f77b4;fill-opacity:0.75;stroke:#000000;stroke-linejoin:miter;\"/>\n   </g>\n   <g id=\"patch_8\">\n    <path clip-path=\"url(#pf10045b1dd)\" d=\"M 161.021219 328.6 \nL 182.334156 328.6 \nL 182.334156 272.554393 \nL 161.021219 272.554393 \nz\n\" style=\"fill:#1f77b4;fill-opacity:0.75;stroke:#000000;stroke-linejoin:miter;\"/>\n   </g>\n   <g id=\"patch_9\">\n    <path clip-path=\"url(#pf10045b1dd)\" d=\"M 182.334156 328.6 \nL 203.647094 328.6 \nL 203.647094 298.421596 \nL 182.334156 298.421596 \nz\n\" style=\"fill:#1f77b4;fill-opacity:0.75;stroke:#000000;stroke-linejoin:miter;\"/>\n   </g>\n   <g id=\"patch_10\">\n    <path clip-path=\"url(#pf10045b1dd)\" d=\"M 203.647094 328.6 \nL 224.960031 328.6 \nL 224.960031 276.865594 \nL 203.647094 276.865594 \nz\n\" style=\"fill:#1f77b4;fill-opacity:0.75;stroke:#000000;stroke-linejoin:miter;\"/>\n   </g>\n   <g id=\"patch_11\">\n    <path clip-path=\"url(#pf10045b1dd)\" d=\"M 224.960031 328.6 \nL 246.272968 328.6 \nL 246.272968 281.176794 \nL 224.960031 281.176794 \nz\n\" style=\"fill:#1f77b4;fill-opacity:0.75;stroke:#000000;stroke-linejoin:miter;\"/>\n   </g>\n   <g id=\"patch_12\">\n    <path clip-path=\"url(#pf10045b1dd)\" d=\"M 246.272968 328.6 \nL 267.585905 328.6 \nL 267.585905 276.865594 \nL 246.272968 276.865594 \nz\n\" style=\"fill:#1f77b4;fill-opacity:0.75;stroke:#000000;stroke-linejoin:miter;\"/>\n   </g>\n   <g id=\"patch_13\">\n    <path clip-path=\"url(#pf10045b1dd)\" d=\"M 267.585905 328.6 \nL 288.898842 328.6 \nL 288.898842 289.799195 \nL 267.585905 289.799195 \nz\n\" style=\"fill:#1f77b4;fill-opacity:0.75;stroke:#000000;stroke-linejoin:miter;\"/>\n   </g>\n   <g id=\"patch_14\">\n    <path clip-path=\"url(#pf10045b1dd)\" d=\"M 288.898842 328.6 \nL 310.211779 328.6 \nL 310.211779 298.421596 \nL 288.898842 298.421596 \nz\n\" style=\"fill:#1f77b4;fill-opacity:0.75;stroke:#000000;stroke-linejoin:miter;\"/>\n   </g>\n   <g id=\"patch_15\">\n    <path clip-path=\"url(#pf10045b1dd)\" d=\"M 310.211779 328.6 \nL 331.524716 328.6 \nL 331.524716 311.355198 \nL 310.211779 311.355198 \nz\n\" style=\"fill:#1f77b4;fill-opacity:0.75;stroke:#000000;stroke-linejoin:miter;\"/>\n   </g>\n   <g id=\"matplotlib.axis_1\">\n    <g id=\"xtick_1\">\n     <g id=\"line2d_1\">\n      <defs>\n       <path d=\"M 0 0 \nL 0 3.5 \n\" id=\"m77f48dc08d\" style=\"stroke:#000000;stroke-width:0.8;\"/>\n      </defs>\n      <g>\n       <use style=\"stroke:#000000;stroke-width:0.8;\" x=\"50.218766\" xlink:href=\"#m77f48dc08d\" y=\"328.6\"/>\n      </g>\n     </g>\n     <g id=\"text_1\">\n      <!-- 8 -->\n      <g transform=\"translate(47.037516 343.198437)scale(0.1 -0.1)\">\n       <defs>\n        <path d=\"M 2034 2216 \nQ 1584 2216 1326 1975 \nQ 1069 1734 1069 1313 \nQ 1069 891 1326 650 \nQ 1584 409 2034 409 \nQ 2484 409 2743 651 \nQ 3003 894 3003 1313 \nQ 3003 1734 2745 1975 \nQ 2488 2216 2034 2216 \nz\nM 1403 2484 \nQ 997 2584 770 2862 \nQ 544 3141 544 3541 \nQ 544 4100 942 4425 \nQ 1341 4750 2034 4750 \nQ 2731 4750 3128 4425 \nQ 3525 4100 3525 3541 \nQ 3525 3141 3298 2862 \nQ 3072 2584 2669 2484 \nQ 3125 2378 3379 2068 \nQ 3634 1759 3634 1313 \nQ 3634 634 3220 271 \nQ 2806 -91 2034 -91 \nQ 1263 -91 848 271 \nQ 434 634 434 1313 \nQ 434 1759 690 2068 \nQ 947 2378 1403 2484 \nz\nM 1172 3481 \nQ 1172 3119 1398 2916 \nQ 1625 2713 2034 2713 \nQ 2441 2713 2670 2916 \nQ 2900 3119 2900 3481 \nQ 2900 3844 2670 4047 \nQ 2441 4250 2034 4250 \nQ 1625 4250 1398 4047 \nQ 1172 3844 1172 3481 \nz\n\" id=\"DejaVuSans-38\" transform=\"scale(0.015625)\"/>\n       </defs>\n       <use xlink:href=\"#DejaVuSans-38\"/>\n      </g>\n     </g>\n    </g>\n    <g id=\"xtick_2\">\n     <g id=\"line2d_2\">\n      <g>\n       <use style=\"stroke:#000000;stroke-width:0.8;\" x=\"88.743932\" xlink:href=\"#m77f48dc08d\" y=\"328.6\"/>\n      </g>\n     </g>\n     <g id=\"text_2\">\n      <!-- 10 -->\n      <g transform=\"translate(82.381432 343.198437)scale(0.1 -0.1)\">\n       <defs>\n        <path d=\"M 794 531 \nL 1825 531 \nL 1825 4091 \nL 703 3866 \nL 703 4441 \nL 1819 4666 \nL 2450 4666 \nL 2450 531 \nL 3481 531 \nL 3481 0 \nL 794 0 \nL 794 531 \nz\n\" id=\"DejaVuSans-31\" transform=\"scale(0.015625)\"/>\n        <path d=\"M 2034 4250 \nQ 1547 4250 1301 3770 \nQ 1056 3291 1056 2328 \nQ 1056 1369 1301 889 \nQ 1547 409 2034 409 \nQ 2525 409 2770 889 \nQ 3016 1369 3016 2328 \nQ 3016 3291 2770 3770 \nQ 2525 4250 2034 4250 \nz\nM 2034 4750 \nQ 2819 4750 3233 4129 \nQ 3647 3509 3647 2328 \nQ 3647 1150 3233 529 \nQ 2819 -91 2034 -91 \nQ 1250 -91 836 529 \nQ 422 1150 422 2328 \nQ 422 3509 836 4129 \nQ 1250 4750 2034 4750 \nz\n\" id=\"DejaVuSans-30\" transform=\"scale(0.015625)\"/>\n       </defs>\n       <use xlink:href=\"#DejaVuSans-31\"/>\n       <use x=\"63.623047\" xlink:href=\"#DejaVuSans-30\"/>\n      </g>\n     </g>\n    </g>\n    <g id=\"xtick_3\">\n     <g id=\"line2d_3\">\n      <g>\n       <use style=\"stroke:#000000;stroke-width:0.8;\" x=\"127.269099\" xlink:href=\"#m77f48dc08d\" y=\"328.6\"/>\n      </g>\n     </g>\n     <g id=\"text_3\">\n      <!-- 12 -->\n      <g transform=\"translate(120.906599 343.198437)scale(0.1 -0.1)\">\n       <defs>\n        <path d=\"M 1228 531 \nL 3431 531 \nL 3431 0 \nL 469 0 \nL 469 531 \nQ 828 903 1448 1529 \nQ 2069 2156 2228 2338 \nQ 2531 2678 2651 2914 \nQ 2772 3150 2772 3378 \nQ 2772 3750 2511 3984 \nQ 2250 4219 1831 4219 \nQ 1534 4219 1204 4116 \nQ 875 4013 500 3803 \nL 500 4441 \nQ 881 4594 1212 4672 \nQ 1544 4750 1819 4750 \nQ 2544 4750 2975 4387 \nQ 3406 4025 3406 3419 \nQ 3406 3131 3298 2873 \nQ 3191 2616 2906 2266 \nQ 2828 2175 2409 1742 \nQ 1991 1309 1228 531 \nz\n\" id=\"DejaVuSans-32\" transform=\"scale(0.015625)\"/>\n       </defs>\n       <use xlink:href=\"#DejaVuSans-31\"/>\n       <use x=\"63.623047\" xlink:href=\"#DejaVuSans-32\"/>\n      </g>\n     </g>\n    </g>\n    <g id=\"xtick_4\">\n     <g id=\"line2d_4\">\n      <g>\n       <use style=\"stroke:#000000;stroke-width:0.8;\" x=\"165.794265\" xlink:href=\"#m77f48dc08d\" y=\"328.6\"/>\n      </g>\n     </g>\n     <g id=\"text_4\">\n      <!-- 14 -->\n      <g transform=\"translate(159.431765 343.198437)scale(0.1 -0.1)\">\n       <defs>\n        <path d=\"M 2419 4116 \nL 825 1625 \nL 2419 1625 \nL 2419 4116 \nz\nM 2253 4666 \nL 3047 4666 \nL 3047 1625 \nL 3713 1625 \nL 3713 1100 \nL 3047 1100 \nL 3047 0 \nL 2419 0 \nL 2419 1100 \nL 313 1100 \nL 313 1709 \nL 2253 4666 \nz\n\" id=\"DejaVuSans-34\" transform=\"scale(0.015625)\"/>\n       </defs>\n       <use xlink:href=\"#DejaVuSans-31\"/>\n       <use x=\"63.623047\" xlink:href=\"#DejaVuSans-34\"/>\n      </g>\n     </g>\n    </g>\n    <g id=\"xtick_5\">\n     <g id=\"line2d_5\">\n      <g>\n       <use style=\"stroke:#000000;stroke-width:0.8;\" x=\"204.319432\" xlink:href=\"#m77f48dc08d\" y=\"328.6\"/>\n      </g>\n     </g>\n     <g id=\"text_5\">\n      <!-- 16 -->\n      <g transform=\"translate(197.956932 343.198437)scale(0.1 -0.1)\">\n       <defs>\n        <path d=\"M 2113 2584 \nQ 1688 2584 1439 2293 \nQ 1191 2003 1191 1497 \nQ 1191 994 1439 701 \nQ 1688 409 2113 409 \nQ 2538 409 2786 701 \nQ 3034 994 3034 1497 \nQ 3034 2003 2786 2293 \nQ 2538 2584 2113 2584 \nz\nM 3366 4563 \nL 3366 3988 \nQ 3128 4100 2886 4159 \nQ 2644 4219 2406 4219 \nQ 1781 4219 1451 3797 \nQ 1122 3375 1075 2522 \nQ 1259 2794 1537 2939 \nQ 1816 3084 2150 3084 \nQ 2853 3084 3261 2657 \nQ 3669 2231 3669 1497 \nQ 3669 778 3244 343 \nQ 2819 -91 2113 -91 \nQ 1303 -91 875 529 \nQ 447 1150 447 2328 \nQ 447 3434 972 4092 \nQ 1497 4750 2381 4750 \nQ 2619 4750 2861 4703 \nQ 3103 4656 3366 4563 \nz\n\" id=\"DejaVuSans-36\" transform=\"scale(0.015625)\"/>\n       </defs>\n       <use xlink:href=\"#DejaVuSans-31\"/>\n       <use x=\"63.623047\" xlink:href=\"#DejaVuSans-36\"/>\n      </g>\n     </g>\n    </g>\n    <g id=\"xtick_6\">\n     <g id=\"line2d_6\">\n      <g>\n       <use style=\"stroke:#000000;stroke-width:0.8;\" x=\"242.844598\" xlink:href=\"#m77f48dc08d\" y=\"328.6\"/>\n      </g>\n     </g>\n     <g id=\"text_6\">\n      <!-- 18 -->\n      <g transform=\"translate(236.482098 343.198437)scale(0.1 -0.1)\">\n       <use xlink:href=\"#DejaVuSans-31\"/>\n       <use x=\"63.623047\" xlink:href=\"#DejaVuSans-38\"/>\n      </g>\n     </g>\n    </g>\n    <g id=\"xtick_7\">\n     <g id=\"line2d_7\">\n      <g>\n       <use style=\"stroke:#000000;stroke-width:0.8;\" x=\"281.369765\" xlink:href=\"#m77f48dc08d\" y=\"328.6\"/>\n      </g>\n     </g>\n     <g id=\"text_7\">\n      <!-- 20 -->\n      <g transform=\"translate(275.007265 343.198437)scale(0.1 -0.1)\">\n       <use xlink:href=\"#DejaVuSans-32\"/>\n       <use x=\"63.623047\" xlink:href=\"#DejaVuSans-30\"/>\n      </g>\n     </g>\n    </g>\n    <g id=\"xtick_8\">\n     <g id=\"line2d_8\">\n      <g>\n       <use style=\"stroke:#000000;stroke-width:0.8;\" x=\"319.894931\" xlink:href=\"#m77f48dc08d\" y=\"328.6\"/>\n      </g>\n     </g>\n     <g id=\"text_8\">\n      <!-- 22 -->\n      <g transform=\"translate(313.532431 343.198437)scale(0.1 -0.1)\">\n       <use xlink:href=\"#DejaVuSans-32\"/>\n       <use x=\"63.623047\" xlink:href=\"#DejaVuSans-32\"/>\n      </g>\n     </g>\n    </g>\n   </g>\n   <g id=\"matplotlib.axis_2\">\n    <g id=\"ytick_1\">\n     <g id=\"line2d_9\">\n      <defs>\n       <path d=\"M 0 0 \nL -3.5 0 \n\" id=\"mf1c0f51a2b\" style=\"stroke:#000000;stroke-width:0.8;\"/>\n      </defs>\n      <g>\n       <use style=\"stroke:#000000;stroke-width:0.8;\" x=\"40.603125\" xlink:href=\"#mf1c0f51a2b\" y=\"328.6\"/>\n      </g>\n     </g>\n     <g id=\"text_9\">\n      <!-- 0 -->\n      <g transform=\"translate(27.240625 332.399219)scale(0.1 -0.1)\">\n       <use xlink:href=\"#DejaVuSans-30\"/>\n      </g>\n     </g>\n    </g>\n    <g id=\"ytick_2\">\n     <g id=\"line2d_10\">\n      <g>\n       <use style=\"stroke:#000000;stroke-width:0.8;\" x=\"40.603125\" xlink:href=\"#mf1c0f51a2b\" y=\"285.487995\"/>\n      </g>\n     </g>\n     <g id=\"text_10\">\n      <!-- 10 -->\n      <g transform=\"translate(20.878125 289.287213)scale(0.1 -0.1)\">\n       <use xlink:href=\"#DejaVuSans-31\"/>\n       <use x=\"63.623047\" xlink:href=\"#DejaVuSans-30\"/>\n      </g>\n     </g>\n    </g>\n    <g id=\"ytick_3\">\n     <g id=\"line2d_11\">\n      <g>\n       <use style=\"stroke:#000000;stroke-width:0.8;\" x=\"40.603125\" xlink:href=\"#mf1c0f51a2b\" y=\"242.375989\"/>\n      </g>\n     </g>\n     <g id=\"text_11\">\n      <!-- 20 -->\n      <g transform=\"translate(20.878125 246.175208)scale(0.1 -0.1)\">\n       <use xlink:href=\"#DejaVuSans-32\"/>\n       <use x=\"63.623047\" xlink:href=\"#DejaVuSans-30\"/>\n      </g>\n     </g>\n    </g>\n    <g id=\"ytick_4\">\n     <g id=\"line2d_12\">\n      <g>\n       <use style=\"stroke:#000000;stroke-width:0.8;\" x=\"40.603125\" xlink:href=\"#mf1c0f51a2b\" y=\"199.263984\"/>\n      </g>\n     </g>\n     <g id=\"text_12\">\n      <!-- 30 -->\n      <g transform=\"translate(20.878125 203.063203)scale(0.1 -0.1)\">\n       <defs>\n        <path d=\"M 2597 2516 \nQ 3050 2419 3304 2112 \nQ 3559 1806 3559 1356 \nQ 3559 666 3084 287 \nQ 2609 -91 1734 -91 \nQ 1441 -91 1130 -33 \nQ 819 25 488 141 \nL 488 750 \nQ 750 597 1062 519 \nQ 1375 441 1716 441 \nQ 2309 441 2620 675 \nQ 2931 909 2931 1356 \nQ 2931 1769 2642 2001 \nQ 2353 2234 1838 2234 \nL 1294 2234 \nL 1294 2753 \nL 1863 2753 \nQ 2328 2753 2575 2939 \nQ 2822 3125 2822 3475 \nQ 2822 3834 2567 4026 \nQ 2313 4219 1838 4219 \nQ 1578 4219 1281 4162 \nQ 984 4106 628 3988 \nL 628 4550 \nQ 988 4650 1302 4700 \nQ 1616 4750 1894 4750 \nQ 2613 4750 3031 4423 \nQ 3450 4097 3450 3541 \nQ 3450 3153 3228 2886 \nQ 3006 2619 2597 2516 \nz\n\" id=\"DejaVuSans-33\" transform=\"scale(0.015625)\"/>\n       </defs>\n       <use xlink:href=\"#DejaVuSans-33\"/>\n       <use x=\"63.623047\" xlink:href=\"#DejaVuSans-30\"/>\n      </g>\n     </g>\n    </g>\n    <g id=\"ytick_5\">\n     <g id=\"line2d_13\">\n      <g>\n       <use style=\"stroke:#000000;stroke-width:0.8;\" x=\"40.603125\" xlink:href=\"#mf1c0f51a2b\" y=\"156.151979\"/>\n      </g>\n     </g>\n     <g id=\"text_13\">\n      <!-- 40 -->\n      <g transform=\"translate(20.878125 159.951197)scale(0.1 -0.1)\">\n       <use xlink:href=\"#DejaVuSans-34\"/>\n       <use x=\"63.623047\" xlink:href=\"#DejaVuSans-30\"/>\n      </g>\n     </g>\n    </g>\n    <g id=\"ytick_6\">\n     <g id=\"line2d_14\">\n      <g>\n       <use style=\"stroke:#000000;stroke-width:0.8;\" x=\"40.603125\" xlink:href=\"#mf1c0f51a2b\" y=\"113.039973\"/>\n      </g>\n     </g>\n     <g id=\"text_14\">\n      <!-- 50 -->\n      <g transform=\"translate(20.878125 116.839192)scale(0.1 -0.1)\">\n       <defs>\n        <path d=\"M 691 4666 \nL 3169 4666 \nL 3169 4134 \nL 1269 4134 \nL 1269 2991 \nQ 1406 3038 1543 3061 \nQ 1681 3084 1819 3084 \nQ 2600 3084 3056 2656 \nQ 3513 2228 3513 1497 \nQ 3513 744 3044 326 \nQ 2575 -91 1722 -91 \nQ 1428 -91 1123 -41 \nQ 819 9 494 109 \nL 494 744 \nQ 775 591 1075 516 \nQ 1375 441 1709 441 \nQ 2250 441 2565 725 \nQ 2881 1009 2881 1497 \nQ 2881 1984 2565 2268 \nQ 2250 2553 1709 2553 \nQ 1456 2553 1204 2497 \nQ 953 2441 691 2322 \nL 691 4666 \nz\n\" id=\"DejaVuSans-35\" transform=\"scale(0.015625)\"/>\n       </defs>\n       <use xlink:href=\"#DejaVuSans-35\"/>\n       <use x=\"63.623047\" xlink:href=\"#DejaVuSans-30\"/>\n      </g>\n     </g>\n    </g>\n    <g id=\"ytick_7\">\n     <g id=\"line2d_15\">\n      <g>\n       <use style=\"stroke:#000000;stroke-width:0.8;\" x=\"40.603125\" xlink:href=\"#mf1c0f51a2b\" y=\"69.927968\"/>\n      </g>\n     </g>\n     <g id=\"text_15\">\n      <!-- 60 -->\n      <g transform=\"translate(20.878125 73.727187)scale(0.1 -0.1)\">\n       <use xlink:href=\"#DejaVuSans-36\"/>\n       <use x=\"63.623047\" xlink:href=\"#DejaVuSans-30\"/>\n      </g>\n     </g>\n    </g>\n    <g id=\"ytick_8\">\n     <g id=\"line2d_16\">\n      <g>\n       <use style=\"stroke:#000000;stroke-width:0.8;\" x=\"40.603125\" xlink:href=\"#mf1c0f51a2b\" y=\"26.815962\"/>\n      </g>\n     </g>\n     <g id=\"text_16\">\n      <!-- 70 -->\n      <g transform=\"translate(20.878125 30.615181)scale(0.1 -0.1)\">\n       <defs>\n        <path d=\"M 525 4666 \nL 3525 4666 \nL 3525 4397 \nL 1831 0 \nL 1172 0 \nL 2766 4134 \nL 525 4134 \nL 525 4666 \nz\n\" id=\"DejaVuSans-37\" transform=\"scale(0.015625)\"/>\n       </defs>\n       <use xlink:href=\"#DejaVuSans-37\"/>\n       <use x=\"63.623047\" xlink:href=\"#DejaVuSans-30\"/>\n      </g>\n     </g>\n    </g>\n    <g id=\"text_17\">\n     <!-- Count -->\n     <g transform=\"translate(14.798438 182.748437)rotate(-90)scale(0.1 -0.1)\">\n      <defs>\n       <path d=\"M 4122 4306 \nL 4122 3641 \nQ 3803 3938 3442 4084 \nQ 3081 4231 2675 4231 \nQ 1875 4231 1450 3742 \nQ 1025 3253 1025 2328 \nQ 1025 1406 1450 917 \nQ 1875 428 2675 428 \nQ 3081 428 3442 575 \nQ 3803 722 4122 1019 \nL 4122 359 \nQ 3791 134 3420 21 \nQ 3050 -91 2638 -91 \nQ 1578 -91 968 557 \nQ 359 1206 359 2328 \nQ 359 3453 968 4101 \nQ 1578 4750 2638 4750 \nQ 3056 4750 3426 4639 \nQ 3797 4528 4122 4306 \nz\n\" id=\"DejaVuSans-43\" transform=\"scale(0.015625)\"/>\n       <path d=\"M 1959 3097 \nQ 1497 3097 1228 2736 \nQ 959 2375 959 1747 \nQ 959 1119 1226 758 \nQ 1494 397 1959 397 \nQ 2419 397 2687 759 \nQ 2956 1122 2956 1747 \nQ 2956 2369 2687 2733 \nQ 2419 3097 1959 3097 \nz\nM 1959 3584 \nQ 2709 3584 3137 3096 \nQ 3566 2609 3566 1747 \nQ 3566 888 3137 398 \nQ 2709 -91 1959 -91 \nQ 1206 -91 779 398 \nQ 353 888 353 1747 \nQ 353 2609 779 3096 \nQ 1206 3584 1959 3584 \nz\n\" id=\"DejaVuSans-6f\" transform=\"scale(0.015625)\"/>\n       <path d=\"M 544 1381 \nL 544 3500 \nL 1119 3500 \nL 1119 1403 \nQ 1119 906 1312 657 \nQ 1506 409 1894 409 \nQ 2359 409 2629 706 \nQ 2900 1003 2900 1516 \nL 2900 3500 \nL 3475 3500 \nL 3475 0 \nL 2900 0 \nL 2900 538 \nQ 2691 219 2414 64 \nQ 2138 -91 1772 -91 \nQ 1169 -91 856 284 \nQ 544 659 544 1381 \nz\nM 1991 3584 \nL 1991 3584 \nz\n\" id=\"DejaVuSans-75\" transform=\"scale(0.015625)\"/>\n       <path d=\"M 3513 2113 \nL 3513 0 \nL 2938 0 \nL 2938 2094 \nQ 2938 2591 2744 2837 \nQ 2550 3084 2163 3084 \nQ 1697 3084 1428 2787 \nQ 1159 2491 1159 1978 \nL 1159 0 \nL 581 0 \nL 581 3500 \nL 1159 3500 \nL 1159 2956 \nQ 1366 3272 1645 3428 \nQ 1925 3584 2291 3584 \nQ 2894 3584 3203 3211 \nQ 3513 2838 3513 2113 \nz\n\" id=\"DejaVuSans-6e\" transform=\"scale(0.015625)\"/>\n       <path d=\"M 1172 4494 \nL 1172 3500 \nL 2356 3500 \nL 2356 3053 \nL 1172 3053 \nL 1172 1153 \nQ 1172 725 1289 603 \nQ 1406 481 1766 481 \nL 2356 481 \nL 2356 0 \nL 1766 0 \nQ 1100 0 847 248 \nQ 594 497 594 1153 \nL 594 3053 \nL 172 3053 \nL 172 3500 \nL 594 3500 \nL 594 4494 \nL 1172 4494 \nz\n\" id=\"DejaVuSans-74\" transform=\"scale(0.015625)\"/>\n      </defs>\n      <use xlink:href=\"#DejaVuSans-43\"/>\n      <use x=\"69.824219\" xlink:href=\"#DejaVuSans-6f\"/>\n      <use x=\"131.005859\" xlink:href=\"#DejaVuSans-75\"/>\n      <use x=\"194.384766\" xlink:href=\"#DejaVuSans-6e\"/>\n      <use x=\"257.763672\" xlink:href=\"#DejaVuSans-74\"/>\n     </g>\n    </g>\n   </g>\n   <g id=\"patch_16\">\n    <path d=\"M 40.603125 328.6 \nL 40.603125 7.2 \n\" style=\"fill:none;stroke:#000000;stroke-linecap:square;stroke-linejoin:miter;stroke-width:0.8;\"/>\n   </g>\n   <g id=\"patch_17\">\n    <path d=\"M 40.603125 328.6 \nL 345.378125 328.6 \n\" style=\"fill:none;stroke:#000000;stroke-linecap:square;stroke-linejoin:miter;stroke-width:0.8;\"/>\n   </g>\n  </g>\n </g>\n <defs>\n  <clipPath id=\"pf10045b1dd\">\n   <rect height=\"321.4\" width=\"304.775\" x=\"40.603125\" y=\"7.2\"/>\n  </clipPath>\n </defs>\n</svg>\n",
      "image/png": "[encoded data removed]"
     },
     "metadata": {
      "needs_background": "light"
     }
    }
   ],
   "source": [
    "sns.displot((historic_interval.Higher - historic_interval.Lower))"
   ]
  },
  {
   "cell_type": "code",
   "execution_count": 15,
   "metadata": {},
   "outputs": [],
   "source": [
    "monthly_index = pd.DataFrame()\n",
    "for month in range(1,13):\n",
    "    for hour in range(24):\n",
    "        monthly_index = monthly_index.append({\"Date\":\"M{} H{}\".format(month,hour)},ignore_index=True)"
   ]
  },
  {
   "cell_type": "code",
   "execution_count": 16,
   "metadata": {},
   "outputs": [],
   "source": [
    "historic_interval = historic_interval.set_index(monthly_index.Date)"
   ]
  },
  {
   "cell_type": "code",
   "execution_count": 17,
   "metadata": {},
   "outputs": [
    {
     "output_type": "display_data",
     "data": {
      "application/vnd.plotly.v1+json": {
       "config": {
        "plotlyServerURL": "https://plot.ly"
       },
       "data": [
        {
         "hovertemplate": "variable=Lower<br>Date=%{x}<br>value=%{y}<extra></extra>",
         "legendgroup": "Lower",
         "line": {
          "color": "#636efa",
          "dash": "solid"
         },
         "mode": "lines",
         "name": "Lower",
         "orientation": "v",
         "showlegend": true,
         "type": "scatter",
         "x": [
          "M1 H0",
          "M1 H1",
          "M1 H2",
          "M1 H3",
          "M1 H4",
          "M1 H5",
          "M1 H6",
          "M1 H7",
          "M1 H8",
          "M1 H9",
          "M1 H10",
          "M1 H11",
          "M1 H12",
          "M1 H13",
          "M1 H14",
          "M1 H15",
          "M1 H16",
          "M1 H17",
          "M1 H18",
          "M1 H19",
          "M1 H20",
          "M1 H21",
          "M1 H22",
          "M1 H23",
          "M2 H0",
          "M2 H1",
          "M2 H2",
          "M2 H3",
          "M2 H4",
          "M2 H5",
          "M2 H6",
          "M2 H7",
          "M2 H8",
          "M2 H9",
          "M2 H10",
          "M2 H11",
          "M2 H12",
          "M2 H13",
          "M2 H14",
          "M2 H15",
          "M2 H16",
          "M2 H17",
          "M2 H18",
          "M2 H19",
          "M2 H20",
          "M2 H21",
          "M2 H22",
          "M2 H23",
          "M3 H0",
          "M3 H1",
          "M3 H2",
          "M3 H3",
          "M3 H4",
          "M3 H5",
          "M3 H6",
          "M3 H7",
          "M3 H8",
          "M3 H9",
          "M3 H10",
          "M3 H11",
          "M3 H12",
          "M3 H13",
          "M3 H14",
          "M3 H15",
          "M3 H16",
          "M3 H17",
          "M3 H18",
          "M3 H19",
          "M3 H20",
          "M3 H21",
          "M3 H22",
          "M3 H23",
          "M4 H0",
          "M4 H1",
          "M4 H2",
          "M4 H3",
          "M4 H4",
          "M4 H5",
          "M4 H6",
          "M4 H7",
          "M4 H8",
          "M4 H9",
          "M4 H10",
          "M4 H11",
          "M4 H12",
          "M4 H13",
          "M4 H14",
          "M4 H15",
          "M4 H16",
          "M4 H17",
          "M4 H18",
          "M4 H19",
          "M4 H20",
          "M4 H21",
          "M4 H22",
          "M4 H23",
          "M5 H0",
          "M5 H1",
          "M5 H2",
          "M5 H3",
          "M5 H4",
          "M5 H5",
          "M5 H6",
          "M5 H7",
          "M5 H8",
          "M5 H9",
          "M5 H10",
          "M5 H11",
          "M5 H12",
          "M5 H13",
          "M5 H14",
          "M5 H15",
          "M5 H16",
          "M5 H17",
          "M5 H18",
          "M5 H19",
          "M5 H20",
          "M5 H21",
          "M5 H22",
          "M5 H23",
          "M6 H0",
          "M6 H1",
          "M6 H2",
          "M6 H3",
          "M6 H4",
          "M6 H5",
          "M6 H6",
          "M6 H7",
          "M6 H8",
          "M6 H9",
          "M6 H10",
          "M6 H11",
          "M6 H12",
          "M6 H13",
          "M6 H14",
          "M6 H15",
          "M6 H16",
          "M6 H17",
          "M6 H18",
          "M6 H19",
          "M6 H20",
          "M6 H21",
          "M6 H22",
          "M6 H23",
          "M7 H0",
          "M7 H1",
          "M7 H2",
          "M7 H3",
          "M7 H4",
          "M7 H5",
          "M7 H6",
          "M7 H7",
          "M7 H8",
          "M7 H9",
          "M7 H10",
          "M7 H11",
          "M7 H12",
          "M7 H13",
          "M7 H14",
          "M7 H15",
          "M7 H16",
          "M7 H17",
          "M7 H18",
          "M7 H19",
          "M7 H20",
          "M7 H21",
          "M7 H22",
          "M7 H23",
          "M8 H0",
          "M8 H1",
          "M8 H2",
          "M8 H3",
          "M8 H4",
          "M8 H5",
          "M8 H6",
          "M8 H7",
          "M8 H8",
          "M8 H9",
          "M8 H10",
          "M8 H11",
          "M8 H12",
          "M8 H13",
          "M8 H14",
          "M8 H15",
          "M8 H16",
          "M8 H17",
          "M8 H18",
          "M8 H19",
          "M8 H20",
          "M8 H21",
          "M8 H22",
          "M8 H23",
          "M9 H0",
          "M9 H1",
          "M9 H2",
          "M9 H3",
          "M9 H4",
          "M9 H5",
          "M9 H6",
          "M9 H7",
          "M9 H8",
          "M9 H9",
          "M9 H10",
          "M9 H11",
          "M9 H12",
          "M9 H13",
          "M9 H14",
          "M9 H15",
          "M9 H16",
          "M9 H17",
          "M9 H18",
          "M9 H19",
          "M9 H20",
          "M9 H21",
          "M9 H22",
          "M9 H23",
          "M10 H0",
          "M10 H1",
          "M10 H2",
          "M10 H3",
          "M10 H4",
          "M10 H5",
          "M10 H6",
          "M10 H7",
          "M10 H8",
          "M10 H9",
          "M10 H10",
          "M10 H11",
          "M10 H12",
          "M10 H13",
          "M10 H14",
          "M10 H15",
          "M10 H16",
          "M10 H17",
          "M10 H18",
          "M10 H19",
          "M10 H20",
          "M10 H21",
          "M10 H22",
          "M10 H23",
          "M11 H0",
          "M11 H1",
          "M11 H2",
          "M11 H3",
          "M11 H4",
          "M11 H5",
          "M11 H6",
          "M11 H7",
          "M11 H8",
          "M11 H9",
          "M11 H10",
          "M11 H11",
          "M11 H12",
          "M11 H13",
          "M11 H14",
          "M11 H15",
          "M11 H16",
          "M11 H17",
          "M11 H18",
          "M11 H19",
          "M11 H20",
          "M11 H21",
          "M11 H22",
          "M11 H23",
          "M12 H0",
          "M12 H1",
          "M12 H2",
          "M12 H3",
          "M12 H4",
          "M12 H5",
          "M12 H6",
          "M12 H7",
          "M12 H8",
          "M12 H9",
          "M12 H10",
          "M12 H11",
          "M12 H12",
          "M12 H13",
          "M12 H14",
          "M12 H15",
          "M12 H16",
          "M12 H17",
          "M12 H18",
          "M12 H19",
          "M12 H20",
          "M12 H21",
          "M12 H22",
          "M12 H23"
         ],
         "xaxis": "x",
         "y": [
          -2.12125,
          -2.27875,
          -2.32375,
          -1.9562500000000003,
          -0.15875,
          1.32375,
          2.55375,
          2.89375,
          2.85875,
          2.4875,
          1.8900000000000001,
          0.41125,
          -0.43,
          -0.56375,
          -0.79625,
          -0.9824999999999999,
          -1.1075,
          -1.11375,
          -1.13125,
          -1.3787500000000001,
          -1.4362499999999998,
          -1.52375,
          -1.60125,
          -1.6475,
          -2.3832500000000003,
          -2.6265,
          -2.62425,
          -1.3942499999999998,
          0.26050000000000006,
          1.4895,
          2.2867499999999996,
          3.5192500000000004,
          3.5490000000000004,
          2.838,
          2.1105,
          0.8440000000000007,
          -0.6462499999999997,
          -0.7792499999999999,
          -0.7517499999999999,
          -0.9537499999999999,
          -1.0755000000000001,
          -1.2765,
          -1.4302499999999998,
          -1.6842499999999998,
          -1.8142499999999997,
          -2.0797499999999998,
          -1.9987499999999998,
          -2.5589999999999997,
          -1.4274999999999998,
          -1.53375,
          -0.97375,
          0.53875,
          2.04625,
          3.1374999999999997,
          4.35375,
          5.4325,
          4.84875,
          4.8149999999999995,
          4.44625,
          4.12375,
          2.98625,
          0.6299999999999999,
          -0.15625,
          -0.55625,
          -0.40625,
          -0.13875,
          -0.5075,
          -0.6837500000000001,
          -0.4825,
          -0.665,
          -0.8387500000000001,
          -1.02625,
          0.6065000000000002,
          2.856,
          5.159,
          7.1785,
          7.9277500000000005,
          8.57875,
          9.20325,
          11.00225,
          10.928999999999998,
          11.174750000000001,
          10.53075,
          9.8915,
          8.688500000000001,
          6.99425,
          5.316000000000001,
          4.49775,
          3.8832500000000003,
          3.309,
          3.018,
          2.56225,
          2.19225,
          1.7505000000000002,
          1.4075000000000002,
          0.8475000000000001,
          5.14375,
          7.82625,
          9.1625,
          10.55875,
          11.39375,
          12.330000000000002,
          12.675,
          12.88625,
          13.825000000000001,
          13.0825,
          13.67125,
          12.2575,
          11.8325,
          10.8525,
          8.49875,
          7.7125,
          6.6425,
          5.7975,
          5.39875,
          4.8325,
          4.296250000000001,
          3.74125,
          3.4025,
          3.07625,
          10.898,
          12.132249999999999,
          12.9965,
          14.242249999999999,
          15.089,
          15.3745,
          16.067500000000003,
          16.605000000000004,
          16.591,
          16.33375,
          17.16725,
          16.683249999999997,
          15.944749999999999,
          15.62725,
          14.006250000000001,
          12.2345,
          11.2585,
          10.558,
          10.337,
          10.198,
          9.489,
          8.926000000000002,
          8.567,
          9.3865,
          12.67625,
          14.13375,
          15.072500000000002,
          15.73,
          16.28,
          16.566249999999997,
          17.060000000000002,
          17.778750000000002,
          17.7775,
          18.14375,
          17.933749999999996,
          17.47625,
          17.0375,
          16.63875,
          15.406249999999998,
          13.8975,
          13.21,
          12.3375,
          11.6525,
          11.2425,
          10.63875,
          10.2975,
          10.35875,
          10.2625,
          10.8125,
          13.02375,
          14.74625,
          15.23875,
          16.75625,
          17.05875,
          17.832500000000003,
          18.50875,
          18.4,
          18.240000000000002,
          17.82375,
          17.691250000000004,
          17.228749999999998,
          16.31625,
          15.34,
          14.7625,
          13.92875,
          12.89875,
          12.49125,
          11.903749999999999,
          11.42875,
          10.9625,
          10.51625,
          10.29625,
          7.743250000000001,
          8.87425,
          10.869250000000001,
          12.839500000000001,
          13.8305,
          13.280999999999999,
          13.909749999999999,
          15.789749999999998,
          15.392999999999999,
          15.35475,
          14.79,
          14.51325,
          13.414750000000002,
          12.236,
          11.466750000000001,
          10.75275,
          10.14475,
          9.73425,
          9.148,
          8.8475,
          8.5095,
          8.077,
          7.743250000000001,
          7.56,
          4.495,
          4.37625,
          4.99375,
          6.5975,
          8.94125,
          10.195,
          10.8875,
          11.415,
          10.975,
          10.99625,
          10.105,
          9.0925,
          8.10375,
          7.03,
          7.04375,
          6.4712499999999995,
          5.78875,
          5.7125,
          5.4075,
          5.1525,
          4.73,
          4.515000000000001,
          4.42,
          4.25875,
          0.008250000000000146,
          -0.01049999999999999,
          -0.056749999999999745,
          1.1030000000000002,
          2.97575,
          4.8847499999999995,
          5.45425,
          5.858499999999999,
          6.19725,
          5.946,
          4.838,
          4.177999999999999,
          3.39025,
          2.769,
          2.1355,
          1.8887500000000002,
          1.4360000000000002,
          1.1550000000000002,
          0.83375,
          0.58125,
          0.19750000000000006,
          0.20375000000000004,
          -0.030499999999999992,
          0.07600000000000008,
          -0.21750000000000003,
          -0.335,
          -0.385,
          -0.41500000000000004,
          0.94875,
          2.10125,
          2.86875,
          3.1900000000000004,
          3.61625,
          2.98375,
          2.045,
          0.9112500000000001,
          0.92625,
          0.4,
          -0.05375,
          -0.048750000000000016,
          -0.10875000000000001,
          -0.1175,
          -0.2525,
          -0.27249999999999996,
          -0.3875,
          -0.40625,
          -0.34375,
          -0.40375
         ],
         "yaxis": "y"
        },
        {
         "hovertemplate": "variable=Higher<br>Date=%{x}<br>value=%{y}<extra></extra>",
         "legendgroup": "Higher",
         "line": {
          "color": "#EF553B",
          "dash": "solid"
         },
         "mode": "lines",
         "name": "Higher",
         "orientation": "v",
         "showlegend": true,
         "type": "scatter",
         "x": [
          "M1 H0",
          "M1 H1",
          "M1 H2",
          "M1 H3",
          "M1 H4",
          "M1 H5",
          "M1 H6",
          "M1 H7",
          "M1 H8",
          "M1 H9",
          "M1 H10",
          "M1 H11",
          "M1 H12",
          "M1 H13",
          "M1 H14",
          "M1 H15",
          "M1 H16",
          "M1 H17",
          "M1 H18",
          "M1 H19",
          "M1 H20",
          "M1 H21",
          "M1 H22",
          "M1 H23",
          "M2 H0",
          "M2 H1",
          "M2 H2",
          "M2 H3",
          "M2 H4",
          "M2 H5",
          "M2 H6",
          "M2 H7",
          "M2 H8",
          "M2 H9",
          "M2 H10",
          "M2 H11",
          "M2 H12",
          "M2 H13",
          "M2 H14",
          "M2 H15",
          "M2 H16",
          "M2 H17",
          "M2 H18",
          "M2 H19",
          "M2 H20",
          "M2 H21",
          "M2 H22",
          "M2 H23",
          "M3 H0",
          "M3 H1",
          "M3 H2",
          "M3 H3",
          "M3 H4",
          "M3 H5",
          "M3 H6",
          "M3 H7",
          "M3 H8",
          "M3 H9",
          "M3 H10",
          "M3 H11",
          "M3 H12",
          "M3 H13",
          "M3 H14",
          "M3 H15",
          "M3 H16",
          "M3 H17",
          "M3 H18",
          "M3 H19",
          "M3 H20",
          "M3 H21",
          "M3 H22",
          "M3 H23",
          "M4 H0",
          "M4 H1",
          "M4 H2",
          "M4 H3",
          "M4 H4",
          "M4 H5",
          "M4 H6",
          "M4 H7",
          "M4 H8",
          "M4 H9",
          "M4 H10",
          "M4 H11",
          "M4 H12",
          "M4 H13",
          "M4 H14",
          "M4 H15",
          "M4 H16",
          "M4 H17",
          "M4 H18",
          "M4 H19",
          "M4 H20",
          "M4 H21",
          "M4 H22",
          "M4 H23",
          "M5 H0",
          "M5 H1",
          "M5 H2",
          "M5 H3",
          "M5 H4",
          "M5 H5",
          "M5 H6",
          "M5 H7",
          "M5 H8",
          "M5 H9",
          "M5 H10",
          "M5 H11",
          "M5 H12",
          "M5 H13",
          "M5 H14",
          "M5 H15",
          "M5 H16",
          "M5 H17",
          "M5 H18",
          "M5 H19",
          "M5 H20",
          "M5 H21",
          "M5 H22",
          "M5 H23",
          "M6 H0",
          "M6 H1",
          "M6 H2",
          "M6 H3",
          "M6 H4",
          "M6 H5",
          "M6 H6",
          "M6 H7",
          "M6 H8",
          "M6 H9",
          "M6 H10",
          "M6 H11",
          "M6 H12",
          "M6 H13",
          "M6 H14",
          "M6 H15",
          "M6 H16",
          "M6 H17",
          "M6 H18",
          "M6 H19",
          "M6 H20",
          "M6 H21",
          "M6 H22",
          "M6 H23",
          "M7 H0",
          "M7 H1",
          "M7 H2",
          "M7 H3",
          "M7 H4",
          "M7 H5",
          "M7 H6",
          "M7 H7",
          "M7 H8",
          "M7 H9",
          "M7 H10",
          "M7 H11",
          "M7 H12",
          "M7 H13",
          "M7 H14",
          "M7 H15",
          "M7 H16",
          "M7 H17",
          "M7 H18",
          "M7 H19",
          "M7 H20",
          "M7 H21",
          "M7 H22",
          "M7 H23",
          "M8 H0",
          "M8 H1",
          "M8 H2",
          "M8 H3",
          "M8 H4",
          "M8 H5",
          "M8 H6",
          "M8 H7",
          "M8 H8",
          "M8 H9",
          "M8 H10",
          "M8 H11",
          "M8 H12",
          "M8 H13",
          "M8 H14",
          "M8 H15",
          "M8 H16",
          "M8 H17",
          "M8 H18",
          "M8 H19",
          "M8 H20",
          "M8 H21",
          "M8 H22",
          "M8 H23",
          "M9 H0",
          "M9 H1",
          "M9 H2",
          "M9 H3",
          "M9 H4",
          "M9 H5",
          "M9 H6",
          "M9 H7",
          "M9 H8",
          "M9 H9",
          "M9 H10",
          "M9 H11",
          "M9 H12",
          "M9 H13",
          "M9 H14",
          "M9 H15",
          "M9 H16",
          "M9 H17",
          "M9 H18",
          "M9 H19",
          "M9 H20",
          "M9 H21",
          "M9 H22",
          "M9 H23",
          "M10 H0",
          "M10 H1",
          "M10 H2",
          "M10 H3",
          "M10 H4",
          "M10 H5",
          "M10 H6",
          "M10 H7",
          "M10 H8",
          "M10 H9",
          "M10 H10",
          "M10 H11",
          "M10 H12",
          "M10 H13",
          "M10 H14",
          "M10 H15",
          "M10 H16",
          "M10 H17",
          "M10 H18",
          "M10 H19",
          "M10 H20",
          "M10 H21",
          "M10 H22",
          "M10 H23",
          "M11 H0",
          "M11 H1",
          "M11 H2",
          "M11 H3",
          "M11 H4",
          "M11 H5",
          "M11 H6",
          "M11 H7",
          "M11 H8",
          "M11 H9",
          "M11 H10",
          "M11 H11",
          "M11 H12",
          "M11 H13",
          "M11 H14",
          "M11 H15",
          "M11 H16",
          "M11 H17",
          "M11 H18",
          "M11 H19",
          "M11 H20",
          "M11 H21",
          "M11 H22",
          "M11 H23",
          "M12 H0",
          "M12 H1",
          "M12 H2",
          "M12 H3",
          "M12 H4",
          "M12 H5",
          "M12 H6",
          "M12 H7",
          "M12 H8",
          "M12 H9",
          "M12 H10",
          "M12 H11",
          "M12 H12",
          "M12 H13",
          "M12 H14",
          "M12 H15",
          "M12 H16",
          "M12 H17",
          "M12 H18",
          "M12 H19",
          "M12 H20",
          "M12 H21",
          "M12 H22",
          "M12 H23"
         ],
         "xaxis": "x",
         "y": [
          9.04125,
          9.006250000000001,
          8.97375,
          9,
          9.501249999999999,
          10.067499999999999,
          10.77375,
          11.567499999999999,
          11.379999999999999,
          11.06375,
          10.525,
          10.06,
          9.725,
          9.67125,
          9.221250000000001,
          9.271249999999998,
          9.33875,
          9.462499999999999,
          9.533750000000001,
          9.49375,
          9.2525,
          9.18875,
          9.06625,
          9.0275,
          8.1655,
          8.0495,
          7.977500000000001,
          8.6955,
          9.779500000000002,
          12.421,
          14.257000000000001,
          15.302000000000001,
          16.03525,
          15.9175,
          14.98425,
          13.483250000000002,
          11.406250000000002,
          9.513,
          9.055250000000001,
          8.9715,
          8.75,
          8.60325,
          8.592750000000002,
          8.3375,
          8.330000000000002,
          8.31,
          8.280999999999999,
          8.15625,
          9.05125,
          8.7975,
          9.9625,
          12.252500000000001,
          15.220000000000002,
          18.16375,
          20.13,
          21.668749999999996,
          21.845,
          21.62375,
          20.68,
          18.74375,
          16.29375,
          13.647499999999999,
          12.4475,
          11.923749999999998,
          11.2725,
          10.6875,
          10.08625,
          9.52125,
          9.2775,
          9.3575,
          9.19375,
          9.18,
          11.387,
          12.98675,
          14.964750000000002,
          18.805250000000004,
          22.767750000000003,
          25.65625,
          27.51225,
          28.778750000000002,
          29.24975,
          28.969250000000002,
          27.39825,
          26.057000000000002,
          23.371499999999997,
          20.261750000000003,
          17.29625,
          15.531500000000005,
          14.47775,
          13.4435,
          12.794,
          12.211500000000001,
          11.97825,
          11.462,
          11.366500000000002,
          11.004000000000001,
          16.947499999999998,
          19.161250000000003,
          22.349999999999998,
          25.38,
          28.42125,
          29.945,
          32.11375,
          33.83625,
          34.04375,
          33.85875,
          32.572500000000005,
          30.8125,
          29.028750000000002,
          27.12375,
          24.302500000000002,
          22.0325,
          20.3275,
          19.1275,
          18.5075,
          17.566249999999997,
          16.9325,
          16.45375,
          16.00375,
          16.146250000000002,
          19.88675,
          22.70275,
          25.84175,
          28.87825,
          31.6275,
          33.46900000000001,
          35.1275,
          36.5945,
          36.97725,
          36.749750000000006,
          35.559250000000006,
          34.25850000000001,
          32.10750000000001,
          29.564500000000002,
          26.771749999999997,
          24.108500000000006,
          22.713250000000002,
          21.521750000000004,
          20.457000000000004,
          19.7625,
          18.920500000000004,
          18.172000000000004,
          17.93725,
          18.17575,
          21.262500000000003,
          23.527500000000003,
          26.949999999999996,
          30.58625,
          34.04875,
          37.136250000000004,
          39.07625,
          39.743750000000006,
          40.381249999999994,
          40.386250000000004,
          38.42625,
          36.48,
          34.231249999999996,
          31.341250000000002,
          28.67875,
          26.08,
          24.653750000000002,
          23.68125,
          22.99625,
          22.45125,
          22.005,
          21.029999999999998,
          20.580000000000002,
          20.49125,
          20.9975,
          22.56375,
          25.520000000000003,
          29.15375,
          32.83125,
          35.754999999999995,
          37.801249999999996,
          38.745000000000005,
          39.31125,
          39.07125,
          38.175,
          36.34625,
          34.182500000000005,
          31.57375,
          28.7175,
          26.7825,
          25.68,
          24.6475,
          23.689999999999998,
          22.6675,
          21.79625,
          21.1275,
          20.686249999999998,
          20.28,
          17.591,
          18.23575,
          20.736250000000002,
          24.475,
          28.600750000000005,
          31.18050000000001,
          33.27125000000001,
          34.60625,
          35.196,
          34.542500000000004,
          33.86075,
          31.821500000000007,
          28.532250000000005,
          25.768250000000002,
          23.991500000000002,
          22.35575,
          21.24975,
          20.36575,
          19.372,
          18.8525,
          18.51525,
          18.109250000000003,
          18.429000000000002,
          18.09175,
          14.455000000000002,
          14.4575,
          15.231250000000001,
          17.055,
          19.713749999999997,
          21.92875,
          24.278750000000002,
          25.44375,
          26.316249999999997,
          25.98375,
          24.75375,
          22.595,
          20.292499999999997,
          19.3325,
          18.105,
          17.185,
          16.806250000000002,
          16.18125,
          15.855,
          15.59125,
          15.11375,
          14.826250000000002,
          14.756250000000001,
          14.6325,
          12.835,
          12.732,
          12.657,
          13.320000000000004,
          14.635750000000002,
          16.049000000000007,
          17.370250000000002,
          18.17575,
          18.422,
          18.081500000000005,
          17.210000000000004,
          15.158750000000001,
          14.799750000000001,
          14.440750000000003,
          14.263500000000006,
          13.833500000000004,
          13.507750000000005,
          13.313000000000002,
          12.995000000000001,
          12.933000000000003,
          12.976000000000003,
          12.936000000000003,
          13.016750000000002,
          12.660499999999999,
          10.7825,
          10.5825,
          10.3275,
          10.32875,
          10.8525,
          12.1725,
          13.41375,
          14.1025,
          13.905000000000001,
          13.4575,
          12.5125,
          11.6675,
          11.629999999999999,
          11.3875,
          11.33625,
          11.30125,
          11.40375,
          11.388749999999998,
          11.3325,
          11.2175,
          11.168750000000001,
          11.036249999999999,
          11.0275,
          10.872499999999999
         ],
         "yaxis": "y"
        }
       ],
       "layout": {
        "legend": {
         "title": {
          "text": "variable"
         },
         "tracegroupgap": 0
        },
        "margin": {
         "t": 60
        },
        "template": {
         "data": {
          "bar": [
           {
            "error_x": {
             "color": "#2a3f5f"
            },
            "error_y": {
             "color": "#2a3f5f"
            },
            "marker": {
             "line": {
              "color": "#E5ECF6",
              "width": 0.5
             }
            },
            "type": "bar"
           }
          ],
          "barpolar": [
           {
            "marker": {
             "line": {
              "color": "#E5ECF6",
              "width": 0.5
             }
            },
            "type": "barpolar"
           }
          ],
          "carpet": [
           {
            "aaxis": {
             "endlinecolor": "#2a3f5f",
             "gridcolor": "white",
             "linecolor": "white",
             "minorgridcolor": "white",
             "startlinecolor": "#2a3f5f"
            },
            "baxis": {
             "endlinecolor": "#2a3f5f",
             "gridcolor": "white",
             "linecolor": "white",
             "minorgridcolor": "white",
             "startlinecolor": "#2a3f5f"
            },
            "type": "carpet"
           }
          ],
          "choropleth": [
           {
            "colorbar": {
             "outlinewidth": 0,
             "ticks": ""
            },
            "type": "choropleth"
           }
          ],
          "contour": [
           {
            "colorbar": {
             "outlinewidth": 0,
             "ticks": ""
            },
            "colorscale": [
             [
              0,
              "#0d0887"
             ],
             [
              0.1111111111111111,
              "#46039f"
             ],
             [
              0.2222222222222222,
              "#7201a8"
             ],
             [
              0.3333333333333333,
              "#9c179e"
             ],
             [
              0.4444444444444444,
              "#bd3786"
             ],
             [
              0.5555555555555556,
              "#d8576b"
             ],
             [
              0.6666666666666666,
              "#ed7953"
             ],
             [
              0.7777777777777778,
              "#fb9f3a"
             ],
             [
              0.8888888888888888,
              "#fdca26"
             ],
             [
              1,
              "#f0f921"
             ]
            ],
            "type": "contour"
           }
          ],
          "contourcarpet": [
           {
            "colorbar": {
             "outlinewidth": 0,
             "ticks": ""
            },
            "type": "contourcarpet"
           }
          ],
          "heatmap": [
           {
            "colorbar": {
             "outlinewidth": 0,
             "ticks": ""
            },
            "colorscale": [
             [
              0,
              "#0d0887"
             ],
             [
              0.1111111111111111,
              "#46039f"
             ],
             [
              0.2222222222222222,
              "#7201a8"
             ],
             [
              0.3333333333333333,
              "#9c179e"
             ],
             [
              0.4444444444444444,
              "#bd3786"
             ],
             [
              0.5555555555555556,
              "#d8576b"
             ],
             [
              0.6666666666666666,
              "#ed7953"
             ],
             [
              0.7777777777777778,
              "#fb9f3a"
             ],
             [
              0.8888888888888888,
              "#fdca26"
             ],
             [
              1,
              "#f0f921"
             ]
            ],
            "type": "heatmap"
           }
          ],
          "heatmapgl": [
           {
            "colorbar": {
             "outlinewidth": 0,
             "ticks": ""
            },
            "colorscale": [
             [
              0,
              "#0d0887"
             ],
             [
              0.1111111111111111,
              "#46039f"
             ],
             [
              0.2222222222222222,
              "#7201a8"
             ],
             [
              0.3333333333333333,
              "#9c179e"
             ],
             [
              0.4444444444444444,
              "#bd3786"
             ],
             [
              0.5555555555555556,
              "#d8576b"
             ],
             [
              0.6666666666666666,
              "#ed7953"
             ],
             [
              0.7777777777777778,
              "#fb9f3a"
             ],
             [
              0.8888888888888888,
              "#fdca26"
             ],
             [
              1,
              "#f0f921"
             ]
            ],
            "type": "heatmapgl"
           }
          ],
          "histogram": [
           {
            "marker": {
             "colorbar": {
              "outlinewidth": 0,
              "ticks": ""
             }
            },
            "type": "histogram"
           }
          ],
          "histogram2d": [
           {
            "colorbar": {
             "outlinewidth": 0,
             "ticks": ""
            },
            "colorscale": [
             [
              0,
              "#0d0887"
             ],
             [
              0.1111111111111111,
              "#46039f"
             ],
             [
              0.2222222222222222,
              "#7201a8"
             ],
             [
              0.3333333333333333,
              "#9c179e"
             ],
             [
              0.4444444444444444,
              "#bd3786"
             ],
             [
              0.5555555555555556,
              "#d8576b"
             ],
             [
              0.6666666666666666,
              "#ed7953"
             ],
             [
              0.7777777777777778,
              "#fb9f3a"
             ],
             [
              0.8888888888888888,
              "#fdca26"
             ],
             [
              1,
              "#f0f921"
             ]
            ],
            "type": "histogram2d"
           }
          ],
          "histogram2dcontour": [
           {
            "colorbar": {
             "outlinewidth": 0,
             "ticks": ""
            },
            "colorscale": [
             [
              0,
              "#0d0887"
             ],
             [
              0.1111111111111111,
              "#46039f"
             ],
             [
              0.2222222222222222,
              "#7201a8"
             ],
             [
              0.3333333333333333,
              "#9c179e"
             ],
             [
              0.4444444444444444,
              "#bd3786"
             ],
             [
              0.5555555555555556,
              "#d8576b"
             ],
             [
              0.6666666666666666,
              "#ed7953"
             ],
             [
              0.7777777777777778,
              "#fb9f3a"
             ],
             [
              0.8888888888888888,
              "#fdca26"
             ],
             [
              1,
              "#f0f921"
             ]
            ],
            "type": "histogram2dcontour"
           }
          ],
          "mesh3d": [
           {
            "colorbar": {
             "outlinewidth": 0,
             "ticks": ""
            },
            "type": "mesh3d"
           }
          ],
          "parcoords": [
           {
            "line": {
             "colorbar": {
              "outlinewidth": 0,
              "ticks": ""
             }
            },
            "type": "parcoords"
           }
          ],
          "pie": [
           {
            "automargin": true,
            "type": "pie"
           }
          ],
          "scatter": [
           {
            "marker": {
             "colorbar": {
              "outlinewidth": 0,
              "ticks": ""
             }
            },
            "type": "scatter"
           }
          ],
          "scatter3d": [
           {
            "line": {
             "colorbar": {
              "outlinewidth": 0,
              "ticks": ""
             }
            },
            "marker": {
             "colorbar": {
              "outlinewidth": 0,
              "ticks": ""
             }
            },
            "type": "scatter3d"
           }
          ],
          "scattercarpet": [
           {
            "marker": {
             "colorbar": {
              "outlinewidth": 0,
              "ticks": ""
             }
            },
            "type": "scattercarpet"
           }
          ],
          "scattergeo": [
           {
            "marker": {
             "colorbar": {
              "outlinewidth": 0,
              "ticks": ""
             }
            },
            "type": "scattergeo"
           }
          ],
          "scattergl": [
           {
            "marker": {
             "colorbar": {
              "outlinewidth": 0,
              "ticks": ""
             }
            },
            "type": "scattergl"
           }
          ],
          "scattermapbox": [
           {
            "marker": {
             "colorbar": {
              "outlinewidth": 0,
              "ticks": ""
             }
            },
            "type": "scattermapbox"
           }
          ],
          "scatterpolar": [
           {
            "marker": {
             "colorbar": {
              "outlinewidth": 0,
              "ticks": ""
             }
            },
            "type": "scatterpolar"
           }
          ],
          "scatterpolargl": [
           {
            "marker": {
             "colorbar": {
              "outlinewidth": 0,
              "ticks": ""
             }
            },
            "type": "scatterpolargl"
           }
          ],
          "scatterternary": [
           {
            "marker": {
             "colorbar": {
              "outlinewidth": 0,
              "ticks": ""
             }
            },
            "type": "scatterternary"
           }
          ],
          "surface": [
           {
            "colorbar": {
             "outlinewidth": 0,
             "ticks": ""
            },
            "colorscale": [
             [
              0,
              "#0d0887"
             ],
             [
              0.1111111111111111,
              "#46039f"
             ],
             [
              0.2222222222222222,
              "#7201a8"
             ],
             [
              0.3333333333333333,
              "#9c179e"
             ],
             [
              0.4444444444444444,
              "#bd3786"
             ],
             [
              0.5555555555555556,
              "#d8576b"
             ],
             [
              0.6666666666666666,
              "#ed7953"
             ],
             [
              0.7777777777777778,
              "#fb9f3a"
             ],
             [
              0.8888888888888888,
              "#fdca26"
             ],
             [
              1,
              "#f0f921"
             ]
            ],
            "type": "surface"
           }
          ],
          "table": [
           {
            "cells": {
             "fill": {
              "color": "#EBF0F8"
             },
             "line": {
              "color": "white"
             }
            },
            "header": {
             "fill": {
              "color": "#C8D4E3"
             },
             "line": {
              "color": "white"
             }
            },
            "type": "table"
           }
          ]
         },
         "layout": {
          "annotationdefaults": {
           "arrowcolor": "#2a3f5f",
           "arrowhead": 0,
           "arrowwidth": 1
          },
          "autotypenumbers": "strict",
          "coloraxis": {
           "colorbar": {
            "outlinewidth": 0,
            "ticks": ""
           }
          },
          "colorscale": {
           "diverging": [
            [
             0,
             "#8e0152"
            ],
            [
             0.1,
             "#c51b7d"
            ],
            [
             0.2,
             "#de77ae"
            ],
            [
             0.3,
             "#f1b6da"
            ],
            [
             0.4,
             "#fde0ef"
            ],
            [
             0.5,
             "#f7f7f7"
            ],
            [
             0.6,
             "#e6f5d0"
            ],
            [
             0.7,
             "#b8e186"
            ],
            [
             0.8,
             "#7fbc41"
            ],
            [
             0.9,
             "#4d9221"
            ],
            [
             1,
             "#276419"
            ]
           ],
           "sequential": [
            [
             0,
             "#0d0887"
            ],
            [
             0.1111111111111111,
             "#46039f"
            ],
            [
             0.2222222222222222,
             "#7201a8"
            ],
            [
             0.3333333333333333,
             "#9c179e"
            ],
            [
             0.4444444444444444,
             "#bd3786"
            ],
            [
             0.5555555555555556,
             "#d8576b"
            ],
            [
             0.6666666666666666,
             "#ed7953"
            ],
            [
             0.7777777777777778,
             "#fb9f3a"
            ],
            [
             0.8888888888888888,
             "#fdca26"
            ],
            [
             1,
             "#f0f921"
            ]
           ],
           "sequentialminus": [
            [
             0,
             "#0d0887"
            ],
            [
             0.1111111111111111,
             "#46039f"
            ],
            [
             0.2222222222222222,
             "#7201a8"
            ],
            [
             0.3333333333333333,
             "#9c179e"
            ],
            [
             0.4444444444444444,
             "#bd3786"
            ],
            [
             0.5555555555555556,
             "#d8576b"
            ],
            [
             0.6666666666666666,
             "#ed7953"
            ],
            [
             0.7777777777777778,
             "#fb9f3a"
            ],
            [
             0.8888888888888888,
             "#fdca26"
            ],
            [
             1,
             "#f0f921"
            ]
           ]
          },
          "colorway": [
           "#636efa",
           "#EF553B",
           "#00cc96",
           "#ab63fa",
           "#FFA15A",
           "#19d3f3",
           "#FF6692",
           "#B6E880",
           "#FF97FF",
           "#FECB52"
          ],
          "font": {
           "color": "#2a3f5f"
          },
          "geo": {
           "bgcolor": "white",
           "lakecolor": "white",
           "landcolor": "#E5ECF6",
           "showlakes": true,
           "showland": true,
           "subunitcolor": "white"
          },
          "hoverlabel": {
           "align": "left"
          },
          "hovermode": "closest",
          "mapbox": {
           "style": "light"
          },
          "paper_bgcolor": "white",
          "plot_bgcolor": "#E5ECF6",
          "polar": {
           "angularaxis": {
            "gridcolor": "white",
            "linecolor": "white",
            "ticks": ""
           },
           "bgcolor": "#E5ECF6",
           "radialaxis": {
            "gridcolor": "white",
            "linecolor": "white",
            "ticks": ""
           }
          },
          "scene": {
           "xaxis": {
            "backgroundcolor": "#E5ECF6",
            "gridcolor": "white",
            "gridwidth": 2,
            "linecolor": "white",
            "showbackground": true,
            "ticks": "",
            "zerolinecolor": "white"
           },
           "yaxis": {
            "backgroundcolor": "#E5ECF6",
            "gridcolor": "white",
            "gridwidth": 2,
            "linecolor": "white",
            "showbackground": true,
            "ticks": "",
            "zerolinecolor": "white"
           },
           "zaxis": {
            "backgroundcolor": "#E5ECF6",
            "gridcolor": "white",
            "gridwidth": 2,
            "linecolor": "white",
            "showbackground": true,
            "ticks": "",
            "zerolinecolor": "white"
           }
          },
          "shapedefaults": {
           "line": {
            "color": "#2a3f5f"
           }
          },
          "ternary": {
           "aaxis": {
            "gridcolor": "white",
            "linecolor": "white",
            "ticks": ""
           },
           "baxis": {
            "gridcolor": "white",
            "linecolor": "white",
            "ticks": ""
           },
           "bgcolor": "#E5ECF6",
           "caxis": {
            "gridcolor": "white",
            "linecolor": "white",
            "ticks": ""
           }
          },
          "title": {
           "x": 0.05
          },
          "xaxis": {
           "automargin": true,
           "gridcolor": "white",
           "linecolor": "white",
           "ticks": "",
           "title": {
            "standoff": 15
           },
           "zerolinecolor": "white",
           "zerolinewidth": 2
          },
          "yaxis": {
           "automargin": true,
           "gridcolor": "white",
           "linecolor": "white",
           "ticks": "",
           "title": {
            "standoff": 15
           },
           "zerolinecolor": "white",
           "zerolinewidth": 2
          }
         }
        },
        "xaxis": {
         "anchor": "y",
         "domain": [
          0,
          1
         ],
         "title": {
          "text": "Date"
         }
        },
        "yaxis": {
         "anchor": "x",
         "domain": [
          0,
          1
         ],
         "title": {
          "text": "value"
         }
        }
       }
      }
     },
     "metadata": {}
    }
   ],
   "source": [
    "import plotly.express as px\n",
    "\n",
    "fig = px.line(historic_interval, y=[historic_interval.Lower,historic_interval.Higher], x=historic_interval.index)\n",
    "\n",
    "fig.show()"
   ]
  },
  {
   "cell_type": "code",
   "execution_count": 18,
   "metadata": {},
   "outputs": [],
   "source": [
    "historic_interval = historic_interval.set_index(monthly_index.Date)"
   ]
  }
 ]
}