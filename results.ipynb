{
 "metadata": {
  "language_info": {
   "codemirror_mode": {
    "name": "ipython",
    "version": 3
   },
   "file_extension": ".py",
   "mimetype": "text/x-python",
   "name": "python",
   "nbconvert_exporter": "python",
   "pygments_lexer": "ipython3",
   "version": "3.9.5"
  },
  "orig_nbformat": 2,
  "kernelspec": {
   "name": "python3",
   "display_name": "Python 3.9.5 64-bit"
  },
  "interpreter": {
   "hash": "aee8b7b246df8f9039afb4144a1f6fd8d2ca17a180786b69acc140d282b71a49"
  }
 },
 "nbformat": 4,
 "nbformat_minor": 2,
 "cells": [
  {
   "cell_type": "code",
   "execution_count": null,
   "metadata": {},
   "outputs": [],
   "source": [
    "import pandas as pd\n",
    "import historic\n",
    "from pathlib import Path\n",
    "import cityRemap\n",
    "from sklearn.utils import resample\n",
    "import numpy as np\n",
    "import scipy\n",
    "import seaborn as sns\n",
    "import matplotlib.pyplot as plt"
   ]
  },
  {
   "source": [
    "## import testset"
   ],
   "cell_type": "markdown",
   "metadata": {}
  },
  {
   "cell_type": "code",
   "execution_count": null,
   "metadata": {
    "tags": []
   },
   "outputs": [],
   "source": [
    "testset = pd.read_csv(Path('extracted/high/AMS.csv'))\n",
    "testset['dt'] = pd.DatetimeIndex(testset.dt)\n",
    "testset = testset[testset['dt'].dt.year==2020]\n",
    "testset = testset[['dt','Temperature']]"
   ]
  },
  {
   "source": [
    "## get date range for tbats"
   ],
   "cell_type": "markdown",
   "metadata": {}
  },
  {
   "cell_type": "code",
   "execution_count": null,
   "metadata": {},
   "outputs": [],
   "source": [
    "df = pd.DataFrame(\n",
    "        {'dt': pd.date_range('2021-01-01', '2022-01-01', freq='1H', closed='left')})"
   ]
  },
  {
   "cell_type": "code",
   "execution_count": null,
   "metadata": {},
   "outputs": [],
   "source": [
    "date = pd.DataFrame()\n",
    "for month in range(1,13):\n",
    "    month_data = df[df.dt.dt.month==month]\n",
    "    date = date.append(month_data.iloc[0:24],ignore_index=True)\n",
    "date = pd.DatetimeIndex(date.dt)"
   ]
  },
  {
   "source": [],
   "cell_type": "markdown",
   "metadata": {}
  },
  {
   "source": [
    "## get histrical interval"
   ],
   "cell_type": "markdown",
   "metadata": {}
  },
  {
   "cell_type": "code",
   "execution_count": null,
   "metadata": {
    "tags": []
   },
   "outputs": [],
   "source": [
    "def get_historical(conf,year):    \n",
    "    historic_interval = pd.DataFrame()\n",
    "    historic_data = pd.read_csv('extracted/high/AMS.csv')\n",
    "    historic_data.dt = pd.DatetimeIndex(historic_data.dt)\n",
    "    historic_data = historic_data[(historic_data.dt.dt.year>2019-year) & (historic_data.dt.dt.year<2020)]\n",
    "    for month in range(1,13):\n",
    "        for hour in range(24):  \n",
    "                points = historic_data.loc[(historic_data.dt.dt.hour==hour) & (historic_data.dt.dt.month==month)]\n",
    "                lower = points['Temperature'].quantile((1-conf)/2)\n",
    "                higher = points['Temperature'].quantile(1-((1-conf)/2))\n",
    "                historic_interval = historic_interval.append({'Lower':lower,'Higher':higher}, ignore_index=True)\n",
    "    historic_interval = historic_interval.set_index(date)\n",
    "    return historic_interval"
   ]
  },
  {
   "cell_type": "code",
   "execution_count": null,
   "metadata": {},
   "outputs": [],
   "source": [
    "historic_data = pd.read_csv('extracted/high/AMS.csv')\n",
    "temp  =historic_data[['dt','Temperature']]\n",
    "temp.dt = pd.DatetimeIndex(temp.dt)"
   ]
  },
  {
   "cell_type": "code",
   "execution_count": null,
   "metadata": {
    "tags": []
   },
   "outputs": [],
   "source": [
    "def result(interval_set):\n",
    "    correct = 0\n",
    "    total = 0\n",
    "    old_correct = 0\n",
    "    for hour in range(24):\n",
    "        for month in range(1,13):\n",
    "            upper,lower = interval_set[(interval_set.index.hour==hour) & (interval_set.index.month==month)].iloc[0].values\n",
    "            points = testset.loc[(testset.dt.dt.hour==hour) & (testset.dt.dt.month==month)]\n",
    "            total += len(points)\n",
    "            correct += points['Temperature'].between(lower,upper).sum()\n",
    "        old_correct = correct\n",
    "    return correct/total"
   ]
  },
  {
   "cell_type": "code",
   "execution_count": null,
   "metadata": {},
   "outputs": [],
   "source": [
    "def get_optimal(conf):\n",
    "    optimal = pd.DataFrame()\n",
    "    for month in range(1,13):\n",
    "        for hour in range(24):\n",
    "            points = testset[(testset.dt.dt.month==month) & (testset.dt.dt.hour==hour)]\n",
    "            upper = points['Temperature'].quantile(conf)\n",
    "            lower = points['Temperature'].quantile(1-conf)\n",
    "            optimal = optimal.append({'Lower':lower,'Higher':upper},ignore_index=True)\n",
    "    return optimal"
   ]
  },
  {
   "cell_type": "code",
   "execution_count": null,
   "metadata": {},
   "outputs": [],
   "source": [
    "def get_width(interval):\n",
    "    return (interval['Higher']-interval['Lower']).mean()"
   ]
  },
  {
   "cell_type": "code",
   "execution_count": null,
   "metadata": {},
   "outputs": [],
   "source": [
    "conf = [0.8,0.9,0.95,0.99,1]"
   ]
  },
  {
   "cell_type": "code",
   "execution_count": null,
   "metadata": {},
   "outputs": [],
   "source": [
    "optimal_line = pd.DataFrame()\n",
    "for con in conf:\n",
    "    optimal_line = optimal_line.append({'Confidence':con,'Width':get_width(get_optimal(con))},ignore_index=True)"
   ]
  },
  {
   "cell_type": "code",
   "execution_count": null,
   "metadata": {},
   "outputs": [],
   "source": [
    "hist_points = pd.DataFrame()\n",
    "for con in conf:\n",
    "    intervals = get_historical(con,10)\n",
    "    width = get_width(intervals)\n",
    "    true_confidence = result(intervals)\n",
    "    hist_points = hist_points.append({'Type':'Hist {}'.format(con),'Confidence':true_confidence,'Width':width,'Method':'Historical interval 10y'}, ignore_index=True)\n",
    "for con in conf:\n",
    "    intervals = get_historical(con,5)\n",
    "    width = get_width(intervals)\n",
    "    true_confidence = result(intervals)\n",
    "    hist_points = hist_points.append({'Type':'Hist {}'.format(con),'Confidence':true_confidence,'Width':width,'Method':'Historical interval 5y'}, ignore_index=True)\n",
    "for con in conf:\n",
    "    intervals = get_historical(con,3)\n",
    "    width = get_width(intervals)\n",
    "    true_confidence = result(intervals)\n",
    "    hist_points = hist_points.append({'Type':'Hist {}'.format(con),'Confidence':true_confidence,'Width':width,'Method':'Historical interval 3y'}, ignore_index=True)\n",
    "for con in conf:\n",
    "    intervals = get_historical(con,1)\n",
    "    width = get_width(intervals)\n",
    "    true_confidence = result(intervals)\n",
    "    hist_points = hist_points.append({'Type':'Hist {}'.format(con),'Confidence':true_confidence,'Width':width,'Method':'Historical interval 1y'}, ignore_index=True)    "
   ]
  },
  {
   "cell_type": "code",
   "execution_count": null,
   "metadata": {},
   "outputs": [],
   "source": [
    "fg = sns.FacetGrid(data=hist_points, palette=sns.color_palette(),hue='Method', size=5, aspect=1.5)\n",
    "fg.map(plt.scatter,'Confidence', 'Width').add_legend()\n",
    "fg.axes[0,0].plot(optimal_line.Confidence, optimal_line['Width'], marker=\"o\", label='Optimal')\n",
    "plt.title(\"Amsterdam 2020\")\n",
    "plt.xlim(0.50, 1.01)\n",
    "plt.show()"
   ]
  },
  {
   "source": [
    "# TBATS"
   ],
   "cell_type": "markdown",
   "metadata": {}
  },
  {
   "cell_type": "code",
   "execution_count": null,
   "metadata": {},
   "outputs": [],
   "source": [
    "inter = get_historical(0.95,3)"
   ]
  },
  {
   "cell_type": "code",
   "execution_count": null,
   "metadata": {},
   "outputs": [],
   "source": [
    "test = pd.read_excel('AMStbatsAVG.xlsx')\n",
    "for con in conf:\n",
    "    sarimax_interval = pd.DataFrame()\n",
    "    intervals = get_historical(0.95,10)\n",
    "    for i in range(len(test)):\n",
    "        higher = intervals.iloc[i]['Higher']\n",
    "        lower = intervals.iloc[i]['Lower']\n",
    "        half = (higher-lower)/2\n",
    "        upper = test.iloc[i]['pointForcast']+half\n",
    "        lower = test.iloc[i]['pointForcast']-half\n",
    "        sarimax_interval = sarimax_interval.append({'Lower':lower,'Higher':upper},ignore_index=True)\n",
    "    sarimax_interval = sarimax_interval.set_index(date)\n",
    "\n",
    "    hist_points = hist_points.append({'Type':'TBATS','Confidence':result(sarimax_interval),'Width':get_width(sarimax_interval),'Method':'TBATS'}, ignore_index=True)"
   ]
  },
  {
   "source": [
    "## get tbats interval"
   ],
   "cell_type": "markdown",
   "metadata": {}
  },
  {
   "cell_type": "code",
   "execution_count": null,
   "metadata": {},
   "outputs": [],
   "source": [
    "# ams_tbats = pd.read_excel('AMSexportTbatsConf95final.xlsx')\n",
    "# ams_tbats = ams_tbats.rename(columns={'lo':'Lower','hi':'Higher'})\n",
    "# tbats_interval = pd.DataFrame()\n",
    "# for month in range(12):\n",
    "#         for hour in range(24):\n",
    "#             points = ams_tbats.loc[(ams_tbats.index.hour==hour) & (ams_tbats.index.month==month+1)]\n",
    "#             lower = points['Temperature'].quantile(0)\n",
    "#             higher = points['Temperature'].quantile(1)\n",
    "#             tbats_interval = tbats_interval.append({'Lower':lower,'Higher':higher}, ignore_index=True)\n",
    "# tbats_interval = tbats_interval.set_index(date.dt)"
   ]
  },
  {
   "source": [
    "# LSTM mean"
   ],
   "cell_type": "markdown",
   "metadata": {}
  },
  {
   "cell_type": "code",
   "execution_count": null,
   "metadata": {},
   "outputs": [],
   "source": [
    "mean_ams = pd.read_csv('LSTM_mean_AMS.csv')\n",
    "width_ams = pd.read_csv('ams_pred_width.csv')"
   ]
  },
  {
   "cell_type": "code",
   "execution_count": null,
   "metadata": {},
   "outputs": [],
   "source": [
    "ams_mean_interval = pd.DataFrame()\n",
    "for i in range(len(mean_ams['Mean'])):\n",
    "    half = abs(width_ams['Width'][i]/2)\n",
    "    point = mean_ams['Mean'][i]\n",
    "    upper_point = point + half\n",
    "    lower_point = point - half\n",
    "    ams_mean_interval = ams_mean_interval.append({'Lower':lower_point,'Higher':upper_point},ignore_index=True)\n",
    "ams_mean_interval.index =date\n",
    "intervalswidth = get_width(ams_mean_interval)\n",
    "true_confidence = result(ams_mean_interval)\n",
    "hist_points = hist_points.append({'Type':'LSTM both','Confidence':true_confidence,'Width':intervalswidth,'Method':'LSTM both'}, ignore_index=True)"
   ]
  },
  {
   "cell_type": "code",
   "execution_count": null,
   "metadata": {},
   "outputs": [],
   "source": [
    "hist_points"
   ]
  },
  {
   "cell_type": "code",
   "execution_count": null,
   "metadata": {},
   "outputs": [],
   "source": [
    "for con in conf:\n",
    "    ams_mean_interval = pd.DataFrame()\n",
    "    intervals = get_historical(con,10)\n",
    "    for i in range(len(mean_ams['0'])):\n",
    "        higher = intervals.iloc[i]['Higher']\n",
    "        lower = intervals.iloc[i]['Lower']\n",
    "        half = (higher-lower)/2\n",
    "        point = mean_ams.iloc[i]['0']\n",
    "        upper_point = point + half\n",
    "        lower_point = point - half\n",
    "        ams_mean_interval = ams_mean_interval.append({'Lower':lower_point,'Higher':upper_point},ignore_index=True)\n",
    "    ams_mean_interval.index =date\n",
    "    intervalswidth = get_width(ams_mean_interval)\n",
    "    true_confidence = result(ams_mean_interval)\n",
    "    hist_points = hist_points.append({'Type':'LSTM','Confidence':true_confidence,'Width':intervalswidth,'Method':'LSTM'}, ignore_index=True)"
   ]
  },
  {
   "source": [
    "# Non parametric bootstrap"
   ],
   "cell_type": "markdown",
   "metadata": {}
  },
  {
   "cell_type": "code",
   "execution_count": null,
   "metadata": {},
   "outputs": [],
   "source": [
    "# def get_historical_boot(conf,year):    \n",
    "#     historic_interval = pd.DataFrame()\n",
    "#     historic_data = pd.read_csv('extracted/high/AMS.csv')\n",
    "#     historic_data.dt = pd.DatetimeIndex(historic_data.dt)\n",
    "#     historic_data = historic_data[(historic_data.dt.dt.year>2019-year) & (historic_data.dt.dt.year<2020)]\n",
    "#     for month in range(1,13):\n",
    "#         for hour in range(24):\n",
    "#                 points = historic_data.loc[(historic_data.dt.dt.hour==hour) & (historic_data.dt.dt.month==month)]\n",
    "#                 points = resample(points, replace=True, n_samples=50000, random_state=1)\n",
    "#                 lower = points['Temperature'].quantile(1-conf)\n",
    "#                 higher = points['Temperature'].quantile(conf)\n",
    "#                 historic_interval = historic_interval.append({'Lower':lower,'Higher':higher}, ignore_index=True)\n",
    "#     historic_interval = historic_interval.set_index(date)\n",
    "#     return historic_interval"
   ]
  },
  {
   "cell_type": "code",
   "execution_count": null,
   "metadata": {},
   "outputs": [],
   "source": [
    "def get_historical_boot(conf,year):    \n",
    "    historic_interval = pd.DataFrame()\n",
    "    historic_data = pd.read_csv('extracted/high/AMS.csv')\n",
    "    historic_data.dt = pd.DatetimeIndex(historic_data.dt)\n",
    "    historic_data = historic_data[(historic_data.dt.dt.year>2019-year) & (historic_data.dt.dt.year<2020)]\n",
    "    for month in range(1,13):\n",
    "        for hour in range(24):\n",
    "                points = historic_data.loc[(historic_data.dt.dt.hour==hour) & (historic_data.dt.dt.month==month)]\n",
    "                points_size = len(points)\n",
    "                higher_b,lower_b = [],[]\n",
    "                for i in range(1000):\n",
    "                    points = resample(points, replace=True, n_samples=points_size, random_state=1)\n",
    "                    lower_b.append(points['Temperature'].quantile(1-conf))\n",
    "                    higher_b.append(points['Temperature'].quantile(conf))\n",
    "                historic_interval = historic_interval.append({'Lower':np.mean(lower_b),'Higher':np.mean(higher_b)}, ignore_index=True)\n",
    "    historic_interval = historic_interval.set_index(date)\n",
    "    return historic_interval"
   ]
  },
  {
   "cell_type": "code",
   "execution_count": null,
   "metadata": {},
   "outputs": [],
   "source": [
    "intervals = get_historical_boot(0.95,5)\n",
    "width = get_width(intervals)\n",
    "true_confidence = result(intervals)\n",
    "hist_points = hist_points.append({'Type':'Hist {}'.format(con),'Confidence':true_confidence,'Width':width,'Method':'5y bootstrap'}, ignore_index=True)    "
   ]
  },
  {
   "cell_type": "code",
   "execution_count": null,
   "metadata": {},
   "outputs": [],
   "source": [
    "def get_historical_boot(conf,year):    \n",
    "    historic_interval = pd.DataFrame()\n",
    "    historic_data = pd.read_csv('extracted/high/AMS.csv')\n",
    "    historic_data.dt = pd.DatetimeIndex(historic_data.dt)\n",
    "    historic_data = historic_data[(historic_data.dt.dt.year>2019-year) & (historic_data.dt.dt.year<2020)]\n",
    "    for month in range(1,13):\n",
    "        for hour in range(24):\n",
    "                points = historic_data.loc[(historic_data.dt.dt.hour==hour) & (historic_data.dt.dt.month==month)]\n",
    "                points = resample(points, replace=True, n_samples=50000, random_state=1)\n",
    "                lower = points['Temperature'].quantile(1-conf)\n",
    "                higher = points['Temperature'].quantile(conf)\n",
    "                historic_interval = historic_interval.append({'Lower':lower,'Higher':higher}, ignore_index=True)\n",
    "    historic_interval = historic_interval.set_index(date)\n",
    "    return historic_interval"
   ]
  },
  {
   "cell_type": "code",
   "execution_count": null,
   "metadata": {},
   "outputs": [],
   "source": [
    "historic_data = pd.read_csv('extracted/high/AMS.csv')\n",
    "historic_data.dt = pd.DatetimeIndex(historic_data.dt)\n",
    "historic_data = historic_data[(historic_data.dt.dt.year>2019-5) & (historic_data.dt.dt.year<2020)]\n",
    "\n",
    "points = historic_data.loc[(historic_data.dt.dt.hour==1) & (historic_data.dt.dt.month==1)]\n",
    "points = resample(points, replace=True, n_samples=10000, random_state=1)"
   ]
  },
  {
   "cell_type": "code",
   "execution_count": null,
   "metadata": {},
   "outputs": [],
   "source": [
    "for con in conf:\n",
    "    intervals = get_historical_boot(con,5)\n",
    "    width = get_width(intervals)\n",
    "    true_confidence = result(intervals)\n",
    "    hist_points = hist_points.append({'Type':'Hist {}'.format(con),'Confidence':true_confidence,'Width':width,'Method':'5y bootstrap'}, ignore_index=True)    "
   ]
  },
  {
   "cell_type": "code",
   "execution_count": null,
   "metadata": {},
   "outputs": [],
   "source": [
    "for con in conf:\n",
    "    intervals = get_historical_boot(con,10)\n",
    "    width = get_width(intervals)\n",
    "    true_confidence = result(intervals)\n",
    "    hist_points = hist_points.append({'Type':'Hist {}'.format(con),'Confidence':true_confidence,'Width':width,'Method':'10y bootstrap'}, ignore_index=True) "
   ]
  },
  {
   "source": [
    "# Parametric bootstrap"
   ],
   "cell_type": "markdown",
   "metadata": {}
  },
  {
   "cell_type": "code",
   "execution_count": null,
   "metadata": {},
   "outputs": [],
   "source": [
    "def get_historical_par_boot(conf,year):    \n",
    "    historic_interval = pd.DataFrame()\n",
    "    historic_data = pd.read_csv('extracted/high/AMS.csv')\n",
    "    historic_data.dt = pd.DatetimeIndex(historic_data.dt)\n",
    "    historic_data = historic_data[(historic_data.dt.dt.year>2019-year) & (historic_data.dt.dt.year<2020)]\n",
    "    for month in range(1,13):\n",
    "        for hour in range(24):\n",
    "                points = historic_data.loc[(historic_data.dt.dt.hour==hour) & (historic_data.dt.dt.month==month)]\n",
    "                num_points = len(points)\n",
    "                upper,lower = [],[]\n",
    "                for i in range(1000):\n",
    "                    np.random.normal(points.mean(),points.std(), num_points)\n",
    "                    points = resample(points, replace=True, n_samples=num_points, random_state=1)\n",
    "                    upper.append(points.quantile(conf))\n",
    "                    lower.append(points.quantile(1-conf))\n",
    "                historic_interval = historic_interval.append({'Lower':np.mean(lower),'Higher':np.mean(higher)}, ignore_index=True)\n",
    "    historic_interval = historic_interval.set_index(date)\n",
    "    return historic_interval"
   ]
  },
  {
   "cell_type": "code",
   "execution_count": null,
   "metadata": {},
   "outputs": [],
   "source": [
    "for con in conf:\n",
    "    intervals = get_historical_boot(con,5)\n",
    "    width = get_width(intervals)\n",
    "    true_confidence = result(intervals)\n",
    "    hist_points = hist_points.append({'Type':'Hist {}'.format(con),'Confidence':true_confidence,'Width':width,'Method':'5y param bootstrap'}, ignore_index=True) "
   ]
  },
  {
   "cell_type": "code",
   "execution_count": null,
   "metadata": {},
   "outputs": [],
   "source": [
    "fg = sns.FacetGrid(data=hist_points, palette=sns.color_palette(),hue='Method', size=5, aspect=1.5)\n",
    "fg.map(plt.scatter,'Confidence', 'Width').add_legend()\n",
    "fg.axes[0,0].plot(optimal_line.Confidence, optimal_line['Width'], marker=\"o\", label='Optimal')\n",
    "plt.title(\"Amsterdam 2020\")\n",
    "plt.xlim(0.50, 1.01)\n",
    "plt.show()"
   ]
  },
  {
   "cell_type": "code",
   "execution_count": null,
   "metadata": {},
   "outputs": [],
   "source": [
    "for con in conf:\n",
    "    tbats_interval = pd.DataFrame()\n",
    "    intervals = get_historical(con,5)\n",
    "    for i in range(len(allpoint)):\n",
    "        half = get_width(intervals.iloc[i]/2)\n",
    "        upper = allpoint.iloc[i]['pointForecast']+half\n",
    "        lower = allpoint.iloc[i]['pointForecast']-half\n",
    "        tbats_interval = tbats_interval.append({'Lower':lower,'Higher':upper},ignore_index=True)\n",
    "    tbats_interval = tbats_interval.set_index(date)\n",
    "\n",
    "    hist_points = hist_points.append({'Type':'allpoint','Confidence':result(sarimax_interval),'Width':get_width(sarimax_interval),'Method':'allpoint'}, ignore_index=True)"
   ]
  },
  {
   "cell_type": "code",
   "execution_count": null,
   "metadata": {},
   "outputs": [],
   "source": [
    "allpoints_mean = pd.DataFrame()\n",
    "\n",
    "for month in range(1,13):\n",
    "    for hour in range(24):  \n",
    "            points = allpoint.loc[(allpoint.index.hour==hour) & (allpoint.index.month==month)]\n",
    "            allpoints_mean = allpoints_mean.append(points.mean(),ignore_index=True)"
   ]
  },
  {
   "cell_type": "code",
   "execution_count": null,
   "metadata": {},
   "outputs": [],
   "source": [
    "for con in conf:\n",
    "    sarimax_interval = pd.DataFrame()\n",
    "    intervals = get_historical(con,5)\n",
    "    width = get_width(intervals)\n",
    "    half = width/2\n",
    "    for i in range(len(allpoints_mean)):\n",
    "        upper = allpoints_mean.iloc[i]['pointForcast']+half\n",
    "        lower = allpoints_mean.iloc[i]['pointForcast']-half\n",
    "        sarimax_interval = sarimax_interval.append({'Lower':lower,'Higher':upper},ignore_index=True)\n",
    "    sarimax_interval = sarimax_interval.set_index(date)\n",
    "\n",
    "    hist_points = hist_points.append({'Type':'all point','Confidence':result(sarimax_interval)*100,'Width':get_width(sarimax_interval),'Method':'all point'}, ignore_index=True)"
   ]
  },
  {
   "cell_type": "code",
   "execution_count": null,
   "metadata": {},
   "outputs": [],
   "source": [
    "hist_points"
   ]
  },
  {
   "cell_type": "code",
   "execution_count": null,
   "metadata": {},
   "outputs": [],
   "source": [
    "get_width(allpoint_int)"
   ]
  },
  {
   "cell_type": "code",
   "execution_count": null,
   "metadata": {},
   "outputs": [],
   "source": [
    "test"
   ]
  },
  {
   "cell_type": "code",
   "execution_count": null,
   "metadata": {},
   "outputs": [],
   "source": [
    "tbats_interval = pd.read_excel('AMSexportTbatsHiLoAndErrorfinal.xlsx')"
   ]
  },
  {
   "cell_type": "code",
   "execution_count": null,
   "metadata": {},
   "outputs": [],
   "source": [
    "tbats_interval = tbats_interval.rename(columns={'lo':'Lower','hi':'Higher'})"
   ]
  },
  {
   "cell_type": "code",
   "execution_count": null,
   "metadata": {},
   "outputs": [],
   "source": [
    "interval_set = tbats_interval\n",
    "correct = 0\n",
    "total = 0\n",
    "old_correct = 0\n",
    "for hour in range(24):\n",
    "    for month in range(1,13):\n",
    "        lower,upper = interval_set[(interval_set.index.hour==hour) & (interval_set.index.month==month)].iloc[0].values\n",
    "        points = testset.loc[(testset.dt.dt.hour==hour) & (testset.dt.dt.month==month)]\n",
    "        total += len(points)\n",
    "        correct += points['Temperature'].between(lower,upper).sum()\n",
    "    old_correct = correct\n",
    "print(correct/total)"
   ]
  },
  {
   "cell_type": "code",
   "execution_count": null,
   "metadata": {},
   "outputs": [],
   "source": [
    "get_width(tbats_interval)"
   ]
  },
  {
   "cell_type": "code",
   "execution_count": null,
   "metadata": {},
   "outputs": [],
   "source": [
    "tbats_interval = tbats_interval.set_index(date)"
   ]
  },
  {
   "cell_type": "code",
   "execution_count": null,
   "metadata": {},
   "outputs": [],
   "source": [
    "result(tbats_interval)"
   ]
  },
  {
   "cell_type": "code",
   "execution_count": null,
   "metadata": {},
   "outputs": [],
   "source": [
    "tbats_interval"
   ]
  },
  {
   "cell_type": "code",
   "execution_count": null,
   "metadata": {},
   "outputs": [],
   "source": [
    "tbats_predict = pd.read_excel('AMS_TBATS.xlsx')"
   ]
  },
  {
   "cell_type": "code",
   "execution_count": null,
   "metadata": {},
   "outputs": [],
   "source": [
    "for con in conf:\n",
    "    tbats_interval = pd.DataFrame()\n",
    "    intervals = get_historical(con,5)\n",
    "    for i in range(len(tbats_predict)):\n",
    "        half = get_width(intervals.iloc[i]/2)\n",
    "        upper = tbats_predict.iloc[i]['pointForecast']+half\n",
    "        lower = tbats_predict.iloc[i]['pointForecast']-half\n",
    "        tbats_interval = tbats_interval.append({'Lower':lower,'Higher':upper},ignore_index=True)\n",
    "    tbats_interval = tbats_interval.set_index(date)\n",
    "\n",
    "    hist_points = hist_points.append({'Type':'TBATS 5y width','Confidence':result(sarimax_interval),'Width':get_width(sarimax_interval),'Method':'TBATS 5y'}, ignore_index=True)"
   ]
  },
  {
   "cell_type": "code",
   "execution_count": null,
   "metadata": {},
   "outputs": [],
   "source": [
    "test = test.set_index(date)"
   ]
  },
  {
   "cell_type": "code",
   "execution_count": null,
   "metadata": {},
   "outputs": [],
   "source": [
    "hist_points = hist_points.append({'Type':'Combi','Confidence':result(test),'Width':get_width(test),'Method':'Combi'}, ignore_index=True)"
   ]
  },
  {
   "cell_type": "code",
   "execution_count": null,
   "metadata": {},
   "outputs": [],
   "source": [
    "hist_points"
   ]
  },
  {
   "cell_type": "code",
   "execution_count": null,
   "metadata": {},
   "outputs": [],
   "source": [
    "fg = sns.FacetGrid(data=hist_points, palette=sns.color_palette(),hue='Method', size=5, aspect=1.5)\n",
    "fg.map(plt.scatter,'Confidence', 'Width').add_legend()\n",
    "fg.axes[0,0].plot(optimal_line.Confidence, optimal_line['Width'], marker=\"o\", label='Optimal')\n",
    "plt.title(\"Amsterdam 2020\")\n",
    "plt.xlim(0.50, 1.01)\n",
    "plt.show()"
   ]
  },
  {
   "cell_type": "code",
   "execution_count": null,
   "metadata": {},
   "outputs": [],
   "source": [
    "historic_interval = get_historical(con,5)"
   ]
  },
  {
   "cell_type": "code",
   "execution_count": null,
   "metadata": {},
   "outputs": [],
   "source": [
    "fg = sns.FacetGrid(data=hist_points, palette=sns.color_palette(),hue='Method', size=5, aspect=1.5)\n",
    "fg.map(plt.scatter, 'Confidence', 'Width').add_legend()\n",
    "fg.axes[0,0].plot(final.Confidence, final['Width'], marker=\"o\", label='Optimal')\n",
    "plt.title(\"Amsterdam 2020\")\n",
    "plt.xlim(50, 101)\n",
    "plt.show()"
   ]
  },
  {
   "cell_type": "code",
   "execution_count": null,
   "metadata": {},
   "outputs": [],
   "source": [
    "tbats = pd.read_excel('AMS_TBATS.xlsx')"
   ]
  },
  {
   "cell_type": "code",
   "execution_count": null,
   "metadata": {},
   "outputs": [],
   "source": [
    "tbats = tbats.set_index(testset.index)"
   ]
  },
  {
   "cell_type": "code",
   "execution_count": null,
   "metadata": {},
   "outputs": [],
   "source": [
    "testset = testset[testset['dt'].dt.year==2020]"
   ]
  },
  {
   "cell_type": "code",
   "execution_count": null,
   "metadata": {
    "tags": []
   },
   "outputs": [],
   "source": [
    "testset_mean = pd.DataFrame()\n",
    "for month in range(1,13):\n",
    "    for hour in range(24):  \n",
    "            points = testset.loc[(testset.dt.dt.hour==hour) & (testset.dt.dt.month==month)]\n",
    "            testset_mean = testset_mean.append(points.mean(numeric_only=True), ignore_index=True)\n",
    "testset_mean = testset_mean.set_index(date)"
   ]
  },
  {
   "cell_type": "code",
   "execution_count": null,
   "metadata": {},
   "outputs": [],
   "source": [
    "tbats = tbats.set_index(date)"
   ]
  },
  {
   "cell_type": "code",
   "execution_count": null,
   "metadata": {},
   "outputs": [],
   "source": [
    "testset_mean = testset_mean.reset_index()\n",
    "tbats = tbats.reset_index()\n",
    "ax = testset_mean['Temperature'].plot(legend=True, figsize=(16,8))\n",
    "tbats['pointForecast'].plot(legend=True, title='SARIMAX prediction', ylabel='Temperature')"
   ]
  },
  {
   "cell_type": "code",
   "execution_count": null,
   "metadata": {},
   "outputs": [],
   "source": [
    "ax = testset_mean['Temperature'].plot(legend=True, figsize=(16,8))\n",
    "confidence_prediction['Temperature'].plot(legend=True, title='SARIMAX prediction', ylabel='Temperature')"
   ]
  },
  {
   "cell_type": "code",
   "execution_count": null,
   "metadata": {},
   "outputs": [],
   "source": [
    "conf = get_historical(0.95,5)"
   ]
  },
  {
   "cell_type": "code",
   "execution_count": null,
   "metadata": {},
   "outputs": [],
   "source": [
    "confidence_prediction = pd.DataFrame({'Temperature':conf['Higher']-conf['Lower']})"
   ]
  },
  {
   "cell_type": "code",
   "execution_count": null,
   "metadata": {},
   "outputs": [],
   "source": [
    "confidence_prediction = confidence_prediction.reset_index()"
   ]
  },
  {
   "cell_type": "code",
   "execution_count": null,
   "metadata": {},
   "outputs": [],
   "source": [
    "point = point.reset_index()"
   ]
  },
  {
   "cell_type": "code",
   "execution_count": null,
   "metadata": {},
   "outputs": [],
   "source": [
    "point = point.values"
   ]
  },
  {
   "cell_type": "code",
   "execution_count": null,
   "metadata": {},
   "outputs": [],
   "source": [
    "combined = pd.DataFrame({'TBATS':tbats['pointForecast'],'Temperature':testset_mean['Temperature'],'Historical':point})"
   ]
  },
  {
   "cell_type": "code",
   "execution_count": null,
   "metadata": {},
   "outputs": [],
   "source": [
    "combined"
   ]
  },
  {
   "cell_type": "code",
   "execution_count": null,
   "metadata": {},
   "outputs": [],
   "source": [
    "import plotly.express as px\n",
    "\n",
    "fig = px.line(combined, y=['TBATS','Temperature','Historical'], x=testset_mean.index,labels={'value':\"Temperature\"}, title='Historic interval')\n",
    "\n",
    "fig.show()"
   ]
  },
  {
   "cell_type": "code",
   "execution_count": null,
   "metadata": {},
   "outputs": [],
   "source": [
    "temp"
   ]
  },
  {
   "cell_type": "code",
   "execution_count": null,
   "metadata": {},
   "outputs": [],
   "source": [
    "combined_interval = pd.DataFrame({'Higher TBATS':tbats_interval['Higher'],'Lower TBATS':tbats_interval['Lower'],'Higher Historic':historic_interval['Higher'],'Lower Historic':historic_interval['Lower'],'Actual Temperature':testset_mean['Temperature']})"
   ]
  },
  {
   "cell_type": "code",
   "execution_count": null,
   "metadata": {},
   "outputs": [],
   "source": []
  },
  {
   "cell_type": "code",
   "execution_count": null,
   "metadata": {},
   "outputs": [],
   "source": [
    "combined_interval.columns"
   ]
  },
  {
   "cell_type": "code",
   "execution_count": null,
   "metadata": {},
   "outputs": [],
   "source": [
    "combined_interval"
   ]
  },
  {
   "cell_type": "code",
   "execution_count": null,
   "metadata": {},
   "outputs": [],
   "source": [
    "combined_interval = combined_interval.drop(columns=['index'])"
   ]
  },
  {
   "cell_type": "code",
   "execution_count": null,
   "metadata": {},
   "outputs": [],
   "source": [
    "import plotly.express as px\n",
    "\n",
    "fig = px.line(combined_interval, y=['Higher TBATS',\t'Lower TBATS','Higher Historic','Lower Historic','Actual Temperature'], x=combined_interval.index,labels={'value':\"Temperature\"}, title='Historic interval')\n",
    "\n",
    "fig.show()"
   ]
  },
  {
   "cell_type": "code",
   "execution_count": null,
   "metadata": {},
   "outputs": [],
   "source": []
  }
 ]
}