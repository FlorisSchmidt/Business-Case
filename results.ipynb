{
 "metadata": {
  "language_info": {
   "codemirror_mode": {
    "name": "ipython",
    "version": 3
   },
   "file_extension": ".py",
   "mimetype": "text/x-python",
   "name": "python",
   "nbconvert_exporter": "python",
   "pygments_lexer": "ipython3",
   "version": "3.9.5"
  },
  "orig_nbformat": 2,
  "kernelspec": {
   "name": "python3",
   "display_name": "Python 3.9.5 64-bit"
  },
  "interpreter": {
   "hash": "aee8b7b246df8f9039afb4144a1f6fd8d2ca17a180786b69acc140d282b71a49"
  }
 },
 "nbformat": 4,
 "nbformat_minor": 2,
 "cells": [
  {
   "cell_type": "code",
   "execution_count": 159,
   "metadata": {},
   "outputs": [],
   "source": [
    "import pandas as pd\n",
    "import historic\n",
    "from pathlib import Path\n",
    "import cityRemap"
   ]
  },
  {
   "source": [
    "## import testset"
   ],
   "cell_type": "markdown",
   "metadata": {}
  },
  {
   "cell_type": "code",
   "execution_count": 109,
   "metadata": {
    "tags": []
   },
   "outputs": [],
   "source": [
    "testset = pd.read_csv(Path('extracted/high/AMS.csv'))\n",
    "testset['dt'] = pd.DatetimeIndex(testset.dt)\n",
    "testset = testset[testset['dt'].dt.year==2020]\n",
    "testset = testset[['dt','Temperature']]"
   ]
  },
  {
   "source": [
    "## get date range for tbats"
   ],
   "cell_type": "markdown",
   "metadata": {}
  },
  {
   "cell_type": "code",
   "execution_count": 134,
   "metadata": {},
   "outputs": [],
   "source": [
    "df = pd.DataFrame(\n",
    "        {'dt': pd.date_range('2021-01-01', '2022-01-01', freq='1H', closed='left')})"
   ]
  },
  {
   "cell_type": "code",
   "execution_count": 7,
   "metadata": {},
   "outputs": [],
   "source": [
    "date = pd.DataFrame()\n",
    "for month in range(1,13):\n",
    "    month_data = df[df.dt.dt.month==month]\n",
    "    date = date.append(month_data.iloc[0:24],ignore_index=True)"
   ]
  },
  {
   "cell_type": "code",
   "execution_count": 8,
   "metadata": {},
   "outputs": [],
   "source": [
    "ams_tbats = pd.read_excel('AMSL_ExportGood.xlsx')\n",
    "ams_tbats = ams_tbats[6:]\n",
    "ams_tbats = ams_tbats.set_index(df.dt)\n",
    "ams_tbats = ams_tbats.rename(columns={'pointForcast':'Temperature'})"
   ]
  },
  {
   "source": [
    "## get tbats interval"
   ],
   "cell_type": "markdown",
   "metadata": {}
  },
  {
   "cell_type": "code",
   "execution_count": 9,
   "metadata": {},
   "outputs": [],
   "source": [
    "tbats_interval = pd.DataFrame()\n",
    "for month in range(12):\n",
    "        for hour in range(24):\n",
    "            points = ams_tbats.loc[(ams_tbats.index.hour==hour) & (ams_tbats.index.month==month+1)]\n",
    "            lower = points['Temperature'].quantile(0)\n",
    "            higher = points['Temperature'].quantile(1)\n",
    "            tbats_interval = tbats_interval.append({'Lower':lower,'Higher':higher}, ignore_index=True)\n",
    "tbats_interval = tbats_interval.set_index(date.dt)"
   ]
  },
  {
   "source": [
    "## get histrical interval"
   ],
   "cell_type": "markdown",
   "metadata": {}
  },
  {
   "cell_type": "code",
   "execution_count": 110,
   "metadata": {
    "tags": []
   },
   "outputs": [],
   "source": [
    "historic_interval = pd.DataFrame()\n",
    "historic_data = pd.read_csv('extracted/high/AMS.csv')\n",
    "historic_data.dt = pd.DatetimeIndex(historic_data.dt)\n",
    "historic_data = historic_data[(historic_data.dt.dt.year>2014) & (historic_data.dt.dt.year<2021)]\n",
    "for month in range(1,13):\n",
    "    for hour in range(24):  \n",
    "            points = historic_data.loc[(historic_data.dt.dt.hour==hour) & (historic_data.dt.dt.month==month)]\n",
    "            lower = points['Temperature'].quantile(0.025)\n",
    "            higher = points['Temperature'].quantile(0.975)\n",
    "            historic_interval = historic_interval.append({'Lower':lower,'Higher':higher}, ignore_index=True)\n",
    "historic_interval = historic_interval.set_index(date.dt)"
   ]
  },
  {
   "source": [
    "# evaluate performance"
   ],
   "cell_type": "markdown",
   "metadata": {}
  },
  {
   "cell_type": "code",
   "execution_count": 54,
   "metadata": {
    "tags": []
   },
   "outputs": [],
   "source": [
    "def result(interval_set,offset):\n",
    "    correct = 0\n",
    "    total = 0\n",
    "    old_correct = 0\n",
    "    for hour in range(24):\n",
    "        for month in range(1,13):\n",
    "            upper,lower = interval_set[(interval_set.index.hour==hour) & (interval_set.index.month==month)].iloc[0].values\n",
    "            upper += offset\n",
    "            lower -= offset\n",
    "            points = testset.loc[(testset.dt.dt.hour==hour) & (testset.dt.dt.month==month)]\n",
    "            total += len(points)\n",
    "            correct += points['Temperature'].between(lower,upper).sum()\n",
    "        old_correct = correct\n",
    "    return correct/total"
   ]
  },
  {
   "cell_type": "code",
   "execution_count": 56,
   "metadata": {},
   "outputs": [
    {
     "output_type": "stream",
     "name": "stdout",
     "text": [
      "0.8616803278688525\n"
     ]
    }
   ],
   "source": [
    "print(result(tbats_interval,8))"
   ]
  },
  {
   "cell_type": "code",
   "execution_count": 61,
   "metadata": {},
   "outputs": [
    {
     "output_type": "stream",
     "name": "stdout",
     "text": [
      "0.951844262295082\n"
     ]
    }
   ],
   "source": [
    "print(result(historic_interval,0))"
   ]
  }
 ]
}