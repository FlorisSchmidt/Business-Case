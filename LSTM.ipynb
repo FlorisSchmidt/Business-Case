{
 "metadata": {
  "language_info": {
   "codemirror_mode": {
    "name": "ipython",
    "version": 3
   },
   "file_extension": ".py",
   "mimetype": "text/x-python",
   "name": "python",
   "nbconvert_exporter": "python",
   "pygments_lexer": "ipython3",
   "version": "3.9.5"
  },
  "orig_nbformat": 4,
  "kernelspec": {
   "name": "python3",
   "display_name": "Python 3.9.5 64-bit"
  },
  "interpreter": {
   "hash": "aee8b7b246df8f9039afb4144a1f6fd8d2ca17a180786b69acc140d282b71a49"
  }
 },
 "nbformat": 4,
 "nbformat_minor": 2,
 "cells": [
  {
   "cell_type": "code",
   "execution_count": 2,
   "metadata": {},
   "outputs": [],
   "source": [
    "import os\n",
    "import datetime\n",
    "\n",
    "import matplotlib as mpl\n",
    "import matplotlib.pyplot as plt\n",
    "import numpy as np\n",
    "import pandas as pd\n",
    "import seaborn as sns\n",
    "import tensorflow as tf\n",
    "from keras_tuner.tuners import RandomSearch\n",
    "from keras_tuner import Objective\n",
    "from keras_tuner.engine.hyperparameters import HyperParameters"
   ]
  },
  {
   "cell_type": "code",
   "execution_count": 3,
   "metadata": {},
   "outputs": [],
   "source": [
    "df = pd.read_csv('extracted/high/AMS.csv')\n",
    "df['dt'] = pd.to_datetime(df['dt'])"
   ]
  },
  {
   "cell_type": "code",
   "execution_count": 4,
   "metadata": {},
   "outputs": [],
   "source": [
    "df = df[(df['dt'].dt.year>2008) & (df['dt'].dt.year<2021)]"
   ]
  },
  {
   "cell_type": "code",
   "execution_count": 5,
   "metadata": {},
   "outputs": [],
   "source": [
    "df = df[['dt','Temperature']]\n",
    "date_time = pd.to_datetime(df.pop('dt'))"
   ]
  },
  {
   "cell_type": "code",
   "execution_count": 6,
   "metadata": {},
   "outputs": [],
   "source": [
    "timestamp_s = date_time.map(datetime.datetime.timestamp)\n",
    "\n",
    "day = 24*60*60\n",
    "year = (365.2425)*day\n",
    "\n",
    "df['Day sin'] = np.sin(timestamp_s * (2 * np.pi / day))\n",
    "df['Day cos'] = np.cos(timestamp_s * (2 * np.pi / day))\n",
    "df['Year sin'] = np.sin(timestamp_s * (2 * np.pi / year))\n",
    "df['Year cos'] = np.cos(timestamp_s * (2 * np.pi / year))"
   ]
  },
  {
   "cell_type": "code",
   "execution_count": 7,
   "metadata": {},
   "outputs": [],
   "source": [
    "df = df.set_index(pd.DatetimeIndex(date_time))"
   ]
  },
  {
   "cell_type": "code",
   "execution_count": 10,
   "metadata": {},
   "outputs": [],
   "source": [
    "historic_interval = pd.DataFrame()\n",
    "for year in range(2010,2020):\n",
    "    for month in range(1,13):\n",
    "            for hour in range(24):  \n",
    "                    points = df.loc[(df.index.hour==hour) & (df.index.month==month) & (df.index.year==year)]\n",
    "                    mean = points['Temperature'].mean()\n",
    "                    historic_interval = historic_interval.append({\n",
    "                            'Mean':mean,\n",
    "                            'Day sin':points['Day sin'].mean(),\n",
    "                            'Day cos':points['Day cos'].mean(),\n",
    "                            'Year sin':points['Year sin'].mean(),\n",
    "                            'Year cos':points['Year cos'].mean()}, ignore_index=True)"
   ]
  },
  {
   "cell_type": "code",
   "execution_count": 11,
   "metadata": {},
   "outputs": [],
   "source": [
    "Backward = 12*24\n",
    "Forward = 12*24\n",
    "interest = 'Mean'"
   ]
  },
  {
   "cell_type": "code",
   "execution_count": 13,
   "metadata": {},
   "outputs": [],
   "source": [
    "train_df = historic_interval[:-24*12*4]\n",
    "val_df = historic_interval[-24*12*4:-24*12]\n",
    "test_df = historic_interval[-24*12:]"
   ]
  },
  {
   "cell_type": "code",
   "execution_count": 14,
   "metadata": {},
   "outputs": [
    {
     "output_type": "execute_result",
     "data": {
      "text/plain": [
       "           Day cos       Day sin      Mean  Year cos  Year sin\n",
       "0     9.659258e-01 -2.588190e-01 -0.084194  0.954356  0.256421\n",
       "1     1.000000e+00 -5.187689e-12 -0.171935  0.954172  0.257105\n",
       "2     9.659258e-01  2.588190e-01 -0.290968  0.953988  0.257789\n",
       "3     8.660254e-01  5.000000e-01 -0.377097  0.953803  0.258473\n",
       "4     7.071068e-01  7.071068e-01 -0.746452  0.953617  0.259156\n",
       "...            ...           ...       ...       ...       ...\n",
       "1723 -5.584381e-12 -1.000000e+00  9.032903  0.953706 -0.258828\n",
       "1724  2.588190e-01 -9.659258e-01  8.951935  0.953892 -0.258145\n",
       "1725  5.000000e-01 -8.660254e-01  8.793871  0.954077 -0.257461\n",
       "1726  7.071068e-01 -7.071068e-01  8.674194  0.954261 -0.256777\n",
       "1727  8.660254e-01 -5.000000e-01  8.674839  0.954445 -0.256093\n",
       "\n",
       "[1728 rows x 5 columns]"
      ],
      "text/html": "<div>\n<style scoped>\n    .dataframe tbody tr th:only-of-type {\n        vertical-align: middle;\n    }\n\n    .dataframe tbody tr th {\n        vertical-align: top;\n    }\n\n    .dataframe thead th {\n        text-align: right;\n    }\n</style>\n<table border=\"1\" class=\"dataframe\">\n  <thead>\n    <tr style=\"text-align: right;\">\n      <th></th>\n      <th>Day cos</th>\n      <th>Day sin</th>\n      <th>Mean</th>\n      <th>Year cos</th>\n      <th>Year sin</th>\n    </tr>\n  </thead>\n  <tbody>\n    <tr>\n      <th>0</th>\n      <td>9.659258e-01</td>\n      <td>-2.588190e-01</td>\n      <td>-0.084194</td>\n      <td>0.954356</td>\n      <td>0.256421</td>\n    </tr>\n    <tr>\n      <th>1</th>\n      <td>1.000000e+00</td>\n      <td>-5.187689e-12</td>\n      <td>-0.171935</td>\n      <td>0.954172</td>\n      <td>0.257105</td>\n    </tr>\n    <tr>\n      <th>2</th>\n      <td>9.659258e-01</td>\n      <td>2.588190e-01</td>\n      <td>-0.290968</td>\n      <td>0.953988</td>\n      <td>0.257789</td>\n    </tr>\n    <tr>\n      <th>3</th>\n      <td>8.660254e-01</td>\n      <td>5.000000e-01</td>\n      <td>-0.377097</td>\n      <td>0.953803</td>\n      <td>0.258473</td>\n    </tr>\n    <tr>\n      <th>4</th>\n      <td>7.071068e-01</td>\n      <td>7.071068e-01</td>\n      <td>-0.746452</td>\n      <td>0.953617</td>\n      <td>0.259156</td>\n    </tr>\n    <tr>\n      <th>...</th>\n      <td>...</td>\n      <td>...</td>\n      <td>...</td>\n      <td>...</td>\n      <td>...</td>\n    </tr>\n    <tr>\n      <th>1723</th>\n      <td>-5.584381e-12</td>\n      <td>-1.000000e+00</td>\n      <td>9.032903</td>\n      <td>0.953706</td>\n      <td>-0.258828</td>\n    </tr>\n    <tr>\n      <th>1724</th>\n      <td>2.588190e-01</td>\n      <td>-9.659258e-01</td>\n      <td>8.951935</td>\n      <td>0.953892</td>\n      <td>-0.258145</td>\n    </tr>\n    <tr>\n      <th>1725</th>\n      <td>5.000000e-01</td>\n      <td>-8.660254e-01</td>\n      <td>8.793871</td>\n      <td>0.954077</td>\n      <td>-0.257461</td>\n    </tr>\n    <tr>\n      <th>1726</th>\n      <td>7.071068e-01</td>\n      <td>-7.071068e-01</td>\n      <td>8.674194</td>\n      <td>0.954261</td>\n      <td>-0.256777</td>\n    </tr>\n    <tr>\n      <th>1727</th>\n      <td>8.660254e-01</td>\n      <td>-5.000000e-01</td>\n      <td>8.674839</td>\n      <td>0.954445</td>\n      <td>-0.256093</td>\n    </tr>\n  </tbody>\n</table>\n<p>1728 rows × 5 columns</p>\n</div>"
     },
     "metadata": {},
     "execution_count": 14
    }
   ],
   "source": [
    "train_df"
   ]
  },
  {
   "cell_type": "code",
   "execution_count": 10,
   "metadata": {},
   "outputs": [],
   "source": [
    "train_df = train_df[[interest,'Day sin','Day cos','Year sin','Year cos']]\n",
    "val_df = val_df[[interest,'Day sin','Day cos','Year sin','Year cos']]"
   ]
  },
  {
   "cell_type": "code",
   "execution_count": 11,
   "metadata": {},
   "outputs": [],
   "source": [
    "from sklearn.preprocessing import RobustScaler\n",
    "\n",
    "temp_transformer = RobustScaler()\n",
    "temp_transformer = temp_transformer.fit(train_df[[interest]])\n",
    "train_df[interest] = temp_transformer.transform(train_df[[interest]])\n",
    "val_df[interest] = temp_transformer.transform(val_df[[interest]])"
   ]
  },
  {
   "cell_type": "code",
   "execution_count": 12,
   "metadata": {},
   "outputs": [],
   "source": [
    "train_df = np.array(train_df)\n",
    "val_df = np.array(val_df)\n",
    "test_df = np.array(test_df)"
   ]
  },
  {
   "cell_type": "code",
   "execution_count": 13,
   "metadata": {},
   "outputs": [],
   "source": [
    "X_train, y_train = [],[]\n",
    "for i in range(Backward, len(train_df)-Forward):\n",
    "    X_train.append(train_df[i-Backward:i]) \n",
    "    y_train.append(train_df[i:i+Forward,0])"
   ]
  },
  {
   "cell_type": "code",
   "execution_count": 14,
   "metadata": {},
   "outputs": [],
   "source": [
    "X_train, y_train = np.array(X_train),np.array(y_train)"
   ]
  },
  {
   "cell_type": "code",
   "execution_count": 15,
   "metadata": {},
   "outputs": [
    {
     "output_type": "execute_result",
     "data": {
      "text/plain": [
       "((1152, 288, 5), (1152, 288))"
      ]
     },
     "metadata": {},
     "execution_count": 15
    }
   ],
   "source": [
    "X_train.shape, y_train.shape"
   ]
  },
  {
   "cell_type": "code",
   "execution_count": null,
   "metadata": {},
   "outputs": [],
   "source": []
  },
  {
   "cell_type": "code",
   "execution_count": 16,
   "metadata": {},
   "outputs": [],
   "source": [
    "X_val, y_val = [],[]\n",
    "for i in range(Backward, len(val_df)-Forward):\n",
    "    X_val.append(val_df[i-Backward:i]) \n",
    "    y_val.append(val_df[i:i+Forward,0])"
   ]
  },
  {
   "cell_type": "code",
   "execution_count": 17,
   "metadata": {},
   "outputs": [],
   "source": [
    "X_val, y_val = np.array(X_val),np.array(y_val)"
   ]
  },
  {
   "cell_type": "code",
   "execution_count": 18,
   "metadata": {},
   "outputs": [
    {
     "output_type": "execute_result",
     "data": {
      "text/plain": [
       "((288, 288, 5), (288, 288))"
      ]
     },
     "metadata": {},
     "execution_count": 18
    }
   ],
   "source": [
    "X_val.shape, y_val.shape"
   ]
  },
  {
   "cell_type": "code",
   "execution_count": 40,
   "metadata": {},
   "outputs": [],
   "source": [
    "def build_model(hp):\n",
    "    model = tf.keras.Sequential()\n",
    "    n_layers=hp.Int('n layers', min_value=0, max_value=2, step=1)\n",
    "\n",
    "    if(n_layers!=0):\n",
    "        model.add(\n",
    "            tf.keras.layers.LSTM(\n",
    "                units=hp.Int(name=\"first LSTM\", min_value=100, max_value=1600, step=100),\n",
    "                input_shape=(X_train.shape[1], X_train.shape[2]),return_sequences=True\n",
    "        )) \n",
    "    else:\n",
    "        model.add(\n",
    "            tf.keras.layers.LSTM(\n",
    "                units=hp.Int(name=\"first LSTM\", min_value=100, max_value=1600, step=100),\n",
    "                input_shape=(X_train.shape[1], X_train.shape[2])\n",
    "        )) \n",
    "\n",
    "    for i in range(n_layers):\n",
    "        if(i==n_layers-1):\n",
    "            model.add(\n",
    "            tf.keras.layers.LSTM(\n",
    "                units=hp.Int(name=\"LSTM l{} units\".format(i), min_value=100, max_value=1600, step=100)\n",
    "                )\n",
    "            )\n",
    "        else:\n",
    "            model.add(\n",
    "            tf.keras.layers.LSTM(\n",
    "                units=hp.Int(name=\"LSTM l{} units\".format(i), min_value=100, max_value=1600, step=100)\n",
    "                ,return_sequence=True\n",
    "            )\n",
    "    )\n",
    "\n",
    "    model.add(tf.keras.layers.Dropout(rate=hp.Float(name=\"dropout\",min_value=0, max_value=0.9, step=0.1)))\n",
    "    model.add(tf.keras.layers.Dense(units=Forward))\n",
    "    model.compile(loss='mean_squared_error', optimizer='adam')\n",
    "    return model"
   ]
  },
  {
   "cell_type": "code",
   "execution_count": 41,
   "metadata": {},
   "outputs": [],
   "source": [
    "model = build_model(HyperParameters())"
   ]
  },
  {
   "cell_type": "code",
   "execution_count": 21,
   "metadata": {},
   "outputs": [
    {
     "output_type": "stream",
     "name": "stdout",
     "text": [
      "Trial 3 Complete [00h 03m 22s]\nloss: 0.1451890766620636\n\nBest loss So Far: 0.1451890766620636\nTotal elapsed time: 00h 06m 50s\nINFO:tensorflow:Oracle triggered exit\n"
     ]
    }
   ],
   "source": [
    "tuner = RandomSearch(\n",
    "    build_model,\n",
    "    objective='loss',\n",
    "    max_trials=3,\n",
    "    directory='tuning',\n",
    ")\n",
    "\n",
    "tuner.search(x=X_train,\n",
    "    y=y_train,\n",
    "    epochs=1,\n",
    "    validation_data=(X_val,y_val))"
   ]
  },
  {
   "cell_type": "code",
   "execution_count": null,
   "metadata": {},
   "outputs": [],
   "source": [
    "X_val.shape"
   ]
  },
  {
   "cell_type": "code",
   "execution_count": null,
   "metadata": {},
   "outputs": [],
   "source": [
    "history = model.fit(\n",
    "    X_train, y_train,\n",
    "    epochs=20,\n",
    "    batch_size=32,\n",
    "    validation_data=(X_val, y_val),\n",
    "    shuffle=False\n",
    ")"
   ]
  },
  {
   "cell_type": "code",
   "execution_count": null,
   "metadata": {},
   "outputs": [],
   "source": [
    "plt.plot(history.history['loss'],label='train')\n",
    "plt.plot(history.history['val_loss'],label='validation')\n",
    "plt.legend()"
   ]
  },
  {
   "cell_type": "code",
   "execution_count": null,
   "metadata": {},
   "outputs": [],
   "source": [
    "X_test_final = np.array(val_df)[-12*24:]"
   ]
  },
  {
   "cell_type": "code",
   "execution_count": null,
   "metadata": {},
   "outputs": [],
   "source": [
    "y_pred = model.predict(X_test_final.reshape(1,288,5))"
   ]
  },
  {
   "cell_type": "code",
   "execution_count": null,
   "metadata": {},
   "outputs": [],
   "source": [
    "y_pred_inv = temp_transformer.inverse_transform(y_pred)"
   ]
  },
  {
   "cell_type": "code",
   "execution_count": null,
   "metadata": {},
   "outputs": [],
   "source": [
    "y_pred_inv = y_pred_inv.reshape(288)\n",
    "test_df = test_df.reshape(288)"
   ]
  },
  {
   "cell_type": "code",
   "execution_count": null,
   "metadata": {},
   "outputs": [],
   "source": [
    "results = pd.DataFrame()\n",
    "results['Actual'] = test_df\n",
    "results['Prediction'] = y_pred_inv"
   ]
  },
  {
   "cell_type": "code",
   "execution_count": null,
   "metadata": {},
   "outputs": [],
   "source": [
    "historic_interval = pd.DataFrame()\n",
    "for year in range(2010,2020):\n",
    "    for month in range(1,13):\n",
    "            for hour in range(24):  \n",
    "                    points = df.loc[(df.index.hour==hour) & (df.index.month==month) & (df.index.year==year)]\n",
    "                    mean = points['Temperature'].mean()\n",
    "                    historic_interval = historic_interval.append({\n",
    "                            '':, ignore_index=True)"
   ]
  },
  {
   "cell_type": "code",
   "execution_count": null,
   "metadata": {},
   "outputs": [],
   "source": [
    "print('MAE: {:.2f}'.format(abs(results['Actual'] - results['Prediction']).mean()))\n",
    "print('RMSE: {:.2f}'.format(((results['Actual'] - results['Prediction']) ** 2).mean() ** .5))"
   ]
  },
  {
   "cell_type": "code",
   "execution_count": 1,
   "metadata": {},
   "outputs": [],
   "source": [
    "for i in range(0):\n",
    "    print(i)"
   ]
  },
  {
   "cell_type": "code",
   "execution_count": null,
   "metadata": {},
   "outputs": [],
   "source": []
  }
 ]
}