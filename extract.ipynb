{
 "metadata": {
  "language_info": {
   "codemirror_mode": {
    "name": "ipython",
    "version": 3
   },
   "file_extension": ".py",
   "mimetype": "text/x-python",
   "name": "python",
   "nbconvert_exporter": "python",
   "pygments_lexer": "ipython3",
   "version": "3.9.5"
  },
  "orig_nbformat": 2,
  "kernelspec": {
   "name": "python395jvsc74a57bd0b8bdd4e700647ba2b08c59e5df8b7da1dcf50a218bcd4c1bcd9b3dc92e8788e5",
   "display_name": "Python 3.9.5 64-bit ('3.9')"
  },
  "metadata": {
   "interpreter": {
    "hash": "b8bdd4e700647ba2b08c59e5df8b7da1dcf50a218bcd4c1bcd9b3dc92e8788e5"
   }
  }
 },
 "nbformat": 4,
 "nbformat_minor": 2,
 "cells": [
  {
   "cell_type": "code",
   "execution_count": 1,
   "metadata": {},
   "outputs": [],
   "source": [
    "import pandas as pd\n",
    "import cityRemap\n",
    "import pickle\n",
    "import os\n",
    "from pathlib import Path"
   ]
  },
  {
   "cell_type": "code",
   "execution_count": 2,
   "metadata": {},
   "outputs": [],
   "source": [
    "high = pd.read_csv(\"Materials/MeteoBlue_all-variables-incl-radiation/dataexport_20210422T200404_all-vars_hi-res.csv\", low_memory=False);\n",
    "low = pd.read_csv(\"Materials/MeteoBlue_all-variables-incl-radiation/dataexport_20210422T202657_all-vars_lo-res.csv\", low_memory=False);\n",
    "high = high.set_index('location');\n",
    "low = low.set_index('location');"
   ]
  },
  {
   "cell_type": "code",
   "execution_count": 3,
   "metadata": {},
   "outputs": [],
   "source": [
    "def clean(data,i):\n",
    "    if not os.path.isdir('high'):\n",
    "        os.mkdir('high')\n",
    "    if not os.path.isdir('low'):\n",
    "        os.mkdir('low') \n",
    "    if not os.path.isdir('combined'):\n",
    "        os.mkdir('combined') \n",
    "    \n",
    "    city = data.iloc[:,[i]].columns[0]\n",
    "    city_cols = [col for col in data.columns if city in col]\n",
    "    city_data = data[city_cols].iloc[3:]\n",
    "    city_name = city_data.columns[0]\n",
    "    city_data.columns = city_data.iloc[0] + \" \" + city_data.iloc[2]\n",
    "    city_data = city_data.iloc[6:]\n",
    "    city_data = city_data.astype(float)\n",
    "    city_data.index = pd.to_datetime(city_data.index)\n",
    "    return city_data,city_name"
   ]
  },
  {
   "cell_type": "code",
   "execution_count": 4,
   "metadata": {},
   "outputs": [],
   "source": [
    "def extract_city(i):\n",
    "    high_city,city_name = clean(high,i)\n",
    "    low_city,city_name = clean(low,i)\n",
    "\n",
    "    file = open(Path('high/{}.pk'.format(cityRemap.remaped.get(city_name))),'wb')\n",
    "    pickle.dump(high_city,file)\n",
    "    file = open(Path('low/{}.pk'.format(cityRemap.remaped.get(city_name))),'wb')\n",
    "    pickle.dump(low_city,file)\n",
    "\n",
    "    for i in high_city:\n",
    "        new = high_city[i].dropna()\n",
    "        low_city[i].loc[new.index] = new\n",
    "\n",
    "    file = open(Path('combined/{}.pk'.format(cityRemap.remaped.get(city_name))),'wb')\n",
    "    pickle.dump(low_city,file)"
   ]
  },
  {
   "cell_type": "code",
   "execution_count": 6,
   "metadata": {},
   "outputs": [
    {
     "output_type": "stream",
     "name": "stdout",
     "text": [
      "Jorge Chávez International Airport\n",
      "LIM\n",
      "Frankfurt am Main\n",
      "FRA\n",
      "Brussels\n",
      "BRU\n",
      "Amsterdam\n",
      "AMS\n",
      "Dubai International Airport\n",
      "DXB\n",
      "Begumpet Airport\n",
      "HYD\n",
      "Shanghai Pudong International Airport\n",
      "PVG\n",
      "Chicago O'Hare International Airport\n",
      "ORD\n",
      "Comodoro Arturo Merino Benítez International Airport\n",
      "SCL\n",
      "O.R. Tambo International Airport\n",
      "JNB\n"
     ]
    }
   ],
   "source": [
    "for i in range(10):\n",
    "    extract_city(i)"
   ]
  },
  {
   "cell_type": "code",
   "execution_count": null,
   "metadata": {},
   "outputs": [],
   "source": [
    "for i in range(1):\n",
    "    city = data.iloc[:,[i]].columns[0]\n",
    "    city_cols = [col for col in data.columns if city in col]\n",
    "    city_data = data[city_cols].iloc[3:]"
   ]
  },
  {
   "cell_type": "code",
   "execution_count": null,
   "metadata": {},
   "outputs": [],
   "source": [
    "city = data.iloc[:,[1]].columns[0]\n",
    "city_cols = [col for col in data.columns if city in col]\n",
    "city_data = data[city_cols]\n",
    "city_data.columns = city_data.iloc[3]"
   ]
  },
  {
   "cell_type": "code",
   "execution_count": null,
   "metadata": {},
   "outputs": [],
   "source": [
    "file = open('combined/LIM.pk','rb')\n",
    "data = pickle.load(file)"
   ]
  },
  {
   "cell_type": "code",
   "execution_count": null,
   "metadata": {},
   "outputs": [],
   "source": [
    "data.isna().sum()"
   ]
  },
  {
   "cell_type": "code",
   "execution_count": null,
   "metadata": {},
   "outputs": [],
   "source": []
  }
 ]
}